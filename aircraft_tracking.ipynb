{
  "nbformat": 4,
  "nbformat_minor": 0,
  "metadata": {
    "colab": {
      "name": "aircraft_tracking.ipynb",
      "provenance": [],
      "collapsed_sections": [],
      "mount_file_id": "1SeGV8aAU6f9eg3xMYuoAD-jlh3FL379b",
      "authorship_tag": "ABX9TyNO5jL75Nt7fZJICs3TflL8",
      "include_colab_link": true
    },
    "kernelspec": {
      "name": "python3",
      "display_name": "Python 3"
    },
    "language_info": {
      "name": "python"
    }
  },
  "cells": [
    {
      "cell_type": "markdown",
      "metadata": {
        "id": "view-in-github",
        "colab_type": "text"
      },
      "source": [
        "<a href=\"https://colab.research.google.com/github/MedadRufus/aircraft-tracking-WSPR/blob/main/aircraft_tracking.ipynb\" target=\"_parent\"><img src=\"https://colab.research.google.com/assets/colab-badge.svg\" alt=\"Open In Colab\"/></a>"
      ]
    },
    {
      "cell_type": "markdown",
      "metadata": {
        "id": "8xS6jsYmsipv"
      },
      "source": [
        "# Mount local drive"
      ]
    },
    {
      "cell_type": "code",
      "metadata": {
        "colab": {
          "base_uri": "https://localhost:8080/"
        },
        "id": "f4GPMfWwqLUR",
        "outputId": "9e8eed31-081e-41d0-834c-b5a1a24f8587"
      },
      "source": [
        "import os\n",
        "from google.colab import drive\n",
        "drive.mount('/content/drive')"
      ],
      "execution_count": 188,
      "outputs": [
        {
          "output_type": "stream",
          "name": "stdout",
          "text": [
            "Drive already mounted at /content/drive; to attempt to forcibly remount, call drive.mount(\"/content/drive\", force_remount=True).\n"
          ]
        }
      ]
    },
    {
      "cell_type": "markdown",
      "metadata": {
        "id": "rpU9qe17spcR"
      },
      "source": [
        "# Install dependencies"
      ]
    },
    {
      "cell_type": "code",
      "metadata": {
        "colab": {
          "base_uri": "https://localhost:8080/"
        },
        "id": "o__qdOEgseQD",
        "outputId": "bb3ab571-7916-403f-a6a7-edea16b8d8ea"
      },
      "source": [
        "!pip install maidenhead"
      ],
      "execution_count": 189,
      "outputs": [
        {
          "output_type": "stream",
          "name": "stdout",
          "text": [
            "Requirement already satisfied: maidenhead in /usr/local/lib/python3.7/dist-packages (1.6.0)\n"
          ]
        }
      ]
    },
    {
      "cell_type": "markdown",
      "metadata": {
        "id": "up5HcawOsv3V"
      },
      "source": [
        "# Imports"
      ]
    },
    {
      "cell_type": "code",
      "metadata": {
        "id": "21W5zvLnkPzA"
      },
      "source": [
        "import pandas as pd\n",
        "import maidenhead as mh\n",
        "import seaborn as sns\n",
        "sns.set(rc={'figure.figsize':(11.7,8.27)})"
      ],
      "execution_count": 190,
      "outputs": []
    },
    {
      "cell_type": "code",
      "metadata": {
        "id": "7xflKd7-lNc8"
      },
      "source": [
        "headers = [\"Spot_ID\", \"Timestamp\", \"Reporter\", \"Reporter_Grid\", \"SNR\", \"Frequency\", \"Call_Sign\", \"Grid\", \"Power (dBm)\", \"Drift (Hz/s)\", \"Distance (km)\", \"Azimuth\", \"Band\", \"Version\", \"Code\"]\n",
        "df = pd.read_csv(\"/content/drive/MyDrive/wsprspots-2014-03.csv.gz\", names=headers, nrows = 1000000)"
      ],
      "execution_count": 191,
      "outputs": []
    },
    {
      "cell_type": "markdown",
      "metadata": {
        "id": "4m0GnVbhr_yc"
      },
      "source": [
        "Convert Maidenhead locator to GPS Coordinates(WSG85)"
      ]
    },
    {
      "cell_type": "code",
      "metadata": {
        "id": "-3EBGjP4sF81"
      },
      "source": [
        "def maidenhead_to_wsg85(string):\n",
        "  latitude, longitude  = mh.to_location(string, center=True)\n",
        "  return longitude, latitude"
      ],
      "execution_count": 192,
      "outputs": []
    },
    {
      "cell_type": "code",
      "metadata": {
        "id": "TCgAepgDtMz3"
      },
      "source": [
        "receiver_gps_coordinates = df.apply(lambda row: maidenhead_to_wsg85(row.Reporter_Grid), axis='columns', result_type='expand')\n",
        "receiver_gps_coordinates.rename(columns={0:\"Receiver_Longitude\", 1:\"Receiver_Latitude\"}, inplace=True)\n",
        "transmitter_gps_coordinates = df.apply(lambda row: maidenhead_to_wsg85(row.Grid), axis='columns', result_type='expand')\n",
        "transmitter_gps_coordinates.rename(columns={0:\"Transmitter_Longitude\", 1:\"Transmitter_Latitude\"}, inplace=True)"
      ],
      "execution_count": 193,
      "outputs": []
    },
    {
      "cell_type": "code",
      "metadata": {
        "id": "VTnOrJ1GtRhi"
      },
      "source": [
        "df = pd.concat([df, receiver_gps_coordinates], axis='columns')\n",
        "df = pd.concat([df, transmitter_gps_coordinates], axis='columns')"
      ],
      "execution_count": 194,
      "outputs": []
    },
    {
      "cell_type": "markdown",
      "metadata": {
        "id": "mVFBwOHyxxrl"
      },
      "source": [
        "Convert Timestamp"
      ]
    },
    {
      "cell_type": "code",
      "metadata": {
        "id": "tVq6ot9txzWU"
      },
      "source": [
        "df['Timestamp'] = pd.to_datetime(df['Timestamp'],unit='s')"
      ],
      "execution_count": 195,
      "outputs": []
    },
    {
      "cell_type": "markdown",
      "metadata": {
        "id": "_Kqa3nW5yKZ-"
      },
      "source": [
        "Now lets look at the data"
      ]
    },
    {
      "cell_type": "code",
      "metadata": {
        "colab": {
          "base_uri": "https://localhost:8080/",
          "height": 574
        },
        "id": "noszj5cMx1wF",
        "outputId": "02661c57-2efd-4884-94f8-7240c788661f"
      },
      "source": [
        "df.sample(n=10)"
      ],
      "execution_count": 196,
      "outputs": [
        {
          "output_type": "execute_result",
          "data": {
            "text/html": [
              "<div>\n",
              "<style scoped>\n",
              "    .dataframe tbody tr th:only-of-type {\n",
              "        vertical-align: middle;\n",
              "    }\n",
              "\n",
              "    .dataframe tbody tr th {\n",
              "        vertical-align: top;\n",
              "    }\n",
              "\n",
              "    .dataframe thead th {\n",
              "        text-align: right;\n",
              "    }\n",
              "</style>\n",
              "<table border=\"1\" class=\"dataframe\">\n",
              "  <thead>\n",
              "    <tr style=\"text-align: right;\">\n",
              "      <th></th>\n",
              "      <th>Spot_ID</th>\n",
              "      <th>Timestamp</th>\n",
              "      <th>Reporter</th>\n",
              "      <th>Reporter_Grid</th>\n",
              "      <th>SNR</th>\n",
              "      <th>Frequency</th>\n",
              "      <th>Call_Sign</th>\n",
              "      <th>Grid</th>\n",
              "      <th>Power (dBm)</th>\n",
              "      <th>Drift (Hz/s)</th>\n",
              "      <th>Distance (km)</th>\n",
              "      <th>Azimuth</th>\n",
              "      <th>Band</th>\n",
              "      <th>Version</th>\n",
              "      <th>Code</th>\n",
              "      <th>Receiver_Longitude</th>\n",
              "      <th>Receiver_Latitude</th>\n",
              "      <th>Transmitter_Longitude</th>\n",
              "      <th>Transmitter_Latitude</th>\n",
              "    </tr>\n",
              "  </thead>\n",
              "  <tbody>\n",
              "    <tr>\n",
              "      <th>12715</th>\n",
              "      <td>184577240</td>\n",
              "      <td>2014-03-01 01:32:00</td>\n",
              "      <td>N2BJW</td>\n",
              "      <td>FN34im</td>\n",
              "      <td>-14</td>\n",
              "      <td>7.040013</td>\n",
              "      <td>DC4LC</td>\n",
              "      <td>JN48np</td>\n",
              "      <td>30</td>\n",
              "      <td>0</td>\n",
              "      <td>5999</td>\n",
              "      <td>299</td>\n",
              "      <td>7</td>\n",
              "      <td>0.8_r3058</td>\n",
              "      <td>0</td>\n",
              "      <td>-73.291667</td>\n",
              "      <td>44.520833</td>\n",
              "      <td>9.125000</td>\n",
              "      <td>48.645833</td>\n",
              "    </tr>\n",
              "    <tr>\n",
              "      <th>845783</th>\n",
              "      <td>185210662</td>\n",
              "      <td>2014-03-04 07:58:00</td>\n",
              "      <td>VK4ZBV</td>\n",
              "      <td>QG62ml</td>\n",
              "      <td>-19</td>\n",
              "      <td>14.097076</td>\n",
              "      <td>2E0DWP</td>\n",
              "      <td>IO81rr</td>\n",
              "      <td>37</td>\n",
              "      <td>1</td>\n",
              "      <td>16640</td>\n",
              "      <td>47</td>\n",
              "      <td>14</td>\n",
              "      <td>0.8_r3058</td>\n",
              "      <td>0</td>\n",
              "      <td>153.041667</td>\n",
              "      <td>-27.520833</td>\n",
              "      <td>-2.541667</td>\n",
              "      <td>51.729167</td>\n",
              "    </tr>\n",
              "    <tr>\n",
              "      <th>324381</th>\n",
              "      <td>184678275</td>\n",
              "      <td>2014-03-02 09:36:00</td>\n",
              "      <td>4X1RF</td>\n",
              "      <td>KM72ls</td>\n",
              "      <td>-12</td>\n",
              "      <td>14.097077</td>\n",
              "      <td>HB9CZF</td>\n",
              "      <td>JN47ch</td>\n",
              "      <td>30</td>\n",
              "      <td>-1</td>\n",
              "      <td>2770</td>\n",
              "      <td>116</td>\n",
              "      <td>14</td>\n",
              "      <td>0.8_r3058</td>\n",
              "      <td>0</td>\n",
              "      <td>34.958333</td>\n",
              "      <td>32.770833</td>\n",
              "      <td>8.208333</td>\n",
              "      <td>47.312500</td>\n",
              "    </tr>\n",
              "    <tr>\n",
              "      <th>333673</th>\n",
              "      <td>184689360</td>\n",
              "      <td>2014-03-02 10:20:00</td>\n",
              "      <td>LA3JJ</td>\n",
              "      <td>JO59bh</td>\n",
              "      <td>-3</td>\n",
              "      <td>18.106131</td>\n",
              "      <td>DL1FX</td>\n",
              "      <td>JN49gr</td>\n",
              "      <td>20</td>\n",
              "      <td>0</td>\n",
              "      <td>1070</td>\n",
              "      <td>5</td>\n",
              "      <td>18</td>\n",
              "      <td>4.0 **K3-M</td>\n",
              "      <td>0</td>\n",
              "      <td>10.125000</td>\n",
              "      <td>59.312500</td>\n",
              "      <td>8.541667</td>\n",
              "      <td>49.729167</td>\n",
              "    </tr>\n",
              "    <tr>\n",
              "      <th>195354</th>\n",
              "      <td>184547243</td>\n",
              "      <td>2014-03-01 19:24:00</td>\n",
              "      <td>SM6/OZ6F</td>\n",
              "      <td>JO67ra</td>\n",
              "      <td>-2</td>\n",
              "      <td>14.097118</td>\n",
              "      <td>EA2COA</td>\n",
              "      <td>IN82</td>\n",
              "      <td>23</td>\n",
              "      <td>-1</td>\n",
              "      <td>1994</td>\n",
              "      <td>30</td>\n",
              "      <td>14</td>\n",
              "      <td>2.12_r3617</td>\n",
              "      <td>0</td>\n",
              "      <td>13.458333</td>\n",
              "      <td>57.020833</td>\n",
              "      <td>-3.000000</td>\n",
              "      <td>42.500000</td>\n",
              "    </tr>\n",
              "    <tr>\n",
              "      <th>800549</th>\n",
              "      <td>185165863</td>\n",
              "      <td>2014-03-04 03:14:00</td>\n",
              "      <td>4X1RF</td>\n",
              "      <td>KM72ls</td>\n",
              "      <td>-2</td>\n",
              "      <td>14.097092</td>\n",
              "      <td>F1IRJ</td>\n",
              "      <td>JN23wg</td>\n",
              "      <td>30</td>\n",
              "      <td>0</td>\n",
              "      <td>2784</td>\n",
              "      <td>105</td>\n",
              "      <td>14</td>\n",
              "      <td>NaN</td>\n",
              "      <td>0</td>\n",
              "      <td>34.958333</td>\n",
              "      <td>32.770833</td>\n",
              "      <td>5.875000</td>\n",
              "      <td>43.270833</td>\n",
              "    </tr>\n",
              "    <tr>\n",
              "      <th>903398</th>\n",
              "      <td>185269064</td>\n",
              "      <td>2014-03-04 12:26:00</td>\n",
              "      <td>HB9TJM</td>\n",
              "      <td>JN36fq</td>\n",
              "      <td>-26</td>\n",
              "      <td>28.126109</td>\n",
              "      <td>F2WA</td>\n",
              "      <td>JN38rm</td>\n",
              "      <td>37</td>\n",
              "      <td>0</td>\n",
              "      <td>217</td>\n",
              "      <td>201</td>\n",
              "      <td>28</td>\n",
              "      <td>2.11_r2263</td>\n",
              "      <td>0</td>\n",
              "      <td>6.458333</td>\n",
              "      <td>46.687500</td>\n",
              "      <td>7.458333</td>\n",
              "      <td>48.520833</td>\n",
              "    </tr>\n",
              "    <tr>\n",
              "      <th>530781</th>\n",
              "      <td>184890021</td>\n",
              "      <td>2014-03-03 01:10:00</td>\n",
              "      <td>KC3BWN</td>\n",
              "      <td>FM19</td>\n",
              "      <td>-12</td>\n",
              "      <td>14.097159</td>\n",
              "      <td>AA7FV</td>\n",
              "      <td>DM42pg</td>\n",
              "      <td>33</td>\n",
              "      <td>0</td>\n",
              "      <td>3118</td>\n",
              "      <td>66</td>\n",
              "      <td>14</td>\n",
              "      <td>0.8_r3058</td>\n",
              "      <td>0</td>\n",
              "      <td>-77.000000</td>\n",
              "      <td>39.500000</td>\n",
              "      <td>-110.708333</td>\n",
              "      <td>32.270833</td>\n",
              "    </tr>\n",
              "    <tr>\n",
              "      <th>61691</th>\n",
              "      <td>184415848</td>\n",
              "      <td>2014-03-01 08:26:00</td>\n",
              "      <td>G4NKX</td>\n",
              "      <td>IO90mt</td>\n",
              "      <td>0</td>\n",
              "      <td>14.097099</td>\n",
              "      <td>SM6/OZ6F</td>\n",
              "      <td>JO67ra</td>\n",
              "      <td>37</td>\n",
              "      <td>-1</td>\n",
              "      <td>1166</td>\n",
              "      <td>240</td>\n",
              "      <td>14</td>\n",
              "      <td>2.0_r1714</td>\n",
              "      <td>0</td>\n",
              "      <td>-0.958333</td>\n",
              "      <td>50.812500</td>\n",
              "      <td>13.458333</td>\n",
              "      <td>57.020833</td>\n",
              "    </tr>\n",
              "    <tr>\n",
              "      <th>416</th>\n",
              "      <td>184355017</td>\n",
              "      <td>2014-03-01 00:02:00</td>\n",
              "      <td>OH8GKP</td>\n",
              "      <td>KP24rt</td>\n",
              "      <td>-26</td>\n",
              "      <td>3.594044</td>\n",
              "      <td>OE6PWD</td>\n",
              "      <td>JN77rb</td>\n",
              "      <td>37</td>\n",
              "      <td>0</td>\n",
              "      <td>2064</td>\n",
              "      <td>13</td>\n",
              "      <td>3</td>\n",
              "      <td>2.21_r2286</td>\n",
              "      <td>0</td>\n",
              "      <td>25.458333</td>\n",
              "      <td>64.812500</td>\n",
              "      <td>15.458333</td>\n",
              "      <td>47.062500</td>\n",
              "    </tr>\n",
              "  </tbody>\n",
              "</table>\n",
              "</div>"
            ],
            "text/plain": [
              "          Spot_ID  ... Transmitter_Latitude\n",
              "12715   184577240  ...            48.645833\n",
              "845783  185210662  ...            51.729167\n",
              "324381  184678275  ...            47.312500\n",
              "333673  184689360  ...            49.729167\n",
              "195354  184547243  ...            42.500000\n",
              "800549  185165863  ...            43.270833\n",
              "903398  185269064  ...            48.520833\n",
              "530781  184890021  ...            32.270833\n",
              "61691   184415848  ...            57.020833\n",
              "416     184355017  ...            47.062500\n",
              "\n",
              "[10 rows x 19 columns]"
            ]
          },
          "metadata": {},
          "execution_count": 196
        }
      ]
    },
    {
      "cell_type": "markdown",
      "metadata": {
        "id": "UClecAB5yzOB"
      },
      "source": [
        "Histogram of all parameters"
      ]
    },
    {
      "cell_type": "code",
      "metadata": {
        "colab": {
          "base_uri": "https://localhost:8080/",
          "height": 1000
        },
        "id": "A27jN1x4x2Vu",
        "outputId": "b63c9e16-7021-4d6b-8c99-6df3ff1f97e0"
      },
      "source": [
        "df.hist(figsize=(12,12))"
      ],
      "execution_count": 197,
      "outputs": [
        {
          "output_type": "execute_result",
          "data": {
            "text/plain": [
              "array([[<matplotlib.axes._subplots.AxesSubplot object at 0x7f16f9525190>,\n",
              "        <matplotlib.axes._subplots.AxesSubplot object at 0x7f16dfb34b90>,\n",
              "        <matplotlib.axes._subplots.AxesSubplot object at 0x7f167f84b050>,\n",
              "        <matplotlib.axes._subplots.AxesSubplot object at 0x7f16e4f82bd0>],\n",
              "       [<matplotlib.axes._subplots.AxesSubplot object at 0x7f169eb8b450>,\n",
              "        <matplotlib.axes._subplots.AxesSubplot object at 0x7f16f294c650>,\n",
              "        <matplotlib.axes._subplots.AxesSubplot object at 0x7f16f296ae90>,\n",
              "        <matplotlib.axes._subplots.AxesSubplot object at 0x7f16e409dd90>],\n",
              "       [<matplotlib.axes._subplots.AxesSubplot object at 0x7f16e585a450>,\n",
              "        <matplotlib.axes._subplots.AxesSubplot object at 0x7f16d1be9190>,\n",
              "        <matplotlib.axes._subplots.AxesSubplot object at 0x7f16e586d9d0>,\n",
              "        <matplotlib.axes._subplots.AxesSubplot object at 0x7f16c8db6e50>],\n",
              "       [<matplotlib.axes._subplots.AxesSubplot object at 0x7f16d2fb3a50>,\n",
              "        <matplotlib.axes._subplots.AxesSubplot object at 0x7f16e078c390>,\n",
              "        <matplotlib.axes._subplots.AxesSubplot object at 0x7f16cd46e9d0>,\n",
              "        <matplotlib.axes._subplots.AxesSubplot object at 0x7f16f2771510>]],\n",
              "      dtype=object)"
            ]
          },
          "metadata": {},
          "execution_count": 197
        },
        {
          "output_type": "display_data",
          "data": {
            "image/png": "[encoded data removed]",
            "text/plain": [
              "<Figure size 864x864 with 16 Axes>"
            ]
          },
          "metadata": {}
        }
      ]
    },
    {
      "cell_type": "markdown",
      "metadata": {
        "id": "PMYuWeBP0DjC"
      },
      "source": [
        "Looks to me that the granularity of the SNR values are only 1. And the granularity of drift is 1 hz/s. I wonder how much info we can get out of it, let alone detect abnormalies. "
      ]
    },
    {
      "cell_type": "code",
      "metadata": {
        "colab": {
          "base_uri": "https://localhost:8080/"
        },
        "id": "HtznQcqM0iun",
        "outputId": "77efcef9-f95f-4c8b-c892-91ec8f8af24c"
      },
      "source": [
        "df.info()"
      ],
      "execution_count": 198,
      "outputs": [
        {
          "output_type": "stream",
          "name": "stdout",
          "text": [
            "<class 'pandas.core.frame.DataFrame'>\n",
            "RangeIndex: 1000000 entries, 0 to 999999\n",
            "Data columns (total 19 columns):\n",
            " #   Column                 Non-Null Count    Dtype         \n",
            "---  ------                 --------------    -----         \n",
            " 0   Spot_ID                1000000 non-null  int64         \n",
            " 1   Timestamp              1000000 non-null  datetime64[ns]\n",
            " 2   Reporter               1000000 non-null  object        \n",
            " 3   Reporter_Grid          1000000 non-null  object        \n",
            " 4   SNR                    1000000 non-null  int64         \n",
            " 5   Frequency              1000000 non-null  float64       \n",
            " 6   Call_Sign              1000000 non-null  object        \n",
            " 7   Grid                   1000000 non-null  object        \n",
            " 8   Power (dBm)            1000000 non-null  int64         \n",
            " 9   Drift (Hz/s)           1000000 non-null  int64         \n",
            " 10  Distance (km)          1000000 non-null  int64         \n",
            " 11  Azimuth                1000000 non-null  int64         \n",
            " 12  Band                   1000000 non-null  int64         \n",
            " 13  Version                935875 non-null   object        \n",
            " 14  Code                   1000000 non-null  int64         \n",
            " 15  Receiver_Longitude     1000000 non-null  float64       \n",
            " 16  Receiver_Latitude      1000000 non-null  float64       \n",
            " 17  Transmitter_Longitude  1000000 non-null  float64       \n",
            " 18  Transmitter_Latitude   1000000 non-null  float64       \n",
            "dtypes: datetime64[ns](1), float64(5), int64(8), object(5)\n",
            "memory usage: 145.0+ MB\n"
          ]
        }
      ]
    },
    {
      "cell_type": "code",
      "metadata": {
        "colab": {
          "base_uri": "https://localhost:8080/",
          "height": 320
        },
        "id": "Rq1mQ01p0n90",
        "outputId": "9528f8bc-7a4a-4237-f25e-e1c03f8d4354"
      },
      "source": [
        "df.describe()"
      ],
      "execution_count": 199,
      "outputs": [
        {
          "output_type": "execute_result",
          "data": {
            "text/html": [
              "<div>\n",
              "<style scoped>\n",
              "    .dataframe tbody tr th:only-of-type {\n",
              "        vertical-align: middle;\n",
              "    }\n",
              "\n",
              "    .dataframe tbody tr th {\n",
              "        vertical-align: top;\n",
              "    }\n",
              "\n",
              "    .dataframe thead th {\n",
              "        text-align: right;\n",
              "    }\n",
              "</style>\n",
              "<table border=\"1\" class=\"dataframe\">\n",
              "  <thead>\n",
              "    <tr style=\"text-align: right;\">\n",
              "      <th></th>\n",
              "      <th>Spot_ID</th>\n",
              "      <th>SNR</th>\n",
              "      <th>Frequency</th>\n",
              "      <th>Power (dBm)</th>\n",
              "      <th>Drift (Hz/s)</th>\n",
              "      <th>Distance (km)</th>\n",
              "      <th>Azimuth</th>\n",
              "      <th>Band</th>\n",
              "      <th>Code</th>\n",
              "      <th>Receiver_Longitude</th>\n",
              "      <th>Receiver_Latitude</th>\n",
              "      <th>Transmitter_Longitude</th>\n",
              "      <th>Transmitter_Latitude</th>\n",
              "    </tr>\n",
              "  </thead>\n",
              "  <tbody>\n",
              "    <tr>\n",
              "      <th>count</th>\n",
              "      <td>1.000000e+06</td>\n",
              "      <td>1000000.000000</td>\n",
              "      <td>1000000.000000</td>\n",
              "      <td>1000000.000000</td>\n",
              "      <td>1000000.000000</td>\n",
              "      <td>1000000.000000</td>\n",
              "      <td>1000000.000000</td>\n",
              "      <td>1000000.000000</td>\n",
              "      <td>1000000.0</td>\n",
              "      <td>1000000.000000</td>\n",
              "      <td>1000000.000000</td>\n",
              "      <td>1000000.000000</td>\n",
              "      <td>1000000.000000</td>\n",
              "    </tr>\n",
              "    <tr>\n",
              "      <th>mean</th>\n",
              "      <td>1.849458e+08</td>\n",
              "      <td>-12.467126</td>\n",
              "      <td>14.615402</td>\n",
              "      <td>32.153686</td>\n",
              "      <td>-0.066674</td>\n",
              "      <td>2618.539145</td>\n",
              "      <td>171.643362</td>\n",
              "      <td>14.438663</td>\n",
              "      <td>0.0</td>\n",
              "      <td>-19.397647</td>\n",
              "      <td>44.651549</td>\n",
              "      <td>-20.148093</td>\n",
              "      <td>44.463276</td>\n",
              "    </tr>\n",
              "    <tr>\n",
              "      <th>std</th>\n",
              "      <td>2.186391e+06</td>\n",
              "      <td>9.502580</td>\n",
              "      <td>13.178481</td>\n",
              "      <td>6.387571</td>\n",
              "      <td>0.623491</td>\n",
              "      <td>2990.077988</td>\n",
              "      <td>112.358940</td>\n",
              "      <td>13.206827</td>\n",
              "      <td>0.0</td>\n",
              "      <td>59.122049</td>\n",
              "      <td>16.962371</td>\n",
              "      <td>56.563487</td>\n",
              "      <td>15.558434</td>\n",
              "    </tr>\n",
              "    <tr>\n",
              "      <th>min</th>\n",
              "      <td>1.843546e+08</td>\n",
              "      <td>-40.000000</td>\n",
              "      <td>0.001497</td>\n",
              "      <td>0.000000</td>\n",
              "      <td>-4.000000</td>\n",
              "      <td>0.000000</td>\n",
              "      <td>0.000000</td>\n",
              "      <td>-1.000000</td>\n",
              "      <td>0.0</td>\n",
              "      <td>-157.791667</td>\n",
              "      <td>-43.104167</td>\n",
              "      <td>-179.000000</td>\n",
              "      <td>-89.500000</td>\n",
              "    </tr>\n",
              "    <tr>\n",
              "      <th>25%</th>\n",
              "      <td>1.846087e+08</td>\n",
              "      <td>-20.000000</td>\n",
              "      <td>10.140141</td>\n",
              "      <td>30.000000</td>\n",
              "      <td>0.000000</td>\n",
              "      <td>693.000000</td>\n",
              "      <td>59.000000</td>\n",
              "      <td>10.000000</td>\n",
              "      <td>0.0</td>\n",
              "      <td>-78.041667</td>\n",
              "      <td>39.312500</td>\n",
              "      <td>-78.708333</td>\n",
              "      <td>39.645833</td>\n",
              "    </tr>\n",
              "    <tr>\n",
              "      <th>50%</th>\n",
              "      <td>1.848682e+08</td>\n",
              "      <td>-14.000000</td>\n",
              "      <td>14.097017</td>\n",
              "      <td>33.000000</td>\n",
              "      <td>0.000000</td>\n",
              "      <td>1320.000000</td>\n",
              "      <td>163.000000</td>\n",
              "      <td>14.000000</td>\n",
              "      <td>0.0</td>\n",
              "      <td>4.208333</td>\n",
              "      <td>49.229167</td>\n",
              "      <td>0.125000</td>\n",
              "      <td>49.062500</td>\n",
              "    </tr>\n",
              "    <tr>\n",
              "      <th>75%</th>\n",
              "      <td>1.851232e+08</td>\n",
              "      <td>-6.000000</td>\n",
              "      <td>14.097169</td>\n",
              "      <td>37.000000</td>\n",
              "      <td>0.000000</td>\n",
              "      <td>3279.000000</td>\n",
              "      <td>287.000000</td>\n",
              "      <td>14.000000</td>\n",
              "      <td>0.0</td>\n",
              "      <td>11.125000</td>\n",
              "      <td>52.604167</td>\n",
              "      <td>9.458333</td>\n",
              "      <td>51.812500</td>\n",
              "    </tr>\n",
              "    <tr>\n",
              "      <th>max</th>\n",
              "      <td>2.978685e+08</td>\n",
              "      <td>127.000000</td>\n",
              "      <td>1296.501478</td>\n",
              "      <td>60.000000</td>\n",
              "      <td>4.000000</td>\n",
              "      <td>19944.000000</td>\n",
              "      <td>360.000000</td>\n",
              "      <td>1296.000000</td>\n",
              "      <td>0.0</td>\n",
              "      <td>176.875000</td>\n",
              "      <td>69.062500</td>\n",
              "      <td>179.000000</td>\n",
              "      <td>89.500000</td>\n",
              "    </tr>\n",
              "  </tbody>\n",
              "</table>\n",
              "</div>"
            ],
            "text/plain": [
              "            Spot_ID  ...  Transmitter_Latitude\n",
              "count  1.000000e+06  ...        1000000.000000\n",
              "mean   1.849458e+08  ...             44.463276\n",
              "std    2.186391e+06  ...             15.558434\n",
              "min    1.843546e+08  ...            -89.500000\n",
              "25%    1.846087e+08  ...             39.645833\n",
              "50%    1.848682e+08  ...             49.062500\n",
              "75%    1.851232e+08  ...             51.812500\n",
              "max    2.978685e+08  ...             89.500000\n",
              "\n",
              "[8 rows x 13 columns]"
            ]
          },
          "metadata": {},
          "execution_count": 199
        }
      ]
    },
    {
      "cell_type": "code",
      "metadata": {
        "colab": {
          "base_uri": "https://localhost:8080/",
          "height": 244
        },
        "id": "mlay3M_W3mRq",
        "outputId": "2d33ce15-0706-4fe7-b0db-76904bb0f41b"
      },
      "source": [
        "df.head()"
      ],
      "execution_count": 200,
      "outputs": [
        {
          "output_type": "execute_result",
          "data": {
            "text/html": [
              "<div>\n",
              "<style scoped>\n",
              "    .dataframe tbody tr th:only-of-type {\n",
              "        vertical-align: middle;\n",
              "    }\n",
              "\n",
              "    .dataframe tbody tr th {\n",
              "        vertical-align: top;\n",
              "    }\n",
              "\n",
              "    .dataframe thead th {\n",
              "        text-align: right;\n",
              "    }\n",
              "</style>\n",
              "<table border=\"1\" class=\"dataframe\">\n",
              "  <thead>\n",
              "    <tr style=\"text-align: right;\">\n",
              "      <th></th>\n",
              "      <th>Spot_ID</th>\n",
              "      <th>Timestamp</th>\n",
              "      <th>Reporter</th>\n",
              "      <th>Reporter_Grid</th>\n",
              "      <th>SNR</th>\n",
              "      <th>Frequency</th>\n",
              "      <th>Call_Sign</th>\n",
              "      <th>Grid</th>\n",
              "      <th>Power (dBm)</th>\n",
              "      <th>Drift (Hz/s)</th>\n",
              "      <th>Distance (km)</th>\n",
              "      <th>Azimuth</th>\n",
              "      <th>Band</th>\n",
              "      <th>Version</th>\n",
              "      <th>Code</th>\n",
              "      <th>Receiver_Longitude</th>\n",
              "      <th>Receiver_Latitude</th>\n",
              "      <th>Transmitter_Longitude</th>\n",
              "      <th>Transmitter_Latitude</th>\n",
              "    </tr>\n",
              "  </thead>\n",
              "  <tbody>\n",
              "    <tr>\n",
              "      <th>0</th>\n",
              "      <td>184354571</td>\n",
              "      <td>2014-03-01</td>\n",
              "      <td>4X1RF</td>\n",
              "      <td>KM72ls</td>\n",
              "      <td>-17</td>\n",
              "      <td>10.140189</td>\n",
              "      <td>DC4LC</td>\n",
              "      <td>JN48np</td>\n",
              "      <td>30</td>\n",
              "      <td>0</td>\n",
              "      <td>2779</td>\n",
              "      <td>120</td>\n",
              "      <td>10</td>\n",
              "      <td>0.8_r3058</td>\n",
              "      <td>0</td>\n",
              "      <td>34.958333</td>\n",
              "      <td>32.770833</td>\n",
              "      <td>9.125</td>\n",
              "      <td>48.645833</td>\n",
              "    </tr>\n",
              "    <tr>\n",
              "      <th>1</th>\n",
              "      <td>184354653</td>\n",
              "      <td>2014-03-01</td>\n",
              "      <td>K9AN</td>\n",
              "      <td>EN50wc</td>\n",
              "      <td>-8</td>\n",
              "      <td>10.140189</td>\n",
              "      <td>DC4LC</td>\n",
              "      <td>JN48np</td>\n",
              "      <td>30</td>\n",
              "      <td>0</td>\n",
              "      <td>7248</td>\n",
              "      <td>303</td>\n",
              "      <td>10</td>\n",
              "      <td>NaN</td>\n",
              "      <td>0</td>\n",
              "      <td>-88.125000</td>\n",
              "      <td>40.104167</td>\n",
              "      <td>9.125</td>\n",
              "      <td>48.645833</td>\n",
              "    </tr>\n",
              "    <tr>\n",
              "      <th>2</th>\n",
              "      <td>184354820</td>\n",
              "      <td>2014-03-01</td>\n",
              "      <td>W3BI</td>\n",
              "      <td>FN20en</td>\n",
              "      <td>-13</td>\n",
              "      <td>10.140184</td>\n",
              "      <td>DC4LC</td>\n",
              "      <td>JN48np</td>\n",
              "      <td>30</td>\n",
              "      <td>0</td>\n",
              "      <td>6418</td>\n",
              "      <td>297</td>\n",
              "      <td>10</td>\n",
              "      <td>2.0_r1714</td>\n",
              "      <td>0</td>\n",
              "      <td>-75.625000</td>\n",
              "      <td>40.562500</td>\n",
              "      <td>9.125</td>\n",
              "      <td>48.645833</td>\n",
              "    </tr>\n",
              "    <tr>\n",
              "      <th>3</th>\n",
              "      <td>184354814</td>\n",
              "      <td>2014-03-01</td>\n",
              "      <td>W3HH</td>\n",
              "      <td>EL89vb</td>\n",
              "      <td>-7</td>\n",
              "      <td>10.140181</td>\n",
              "      <td>DC4LC</td>\n",
              "      <td>JN48np</td>\n",
              "      <td>30</td>\n",
              "      <td>0</td>\n",
              "      <td>7721</td>\n",
              "      <td>291</td>\n",
              "      <td>10</td>\n",
              "      <td>2.12_r3617</td>\n",
              "      <td>0</td>\n",
              "      <td>-82.208333</td>\n",
              "      <td>29.062500</td>\n",
              "      <td>9.125</td>\n",
              "      <td>48.645833</td>\n",
              "    </tr>\n",
              "    <tr>\n",
              "      <th>4</th>\n",
              "      <td>184354719</td>\n",
              "      <td>2014-03-01</td>\n",
              "      <td>WD4LHT</td>\n",
              "      <td>EL89tp</td>\n",
              "      <td>-17</td>\n",
              "      <td>10.140219</td>\n",
              "      <td>DC4LC</td>\n",
              "      <td>JN48np</td>\n",
              "      <td>30</td>\n",
              "      <td>0</td>\n",
              "      <td>7687</td>\n",
              "      <td>292</td>\n",
              "      <td>10</td>\n",
              "      <td>2.11_r2263</td>\n",
              "      <td>0</td>\n",
              "      <td>-82.375000</td>\n",
              "      <td>29.645833</td>\n",
              "      <td>9.125</td>\n",
              "      <td>48.645833</td>\n",
              "    </tr>\n",
              "  </tbody>\n",
              "</table>\n",
              "</div>"
            ],
            "text/plain": [
              "     Spot_ID  Timestamp  ... Transmitter_Longitude Transmitter_Latitude\n",
              "0  184354571 2014-03-01  ...                 9.125            48.645833\n",
              "1  184354653 2014-03-01  ...                 9.125            48.645833\n",
              "2  184354820 2014-03-01  ...                 9.125            48.645833\n",
              "3  184354814 2014-03-01  ...                 9.125            48.645833\n",
              "4  184354719 2014-03-01  ...                 9.125            48.645833\n",
              "\n",
              "[5 rows x 19 columns]"
            ]
          },
          "metadata": {},
          "execution_count": 200
        }
      ]
    },
    {
      "cell_type": "code",
      "metadata": {
        "colab": {
          "base_uri": "https://localhost:8080/"
        },
        "id": "dBqsLdP34vkw",
        "outputId": "d27f0cbb-237a-4a52-b33c-12d828253c8a"
      },
      "source": [
        "df[\"Call_Sign\"].value_counts()"
      ],
      "execution_count": 201,
      "outputs": [
        {
          "output_type": "execute_result",
          "data": {
            "text/plain": [
              "G8VDQ     39119\n",
              "OZ7IT     27425\n",
              "DL2XL     18785\n",
              "ON7KO     15791\n",
              "ON7KB     15705\n",
              "          ...  \n",
              "6C8QKT        1\n",
              "D07HHO        1\n",
              "OZ4OPN        1\n",
              "OE7MBT        1\n",
              "5X2WKZ        1\n",
              "Name: Call_Sign, Length: 1207, dtype: int64"
            ]
          },
          "metadata": {},
          "execution_count": 201
        }
      ]
    },
    {
      "cell_type": "code",
      "metadata": {
        "colab": {
          "base_uri": "https://localhost:8080/"
        },
        "id": "XYbHyeEs5rnT",
        "outputId": "40edc10a-7e26-4cd2-e6cb-44234e0e5daa"
      },
      "source": [
        "df[\"Reporter\"].value_counts()"
      ],
      "execution_count": 202,
      "outputs": [
        {
          "output_type": "execute_result",
          "data": {
            "text/plain": [
              "DK6UG       37844\n",
              "OZ7IT       25394\n",
              "PI4THT      25135\n",
              "K9AN        23114\n",
              "LA3JJ       15677\n",
              "            ...  \n",
              "UZ2HZ           1\n",
              "G6JVT           1\n",
              "KX3             1\n",
              "F4GGL           1\n",
              "SWL-JO00        1\n",
              "Name: Reporter, Length: 1012, dtype: int64"
            ]
          },
          "metadata": {},
          "execution_count": 202
        }
      ]
    },
    {
      "cell_type": "markdown",
      "metadata": {
        "id": "6Cbsin023XBk"
      },
      "source": [
        "## Now plot SNR and Drift(Hz/s) over time between a pair of transmitter/receiver station"
      ]
    },
    {
      "cell_type": "code",
      "metadata": {
        "id": "9Ghn40AP7OAm"
      },
      "source": [
        "TX_STATION = \"G8VDQ\"\n",
        "RX_STATION = \"OZ7IT\""
      ],
      "execution_count": 210,
      "outputs": []
    },
    {
      "cell_type": "code",
      "metadata": {
        "colab": {
          "base_uri": "https://localhost:8080/",
          "height": 635
        },
        "id": "WcHfUSyr6bvX",
        "outputId": "c1d2581b-d7a2-415d-93cd-98b37c0764e6"
      },
      "source": [
        "pairs_df = df[(df[\"Reporter\"]== RX_STATION) & (df[\"Call_Sign\"]== TX_STATION)]\n",
        "pairs_df"
      ],
      "execution_count": 211,
      "outputs": [
        {
          "output_type": "execute_result",
          "data": {
            "text/html": [
              "<div>\n",
              "<style scoped>\n",
              "    .dataframe tbody tr th:only-of-type {\n",
              "        vertical-align: middle;\n",
              "    }\n",
              "\n",
              "    .dataframe tbody tr th {\n",
              "        vertical-align: top;\n",
              "    }\n",
              "\n",
              "    .dataframe thead th {\n",
              "        text-align: right;\n",
              "    }\n",
              "</style>\n",
              "<table border=\"1\" class=\"dataframe\">\n",
              "  <thead>\n",
              "    <tr style=\"text-align: right;\">\n",
              "      <th></th>\n",
              "      <th>Spot_ID</th>\n",
              "      <th>Timestamp</th>\n",
              "      <th>Reporter</th>\n",
              "      <th>Reporter_Grid</th>\n",
              "      <th>SNR</th>\n",
              "      <th>Frequency</th>\n",
              "      <th>Call_Sign</th>\n",
              "      <th>Grid</th>\n",
              "      <th>Power (dBm)</th>\n",
              "      <th>Drift (Hz/s)</th>\n",
              "      <th>Distance (km)</th>\n",
              "      <th>Azimuth</th>\n",
              "      <th>Band</th>\n",
              "      <th>Version</th>\n",
              "      <th>Code</th>\n",
              "      <th>Receiver_Longitude</th>\n",
              "      <th>Receiver_Latitude</th>\n",
              "      <th>Transmitter_Longitude</th>\n",
              "      <th>Transmitter_Latitude</th>\n",
              "    </tr>\n",
              "  </thead>\n",
              "  <tbody>\n",
              "    <tr>\n",
              "      <th>372</th>\n",
              "      <td>184354993</td>\n",
              "      <td>2014-03-01 00:02:00</td>\n",
              "      <td>OZ7IT</td>\n",
              "      <td>JO65df</td>\n",
              "      <td>-23</td>\n",
              "      <td>1.838053</td>\n",
              "      <td>G8VDQ</td>\n",
              "      <td>IO91um</td>\n",
              "      <td>37</td>\n",
              "      <td>0</td>\n",
              "      <td>929</td>\n",
              "      <td>59</td>\n",
              "      <td>1</td>\n",
              "      <td>2.21_r2286</td>\n",
              "      <td>0</td>\n",
              "      <td>12.291667</td>\n",
              "      <td>55.229167</td>\n",
              "      <td>-0.291667</td>\n",
              "      <td>51.520833</td>\n",
              "    </tr>\n",
              "    <tr>\n",
              "      <th>608</th>\n",
              "      <td>184355259</td>\n",
              "      <td>2014-03-01 00:04:00</td>\n",
              "      <td>OZ7IT</td>\n",
              "      <td>JO65df</td>\n",
              "      <td>-8</td>\n",
              "      <td>3.594049</td>\n",
              "      <td>G8VDQ</td>\n",
              "      <td>IO91um</td>\n",
              "      <td>37</td>\n",
              "      <td>0</td>\n",
              "      <td>929</td>\n",
              "      <td>59</td>\n",
              "      <td>3</td>\n",
              "      <td>2.21_r2286</td>\n",
              "      <td>0</td>\n",
              "      <td>12.291667</td>\n",
              "      <td>55.229167</td>\n",
              "      <td>-0.291667</td>\n",
              "      <td>51.520833</td>\n",
              "    </tr>\n",
              "    <tr>\n",
              "      <th>1242</th>\n",
              "      <td>184355813</td>\n",
              "      <td>2014-03-01 00:08:00</td>\n",
              "      <td>OZ7IT</td>\n",
              "      <td>JO65df</td>\n",
              "      <td>-25</td>\n",
              "      <td>7.040057</td>\n",
              "      <td>G8VDQ</td>\n",
              "      <td>IO91um</td>\n",
              "      <td>37</td>\n",
              "      <td>0</td>\n",
              "      <td>929</td>\n",
              "      <td>59</td>\n",
              "      <td>7</td>\n",
              "      <td>2.21_r2286</td>\n",
              "      <td>0</td>\n",
              "      <td>12.291667</td>\n",
              "      <td>55.229167</td>\n",
              "      <td>-0.291667</td>\n",
              "      <td>51.520833</td>\n",
              "    </tr>\n",
              "    <tr>\n",
              "      <th>1814</th>\n",
              "      <td>184356417</td>\n",
              "      <td>2014-03-01 00:12:00</td>\n",
              "      <td>OZ7IT</td>\n",
              "      <td>JO65df</td>\n",
              "      <td>-22</td>\n",
              "      <td>1.838053</td>\n",
              "      <td>G8VDQ</td>\n",
              "      <td>IO91um</td>\n",
              "      <td>37</td>\n",
              "      <td>0</td>\n",
              "      <td>929</td>\n",
              "      <td>59</td>\n",
              "      <td>1</td>\n",
              "      <td>2.21_r2286</td>\n",
              "      <td>0</td>\n",
              "      <td>12.291667</td>\n",
              "      <td>55.229167</td>\n",
              "      <td>-0.291667</td>\n",
              "      <td>51.520833</td>\n",
              "    </tr>\n",
              "    <tr>\n",
              "      <th>3304</th>\n",
              "      <td>184357789</td>\n",
              "      <td>2014-03-01 00:22:00</td>\n",
              "      <td>OZ7IT</td>\n",
              "      <td>JO65df</td>\n",
              "      <td>-10</td>\n",
              "      <td>1.838053</td>\n",
              "      <td>G8VDQ</td>\n",
              "      <td>IO91um</td>\n",
              "      <td>37</td>\n",
              "      <td>0</td>\n",
              "      <td>929</td>\n",
              "      <td>59</td>\n",
              "      <td>1</td>\n",
              "      <td>2.21_r2286</td>\n",
              "      <td>0</td>\n",
              "      <td>12.291667</td>\n",
              "      <td>55.229167</td>\n",
              "      <td>-0.291667</td>\n",
              "      <td>51.520833</td>\n",
              "    </tr>\n",
              "    <tr>\n",
              "      <th>...</th>\n",
              "      <td>...</td>\n",
              "      <td>...</td>\n",
              "      <td>...</td>\n",
              "      <td>...</td>\n",
              "      <td>...</td>\n",
              "      <td>...</td>\n",
              "      <td>...</td>\n",
              "      <td>...</td>\n",
              "      <td>...</td>\n",
              "      <td>...</td>\n",
              "      <td>...</td>\n",
              "      <td>...</td>\n",
              "      <td>...</td>\n",
              "      <td>...</td>\n",
              "      <td>...</td>\n",
              "      <td>...</td>\n",
              "      <td>...</td>\n",
              "      <td>...</td>\n",
              "      <td>...</td>\n",
              "    </tr>\n",
              "    <tr>\n",
              "      <th>998446</th>\n",
              "      <td>185366433</td>\n",
              "      <td>2014-03-04 19:22:00</td>\n",
              "      <td>OZ7IT</td>\n",
              "      <td>JO65df</td>\n",
              "      <td>-13</td>\n",
              "      <td>1.838053</td>\n",
              "      <td>G8VDQ</td>\n",
              "      <td>IO91um</td>\n",
              "      <td>37</td>\n",
              "      <td>0</td>\n",
              "      <td>929</td>\n",
              "      <td>59</td>\n",
              "      <td>1</td>\n",
              "      <td>2.21_r2286</td>\n",
              "      <td>0</td>\n",
              "      <td>12.291667</td>\n",
              "      <td>55.229167</td>\n",
              "      <td>-0.291667</td>\n",
              "      <td>51.520833</td>\n",
              "    </tr>\n",
              "    <tr>\n",
              "      <th>998835</th>\n",
              "      <td>185366786</td>\n",
              "      <td>2014-03-04 19:24:00</td>\n",
              "      <td>OZ7IT</td>\n",
              "      <td>JO65df</td>\n",
              "      <td>-16</td>\n",
              "      <td>3.594049</td>\n",
              "      <td>G8VDQ</td>\n",
              "      <td>IO91um</td>\n",
              "      <td>37</td>\n",
              "      <td>0</td>\n",
              "      <td>929</td>\n",
              "      <td>59</td>\n",
              "      <td>3</td>\n",
              "      <td>2.21_r2286</td>\n",
              "      <td>0</td>\n",
              "      <td>12.291667</td>\n",
              "      <td>55.229167</td>\n",
              "      <td>-0.291667</td>\n",
              "      <td>51.520833</td>\n",
              "    </tr>\n",
              "    <tr>\n",
              "      <th>999189</th>\n",
              "      <td>185367171</td>\n",
              "      <td>2014-03-04 19:26:00</td>\n",
              "      <td>OZ7IT</td>\n",
              "      <td>JO65df</td>\n",
              "      <td>-8</td>\n",
              "      <td>14.097036</td>\n",
              "      <td>G8VDQ</td>\n",
              "      <td>IO91um</td>\n",
              "      <td>37</td>\n",
              "      <td>-1</td>\n",
              "      <td>929</td>\n",
              "      <td>59</td>\n",
              "      <td>14</td>\n",
              "      <td>2.21_r2286</td>\n",
              "      <td>0</td>\n",
              "      <td>12.291667</td>\n",
              "      <td>55.229167</td>\n",
              "      <td>-0.291667</td>\n",
              "      <td>51.520833</td>\n",
              "    </tr>\n",
              "    <tr>\n",
              "      <th>999190</th>\n",
              "      <td>185367111</td>\n",
              "      <td>2014-03-04 19:26:00</td>\n",
              "      <td>OZ7IT</td>\n",
              "      <td>JO65df</td>\n",
              "      <td>-12</td>\n",
              "      <td>10.140147</td>\n",
              "      <td>G8VDQ</td>\n",
              "      <td>IO91um</td>\n",
              "      <td>37</td>\n",
              "      <td>0</td>\n",
              "      <td>929</td>\n",
              "      <td>59</td>\n",
              "      <td>10</td>\n",
              "      <td>2.21_r2286</td>\n",
              "      <td>0</td>\n",
              "      <td>12.291667</td>\n",
              "      <td>55.229167</td>\n",
              "      <td>-0.291667</td>\n",
              "      <td>51.520833</td>\n",
              "    </tr>\n",
              "    <tr>\n",
              "      <th>999607</th>\n",
              "      <td>185367590</td>\n",
              "      <td>2014-03-04 19:28:00</td>\n",
              "      <td>OZ7IT</td>\n",
              "      <td>JO65df</td>\n",
              "      <td>-12</td>\n",
              "      <td>7.040047</td>\n",
              "      <td>G8VDQ</td>\n",
              "      <td>IO91um</td>\n",
              "      <td>37</td>\n",
              "      <td>0</td>\n",
              "      <td>929</td>\n",
              "      <td>59</td>\n",
              "      <td>7</td>\n",
              "      <td>2.21_r2286</td>\n",
              "      <td>0</td>\n",
              "      <td>12.291667</td>\n",
              "      <td>55.229167</td>\n",
              "      <td>-0.291667</td>\n",
              "      <td>51.520833</td>\n",
              "    </tr>\n",
              "  </tbody>\n",
              "</table>\n",
              "<p>1496 rows × 19 columns</p>\n",
              "</div>"
            ],
            "text/plain": [
              "          Spot_ID  ... Transmitter_Latitude\n",
              "372     184354993  ...            51.520833\n",
              "608     184355259  ...            51.520833\n",
              "1242    184355813  ...            51.520833\n",
              "1814    184356417  ...            51.520833\n",
              "3304    184357789  ...            51.520833\n",
              "...           ...  ...                  ...\n",
              "998446  185366433  ...            51.520833\n",
              "998835  185366786  ...            51.520833\n",
              "999189  185367171  ...            51.520833\n",
              "999190  185367111  ...            51.520833\n",
              "999607  185367590  ...            51.520833\n",
              "\n",
              "[1496 rows x 19 columns]"
            ]
          },
          "metadata": {},
          "execution_count": 211
        }
      ]
    },
    {
      "cell_type": "code",
      "metadata": {
        "colab": {
          "base_uri": "https://localhost:8080/",
          "height": 542
        },
        "id": "gHMfHgms4DQ7",
        "outputId": "422f132e-877b-499e-fc6d-6d702297d000"
      },
      "source": [
        "\n",
        "import plotly.express as px\n",
        "\n",
        "fig = px.line(pairs_df, x=\"Timestamp\", y=\"SNR\", title = f\"SNR between transmit station {TX_STATION} and receive station {RX_STATION}\")\n",
        "fig.show()\n"
      ],
      "execution_count": 212,
      "outputs": [
        {
          "output_type": "display_data",
          "data": {
            "text/html": [
              "<html>\n",
              "<head><meta charset=\"utf-8\" /></head>\n",
              "<body>\n",
              "    <div>\n",
              "            <script src=\"https://cdnjs.cloudflare.com/ajax/libs/mathjax/2.7.5/MathJax.js?config=TeX-AMS-MML_SVG\"></script><script type=\"text/javascript\">if (window.MathJax) {MathJax.Hub.Config({SVG: {font: \"STIX-Web\"}});}</script>\n",
              "                <script type=\"text/javascript\">window.PlotlyConfig = {MathJaxConfig: 'local'};</script>\n",
              "        <script src=\"https://cdn.plot.ly/plotly-latest.min.js\"></script>    \n",
              "            <div id=\"2de5b402-eec2-41f2-87ad-1263b0a6656a\" class=\"plotly-graph-div\" style=\"height:525px; width:100%;\"></div>\n",
              "            <script type=\"text/javascript\">\n",
              "                \n",
              "                    window.PLOTLYENV=window.PLOTLYENV || {};\n",
              "                    \n",
              "                if (document.getElementById(\"2de5b402-eec2-41f2-87ad-1263b0a6656a\")) {\n",
              "                    Plotly.newPlot(\n",
              "                        '2de5b402-eec2-41f2-87ad-1263b0a6656a',\n",
              "                        [{\"hoverlabel\": {\"namelength\": 0}, \"hovertemplate\": \"Timestamp=%{x}<br>SNR=%{y}\", \"legendgroup\": \"\", \"line\": {\"color\": \"#636efa\", \"dash\": \"solid\"}, \"mode\": \"lines\", \"name\": \"\", \"showlegend\": false, \"type\": \"scattergl\", \"x\": [\"2014-03-01T00:02:00\", \"2014-03-01T00:04:00\", \"2014-03-01T00:08:00\", \"2014-03-01T00:12:00\", \"2014-03-01T00:22:00\", \"2014-03-01T00:24:00\", \"2014-03-01T00:32:00\", \"2014-03-01T00:34:00\", \"2014-03-01T00:42:00\", \"2014-03-01T00:48:00\", \"2014-03-01T00:54:00\", \"2014-03-01T01:02:00\", \"2014-03-01T01:04:00\", \"2014-03-01T01:12:00\", \"2014-03-01T01:14:00\", \"2014-03-01T01:22:00\", \"2014-03-01T01:24:00\", \"2014-03-01T01:32:00\", \"2014-03-01T01:34:00\", \"2014-03-01T01:54:00\", \"2014-03-01T02:02:00\", \"2014-03-01T02:04:00\", \"2014-03-01T02:12:00\", \"2014-03-01T02:22:00\", \"2014-03-01T02:24:00\", \"2014-03-01T02:32:00\", \"2014-03-01T02:34:00\", \"2014-03-01T02:44:00\", \"2014-03-01T02:48:00\", \"2014-03-01T02:52:00\", \"2014-03-01T03:02:00\", \"2014-03-01T03:04:00\", \"2014-03-01T03:12:00\", \"2014-03-01T03:42:00\", \"2014-03-01T03:52:00\", \"2014-03-01T04:02:00\", \"2014-03-01T04:04:00\", \"2014-03-01T04:12:00\", \"2014-03-01T04:14:00\", \"2014-03-01T04:22:00\", \"2014-03-01T05:02:00\", \"2014-03-01T05:22:00\", \"2014-03-01T05:32:00\", \"2014-03-01T05:42:00\", \"2014-03-01T05:46:00\", \"2014-03-01T06:02:00\", \"2014-03-01T06:12:00\", \"2014-03-01T06:16:00\", \"2014-03-01T06:18:00\", \"2014-03-01T06:20:00\", \"2014-03-01T06:22:00\", \"2014-03-01T06:32:00\", \"2014-03-01T06:32:00\", \"2014-03-01T06:34:00\", \"2014-03-01T06:36:00\", \"2014-03-01T06:40:00\", \"2014-03-01T06:42:00\", \"2014-03-01T06:46:00\", \"2014-03-01T06:46:00\", \"2014-03-01T06:52:00\", \"2014-03-01T06:52:00\", \"2014-03-01T06:56:00\", \"2014-03-01T06:58:00\", \"2014-03-01T06:58:00\", \"2014-03-01T06:58:00\", \"2014-03-01T07:00:00\", \"2014-03-01T07:02:00\", \"2014-03-01T07:04:00\", \"2014-03-01T07:06:00\", \"2014-03-01T07:06:00\", \"2014-03-01T07:08:00\", \"2014-03-01T07:12:00\", \"2014-03-01T07:12:00\", \"2014-03-01T07:16:00\", \"2014-03-01T07:18:00\", \"2014-03-01T07:20:00\", \"2014-03-01T07:26:00\", \"2014-03-01T07:32:00\", \"2014-03-01T07:38:00\", \"2014-03-01T07:38:00\", \"2014-03-01T07:40:00\", \"2014-03-01T07:46:00\", \"2014-03-01T07:46:00\", \"2014-03-01T07:48:00\", \"2014-03-01T07:48:00\", \"2014-03-01T07:52:00\", \"2014-03-01T07:52:00\", \"2014-03-01T07:58:00\", \"2014-03-01T08:00:00\", \"2014-03-01T08:00:00\", \"2014-03-01T08:06:00\", \"2014-03-01T08:06:00\", \"2014-03-01T08:12:00\", \"2014-03-01T08:12:00\", \"2014-03-01T08:16:00\", \"2014-03-01T08:18:00\", \"2014-03-01T08:26:00\", \"2014-03-01T08:26:00\", \"2014-03-01T08:32:00\", \"2014-03-01T08:38:00\", \"2014-03-01T08:38:00\", \"2014-03-01T08:40:00\", \"2014-03-01T08:40:00\", \"2014-03-01T08:46:00\", \"2014-03-01T08:52:00\", \"2014-03-01T08:52:00\", \"2014-03-01T09:00:00\", \"2014-03-01T09:04:00\", \"2014-03-01T09:06:00\", \"2014-03-01T09:06:00\", \"2014-03-01T09:08:00\", \"2014-03-01T09:12:00\", \"2014-03-01T09:12:00\", \"2014-03-01T09:18:00\", \"2014-03-01T10:10:00\", \"2014-03-01T10:24:00\", \"2014-03-01T10:26:00\", \"2014-03-01T10:26:00\", \"2014-03-01T10:30:00\", \"2014-03-01T10:32:00\", \"2014-03-01T10:38:00\", \"2014-03-01T10:38:00\", \"2014-03-01T10:40:00\", \"2014-03-01T10:40:00\", \"2014-03-01T10:44:00\", \"2014-03-01T10:46:00\", \"2014-03-01T10:46:00\", \"2014-03-01T10:48:00\", \"2014-03-01T10:48:00\", \"2014-03-01T10:52:00\", \"2014-03-01T10:52:00\", \"2014-03-01T10:58:00\", \"2014-03-01T10:58:00\", \"2014-03-01T10:58:00\", \"2014-03-01T11:00:00\", \"2014-03-01T11:00:00\", \"2014-03-01T11:02:00\", \"2014-03-01T11:04:00\", \"2014-03-01T11:04:00\", \"2014-03-01T11:06:00\", \"2014-03-01T11:12:00\", \"2014-03-01T11:12:00\", \"2014-03-01T11:16:00\", \"2014-03-01T11:20:00\", \"2014-03-01T11:20:00\", \"2014-03-01T11:26:00\", \"2014-03-01T11:28:00\", \"2014-03-01T11:32:00\", \"2014-03-01T11:32:00\", \"2014-03-01T11:36:00\", \"2014-03-01T11:38:00\", \"2014-03-01T11:46:00\", \"2014-03-01T11:48:00\", \"2014-03-01T11:50:00\", \"2014-03-01T11:56:00\", \"2014-03-01T11:58:00\", \"2014-03-01T12:00:00\", \"2014-03-01T12:00:00\", \"2014-03-01T12:06:00\", \"2014-03-01T12:08:00\", \"2014-03-01T12:12:00\", \"2014-03-01T12:12:00\", \"2014-03-01T12:18:00\", \"2014-03-01T12:20:00\", \"2014-03-01T12:20:00\", \"2014-03-01T12:28:00\", \"2014-03-01T12:28:00\", \"2014-03-01T12:34:00\", \"2014-03-01T12:36:00\", \"2014-03-01T12:38:00\", \"2014-03-01T12:38:00\", \"2014-03-01T12:40:00\", \"2014-03-01T12:40:00\", \"2014-03-01T12:44:00\", \"2014-03-01T12:46:00\", \"2014-03-01T12:46:00\", \"2014-03-01T12:52:00\", \"2014-03-01T12:52:00\", \"2014-03-01T12:58:00\", \"2014-03-01T12:58:00\", \"2014-03-01T13:02:00\", \"2014-03-01T13:06:00\", \"2014-03-01T13:06:00\", \"2014-03-01T13:10:00\", \"2014-03-01T13:12:00\", \"2014-03-01T13:12:00\", \"2014-03-01T13:20:00\", \"2014-03-01T13:32:00\", \"2014-03-01T13:32:00\", \"2014-03-01T13:38:00\", \"2014-03-01T13:38:00\", \"2014-03-01T13:38:00\", \"2014-03-01T13:40:00\", \"2014-03-01T13:40:00\", \"2014-03-01T13:42:00\", \"2014-03-01T13:52:00\", \"2014-03-01T13:52:00\", \"2014-03-01T13:58:00\", \"2014-03-01T13:58:00\", \"2014-03-01T14:02:00\", \"2014-03-01T14:06:00\", \"2014-03-01T14:06:00\", \"2014-03-01T14:12:00\", \"2014-03-01T14:20:00\", \"2014-03-01T14:20:00\", \"2014-03-01T14:22:00\", \"2014-03-01T14:26:00\", \"2014-03-01T14:26:00\", \"2014-03-01T14:28:00\", \"2014-03-01T14:32:00\", \"2014-03-01T14:38:00\", \"2014-03-01T14:40:00\", \"2014-03-01T14:40:00\", \"2014-03-01T14:46:00\", \"2014-03-01T14:46:00\", \"2014-03-01T14:48:00\", \"2014-03-01T14:52:00\", \"2014-03-01T14:58:00\", \"2014-03-01T14:58:00\", \"2014-03-01T15:00:00\", \"2014-03-01T15:00:00\", \"2014-03-01T15:02:00\", \"2014-03-01T15:06:00\", \"2014-03-01T15:06:00\", \"2014-03-01T15:08:00\", \"2014-03-01T15:12:00\", \"2014-03-01T15:12:00\", \"2014-03-01T15:18:00\", \"2014-03-01T15:20:00\", \"2014-03-01T15:22:00\", \"2014-03-01T15:24:00\", \"2014-03-01T15:28:00\", \"2014-03-01T15:32:00\", \"2014-03-01T15:36:00\", \"2014-03-01T15:38:00\", \"2014-03-01T15:38:00\", \"2014-03-01T15:40:00\", \"2014-03-01T15:46:00\", \"2014-03-01T15:46:00\", \"2014-03-01T15:52:00\", \"2014-03-01T15:52:00\", \"2014-03-01T15:56:00\", \"2014-03-01T15:58:00\", \"2014-03-01T15:58:00\", \"2014-03-01T15:58:00\", \"2014-03-01T16:00:00\", \"2014-03-01T16:06:00\", \"2014-03-01T16:12:00\", \"2014-03-01T16:16:00\", \"2014-03-01T16:16:00\", \"2014-03-01T16:20:00\", \"2014-03-01T16:20:00\", \"2014-03-01T16:26:00\", \"2014-03-01T16:36:00\", \"2014-03-01T16:38:00\", \"2014-03-01T16:38:00\", \"2014-03-01T16:40:00\", \"2014-03-01T16:40:00\", \"2014-03-01T16:46:00\", \"2014-03-01T16:46:00\", \"2014-03-01T16:52:00\", \"2014-03-01T16:52:00\", \"2014-03-01T16:52:00\", \"2014-03-01T16:58:00\", \"2014-03-01T16:58:00\", \"2014-03-01T17:00:00\", \"2014-03-01T17:02:00\", \"2014-03-01T17:06:00\", \"2014-03-01T17:08:00\", \"2014-03-01T17:12:00\", \"2014-03-01T17:12:00\", \"2014-03-01T17:14:00\", \"2014-03-01T17:18:00\", \"2014-03-01T17:22:00\", \"2014-03-01T17:26:00\", \"2014-03-01T17:26:00\", \"2014-03-01T17:32:00\", \"2014-03-01T17:32:00\", \"2014-03-01T17:32:00\", \"2014-03-01T17:34:00\", \"2014-03-01T17:38:00\", \"2014-03-01T17:38:00\", \"2014-03-01T17:40:00\", \"2014-03-01T17:40:00\", \"2014-03-01T17:42:00\", \"2014-03-01T17:46:00\", \"2014-03-01T17:46:00\", \"2014-03-01T17:52:00\", \"2014-03-01T17:52:00\", \"2014-03-01T17:52:00\", \"2014-03-01T17:54:00\", \"2014-03-01T18:00:00\", \"2014-03-01T18:00:00\", \"2014-03-01T18:02:00\", \"2014-03-01T18:04:00\", \"2014-03-01T18:20:00\", \"2014-03-01T18:20:00\", \"2014-03-01T18:22:00\", \"2014-03-01T18:24:00\", \"2014-03-01T18:26:00\", \"2014-03-01T18:26:00\", \"2014-03-01T18:28:00\", \"2014-03-01T18:28:00\", \"2014-03-01T18:32:00\", \"2014-03-01T18:32:00\", \"2014-03-01T18:32:00\", \"2014-03-01T18:34:00\", \"2014-03-01T18:40:00\", \"2014-03-01T18:40:00\", \"2014-03-01T18:42:00\", \"2014-03-01T18:44:00\", \"2014-03-01T18:52:00\", \"2014-03-01T18:52:00\", \"2014-03-01T18:52:00\", \"2014-03-01T18:56:00\", \"2014-03-01T18:58:00\", \"2014-03-01T18:58:00\", \"2014-03-01T18:58:00\", \"2014-03-01T19:02:00\", \"2014-03-01T19:04:00\", \"2014-03-01T19:06:00\", \"2014-03-01T19:06:00\", \"2014-03-01T19:06:00\", \"2014-03-01T19:14:00\", \"2014-03-01T19:16:00\", \"2014-03-01T19:18:00\", \"2014-03-01T19:18:00\", \"2014-03-01T19:20:00\", \"2014-03-01T19:20:00\", \"2014-03-01T19:24:00\", \"2014-03-01T19:32:00\", \"2014-03-01T19:34:00\", \"2014-03-01T19:36:00\", \"2014-03-01T19:40:00\", \"2014-03-01T19:42:00\", \"2014-03-01T19:44:00\", \"2014-03-01T19:46:00\", \"2014-03-01T19:46:00\", \"2014-03-01T19:48:00\", \"2014-03-01T19:54:00\", \"2014-03-01T19:56:00\", \"2014-03-01T19:58:00\", \"2014-03-01T20:04:00\", \"2014-03-01T20:06:00\", \"2014-03-01T20:06:00\", \"2014-03-01T20:08:00\", \"2014-03-01T20:14:00\", \"2014-03-01T20:16:00\", \"2014-03-01T20:18:00\", \"2014-03-01T20:26:00\", \"2014-03-01T20:26:00\", \"2014-03-01T20:32:00\", \"2014-03-01T20:38:00\", \"2014-03-01T20:40:00\", \"2014-03-01T20:42:00\", \"2014-03-01T20:46:00\", \"2014-03-01T20:52:00\", \"2014-03-01T20:52:00\", \"2014-03-01T20:54:00\", \"2014-03-01T20:56:00\", \"2014-03-01T20:58:00\", \"2014-03-01T21:04:00\", \"2014-03-01T21:06:00\", \"2014-03-01T21:12:00\", \"2014-03-01T21:12:00\", \"2014-03-01T21:14:00\", \"2014-03-01T21:16:00\", \"2014-03-01T21:18:00\", \"2014-03-01T21:18:00\", \"2014-03-01T21:22:00\", \"2014-03-01T21:24:00\", \"2014-03-01T21:26:00\", \"2014-03-01T21:32:00\", \"2014-03-01T21:36:00\", \"2014-03-01T21:42:00\", \"2014-03-01T21:44:00\", \"2014-03-01T21:46:00\", \"2014-03-01T21:48:00\", \"2014-03-01T21:52:00\", \"2014-03-01T21:54:00\", \"2014-03-01T21:56:00\", \"2014-03-01T21:58:00\", \"2014-03-01T22:04:00\", \"2014-03-01T22:06:00\", \"2014-03-01T22:08:00\", \"2014-03-01T22:14:00\", \"2014-03-01T22:16:00\", \"2014-03-01T22:18:00\", \"2014-03-01T22:24:00\", \"2014-03-01T22:28:00\", \"2014-03-01T22:34:00\", \"2014-03-01T22:36:00\", \"2014-03-01T22:42:00\", \"2014-03-01T22:44:00\", \"2014-03-01T22:46:00\", \"2014-03-01T22:54:00\", \"2014-03-01T23:02:00\", \"2014-03-01T23:04:00\", \"2014-03-01T23:12:00\", \"2014-03-01T23:14:00\", \"2014-03-01T23:22:00\", \"2014-03-01T23:24:00\", \"2014-03-01T23:34:00\", \"2014-03-01T23:42:00\", \"2014-03-01T23:44:00\", \"2014-03-01T23:52:00\", \"2014-03-02T00:04:00\", \"2014-03-02T00:12:00\", \"2014-03-02T00:22:00\", \"2014-03-02T00:32:00\", \"2014-03-02T00:42:00\", \"2014-03-02T01:02:00\", \"2014-03-02T01:04:00\", \"2014-03-02T01:12:00\", \"2014-03-02T01:24:00\", \"2014-03-02T01:32:00\", \"2014-03-02T01:46:00\", \"2014-03-02T01:52:00\", \"2014-03-02T02:02:00\", \"2014-03-02T02:12:00\", \"2014-03-02T02:32:00\", \"2014-03-02T02:32:00\", \"2014-03-02T02:38:00\", \"2014-03-02T02:40:00\", \"2014-03-02T02:42:00\", \"2014-03-02T02:46:00\", \"2014-03-02T02:52:00\", \"2014-03-02T02:58:00\", \"2014-03-02T02:58:00\", \"2014-03-02T03:00:00\", \"2014-03-02T03:02:00\", \"2014-03-02T03:12:00\", \"2014-03-02T03:12:00\", \"2014-03-02T03:20:00\", \"2014-03-02T03:22:00\", \"2014-03-02T03:28:00\", \"2014-03-02T03:32:00\", \"2014-03-02T03:32:00\", \"2014-03-02T03:44:00\", \"2014-03-02T03:52:00\", \"2014-03-02T03:52:00\", \"2014-03-02T03:54:00\", \"2014-03-02T03:58:00\", \"2014-03-02T04:02:00\", \"2014-03-02T04:12:00\", \"2014-03-02T04:14:00\", \"2014-03-02T04:18:00\", \"2014-03-02T04:22:00\", \"2014-03-02T04:28:00\", \"2014-03-02T04:32:00\", \"2014-03-02T05:14:00\", \"2014-03-02T05:32:00\", \"2014-03-02T05:42:00\", \"2014-03-02T05:44:00\", \"2014-03-02T05:52:00\", \"2014-03-02T06:04:00\", \"2014-03-02T06:08:00\", \"2014-03-02T06:24:00\", \"2014-03-02T06:28:00\", \"2014-03-02T06:38:00\", \"2014-03-02T06:44:00\", \"2014-03-02T06:52:00\", \"2014-03-02T06:52:00\", \"2014-03-02T07:00:00\", \"2014-03-02T07:00:00\", \"2014-03-02T07:12:00\", \"2014-03-02T07:18:00\", \"2014-03-02T07:18:00\", \"2014-03-02T07:24:00\", \"2014-03-02T07:28:00\", \"2014-03-02T07:28:00\", \"2014-03-02T07:32:00\", \"2014-03-02T07:38:00\", \"2014-03-02T07:40:00\", \"2014-03-02T07:42:00\", \"2014-03-02T07:46:00\", \"2014-03-02T07:52:00\", \"2014-03-02T07:52:00\", \"2014-03-02T07:58:00\", \"2014-03-02T07:58:00\", \"2014-03-02T07:58:00\", \"2014-03-02T08:00:00\", \"2014-03-02T08:06:00\", \"2014-03-02T08:06:00\", \"2014-03-02T08:08:00\", \"2014-03-02T08:12:00\", \"2014-03-02T08:12:00\", \"2014-03-02T08:20:00\", \"2014-03-02T08:26:00\", \"2014-03-02T08:26:00\", \"2014-03-02T08:32:00\", \"2014-03-02T08:38:00\", \"2014-03-02T08:40:00\", \"2014-03-02T08:40:00\", \"2014-03-02T08:46:00\", \"2014-03-02T08:48:00\", \"2014-03-02T08:52:00\", \"2014-03-02T08:52:00\", \"2014-03-02T08:58:00\", \"2014-03-02T08:58:00\", \"2014-03-02T09:00:00\", \"2014-03-02T09:06:00\", \"2014-03-02T09:12:00\", \"2014-03-02T09:12:00\", \"2014-03-02T09:18:00\", \"2014-03-02T09:18:00\", \"2014-03-02T09:20:00\", \"2014-03-02T09:26:00\", \"2014-03-02T09:32:00\", \"2014-03-02T09:32:00\", \"2014-03-02T09:38:00\", \"2014-03-02T09:40:00\", \"2014-03-02T09:40:00\", \"2014-03-02T09:42:00\", \"2014-03-02T09:44:00\", \"2014-03-02T09:48:00\", \"2014-03-02T09:52:00\", \"2014-03-02T09:52:00\", \"2014-03-02T09:58:00\", \"2014-03-02T10:00:00\", \"2014-03-02T10:06:00\", \"2014-03-02T10:12:00\", \"2014-03-02T10:20:00\", \"2014-03-02T10:20:00\", \"2014-03-02T10:22:00\", \"2014-03-02T10:26:00\", \"2014-03-02T10:26:00\", \"2014-03-02T10:28:00\", \"2014-03-02T10:32:00\", \"2014-03-02T10:32:00\", \"2014-03-02T10:40:00\", \"2014-03-02T10:40:00\", \"2014-03-02T10:48:00\", \"2014-03-02T10:52:00\", \"2014-03-02T10:52:00\", \"2014-03-02T10:58:00\", \"2014-03-02T10:58:00\", \"2014-03-02T11:00:00\", \"2014-03-02T11:06:00\", \"2014-03-02T11:06:00\", \"2014-03-02T11:08:00\", \"2014-03-02T11:08:00\", \"2014-03-02T11:12:00\", \"2014-03-02T11:12:00\", \"2014-03-02T11:14:00\", \"2014-03-02T11:20:00\", \"2014-03-02T11:20:00\", \"2014-03-02T11:22:00\", \"2014-03-02T11:26:00\", \"2014-03-02T11:26:00\", \"2014-03-02T11:32:00\", \"2014-03-02T11:32:00\", \"2014-03-02T11:34:00\", \"2014-03-02T11:38:00\", \"2014-03-02T11:38:00\", \"2014-03-02T11:38:00\", \"2014-03-02T11:42:00\", \"2014-03-02T11:42:00\", \"2014-03-02T11:48:00\", \"2014-03-02T11:48:00\", \"2014-03-02T11:52:00\", \"2014-03-02T11:52:00\", \"2014-03-02T11:58:00\", \"2014-03-02T12:00:00\", \"2014-03-02T12:00:00\", \"2014-03-02T12:06:00\", \"2014-03-02T12:08:00\", \"2014-03-02T12:10:00\", \"2014-03-02T12:10:00\", \"2014-03-02T12:16:00\", \"2014-03-02T12:16:00\", \"2014-03-02T12:18:00\", \"2014-03-02T12:18:00\", \"2014-03-02T12:20:00\", \"2014-03-02T12:26:00\", \"2014-03-02T12:28:00\", \"2014-03-02T12:30:00\", \"2014-03-02T12:36:00\", \"2014-03-02T12:38:00\", \"2014-03-02T12:38:00\", \"2014-03-02T12:38:00\", \"2014-03-02T12:40:00\", \"2014-03-02T12:40:00\", \"2014-03-02T12:46:00\", \"2014-03-02T12:48:00\", \"2014-03-02T12:50:00\", \"2014-03-02T12:58:00\", \"2014-03-02T12:58:00\", \"2014-03-02T13:06:00\", \"2014-03-02T13:06:00\", \"2014-03-02T13:08:00\", \"2014-03-02T13:08:00\", \"2014-03-02T13:10:00\", \"2014-03-02T13:12:00\", \"2014-03-02T13:12:00\", \"2014-03-02T13:18:00\", \"2014-03-02T13:18:00\", \"2014-03-02T13:20:00\", \"2014-03-02T13:20:00\", \"2014-03-02T13:24:00\", \"2014-03-02T13:26:00\", \"2014-03-02T13:26:00\", \"2014-03-02T13:32:00\", \"2014-03-02T13:32:00\", \"2014-03-02T13:38:00\", \"2014-03-02T13:38:00\", \"2014-03-02T13:40:00\", \"2014-03-02T13:40:00\", \"2014-03-02T13:44:00\", \"2014-03-02T13:46:00\", \"2014-03-02T13:46:00\", \"2014-03-02T13:48:00\", \"2014-03-02T13:48:00\", \"2014-03-02T13:50:00\", \"2014-03-02T13:52:00\", \"2014-03-02T13:52:00\", \"2014-03-02T13:56:00\", \"2014-03-02T13:58:00\", \"2014-03-02T13:58:00\", \"2014-03-02T14:06:00\", \"2014-03-02T14:08:00\", \"2014-03-02T14:08:00\", \"2014-03-02T14:12:00\", \"2014-03-02T14:12:00\", \"2014-03-02T14:20:00\", \"2014-03-02T14:20:00\", \"2014-03-02T14:24:00\", \"2014-03-02T14:26:00\", \"2014-03-02T14:32:00\", \"2014-03-02T14:32:00\", \"2014-03-02T14:38:00\", \"2014-03-02T14:38:00\", \"2014-03-02T14:40:00\", \"2014-03-02T14:40:00\", \"2014-03-02T14:42:00\", \"2014-03-02T14:46:00\", \"2014-03-02T14:48:00\", \"2014-03-02T14:52:00\", \"2014-03-02T14:52:00\", \"2014-03-02T14:56:00\", \"2014-03-02T14:56:00\", \"2014-03-02T15:00:00\", \"2014-03-02T15:00:00\", \"2014-03-02T15:04:00\", \"2014-03-02T15:06:00\", \"2014-03-02T15:10:00\", \"2014-03-02T15:12:00\", \"2014-03-02T15:12:00\", \"2014-03-02T15:16:00\", \"2014-03-02T15:16:00\", \"2014-03-02T15:18:00\", \"2014-03-02T15:20:00\", \"2014-03-02T15:20:00\", \"2014-03-02T15:26:00\", \"2014-03-02T15:32:00\", \"2014-03-02T15:32:00\", \"2014-03-02T15:36:00\", \"2014-03-02T15:36:00\", \"2014-03-02T15:38:00\", \"2014-03-02T15:38:00\", \"2014-03-02T15:40:00\", \"2014-03-02T15:40:00\", \"2014-03-02T15:46:00\", \"2014-03-02T15:46:00\", \"2014-03-02T15:50:00\", \"2014-03-02T15:52:00\", \"2014-03-02T15:52:00\", \"2014-03-02T15:56:00\", \"2014-03-02T15:58:00\", \"2014-03-02T15:58:00\", \"2014-03-02T15:58:00\", \"2014-03-02T16:00:00\", \"2014-03-02T16:00:00\", \"2014-03-02T16:08:00\", \"2014-03-02T16:10:00\", \"2014-03-02T16:12:00\", \"2014-03-02T16:14:00\", \"2014-03-02T16:20:00\", \"2014-03-02T16:20:00\", \"2014-03-02T16:26:00\", \"2014-03-02T16:28:00\", \"2014-03-02T16:32:00\", \"2014-03-02T16:32:00\", \"2014-03-02T16:32:00\", \"2014-03-02T16:34:00\", \"2014-03-02T16:40:00\", \"2014-03-02T16:40:00\", \"2014-03-02T16:42:00\", \"2014-03-02T16:44:00\", \"2014-03-02T16:44:00\", \"2014-03-02T16:46:00\", \"2014-03-02T16:52:00\", \"2014-03-02T16:52:00\", \"2014-03-02T16:52:00\", \"2014-03-02T16:54:00\", \"2014-03-02T16:56:00\", \"2014-03-02T17:06:00\", \"2014-03-02T17:06:00\", \"2014-03-02T17:12:00\", \"2014-03-02T17:18:00\", \"2014-03-02T17:20:00\", \"2014-03-02T17:20:00\", \"2014-03-02T17:26:00\", \"2014-03-02T17:26:00\", \"2014-03-02T17:32:00\", \"2014-03-02T17:32:00\", \"2014-03-02T17:38:00\", \"2014-03-02T17:40:00\", \"2014-03-02T17:58:00\", \"2014-03-02T17:58:00\", \"2014-03-02T18:12:00\", \"2014-03-02T18:18:00\", \"2014-03-02T18:20:00\", \"2014-03-02T18:20:00\", \"2014-03-02T18:26:00\", \"2014-03-02T18:26:00\", \"2014-03-02T18:32:00\", \"2014-03-02T18:38:00\", \"2014-03-02T18:40:00\", \"2014-03-02T18:40:00\", \"2014-03-02T18:52:00\", \"2014-03-02T18:58:00\", \"2014-03-02T18:58:00\", \"2014-03-02T19:00:00\", \"2014-03-02T19:00:00\", \"2014-03-02T19:06:00\", \"2014-03-02T19:18:00\", \"2014-03-02T19:20:00\", \"2014-03-02T19:20:00\", \"2014-03-02T19:26:00\", \"2014-03-02T19:26:00\", \"2014-03-02T19:38:00\", \"2014-03-02T19:38:00\", \"2014-03-02T19:40:00\", \"2014-03-02T19:40:00\", \"2014-03-02T19:46:00\", \"2014-03-02T20:00:00\", \"2014-03-02T20:06:00\", \"2014-03-02T20:06:00\", \"2014-03-02T20:12:00\", \"2014-03-02T20:18:00\", \"2014-03-02T20:26:00\", \"2014-03-02T20:32:00\", \"2014-03-02T20:38:00\", \"2014-03-02T20:42:00\", \"2014-03-02T20:46:00\", \"2014-03-02T20:46:00\", \"2014-03-02T20:56:00\", \"2014-03-02T20:58:00\", \"2014-03-02T21:06:00\", \"2014-03-02T21:06:00\", \"2014-03-02T21:14:00\", \"2014-03-02T21:16:00\", \"2014-03-02T21:22:00\", \"2014-03-02T21:26:00\", \"2014-03-02T21:26:00\", \"2014-03-02T21:28:00\", \"2014-03-02T21:32:00\", \"2014-03-02T21:32:00\", \"2014-03-02T21:34:00\", \"2014-03-02T21:36:00\", \"2014-03-02T21:42:00\", \"2014-03-02T21:44:00\", \"2014-03-02T21:46:00\", \"2014-03-02T21:46:00\", \"2014-03-02T21:48:00\", \"2014-03-02T21:52:00\", \"2014-03-02T21:52:00\", \"2014-03-02T21:56:00\", \"2014-03-02T21:58:00\", \"2014-03-02T21:58:00\", \"2014-03-02T22:04:00\", \"2014-03-02T22:06:00\", \"2014-03-02T22:08:00\", \"2014-03-02T22:12:00\", \"2014-03-02T22:12:00\", \"2014-03-02T22:14:00\", \"2014-03-02T22:18:00\", \"2014-03-02T22:18:00\", \"2014-03-02T22:20:00\", \"2014-03-02T22:22:00\", \"2014-03-02T22:24:00\", \"2014-03-02T22:26:00\", \"2014-03-02T22:28:00\", \"2014-03-02T22:32:00\", \"2014-03-02T22:34:00\", \"2014-03-02T22:36:00\", \"2014-03-02T22:38:00\", \"2014-03-02T22:38:00\", \"2014-03-02T22:40:00\", \"2014-03-02T22:42:00\", \"2014-03-02T22:44:00\", \"2014-03-02T22:48:00\", \"2014-03-02T22:52:00\", \"2014-03-02T22:52:00\", \"2014-03-02T22:54:00\", \"2014-03-02T22:56:00\", \"2014-03-02T22:58:00\", \"2014-03-02T22:58:00\", \"2014-03-02T23:00:00\", \"2014-03-02T23:02:00\", \"2014-03-02T23:06:00\", \"2014-03-02T23:08:00\", \"2014-03-02T23:12:00\", \"2014-03-02T23:22:00\", \"2014-03-02T23:26:00\", \"2014-03-02T23:32:00\", \"2014-03-02T23:32:00\", \"2014-03-02T23:38:00\", \"2014-03-02T23:42:00\", \"2014-03-02T23:46:00\", \"2014-03-02T23:46:00\", \"2014-03-02T23:48:00\", \"2014-03-02T23:52:00\", \"2014-03-02T23:54:00\", \"2014-03-02T23:56:00\", \"2014-03-02T23:58:00\", \"2014-03-03T00:02:00\", \"2014-03-03T00:06:00\", \"2014-03-03T00:06:00\", \"2014-03-03T00:12:00\", \"2014-03-03T00:14:00\", \"2014-03-03T00:16:00\", \"2014-03-03T00:18:00\", \"2014-03-03T00:18:00\", \"2014-03-03T00:22:00\", \"2014-03-03T00:24:00\", \"2014-03-03T00:26:00\", \"2014-03-03T00:26:00\", \"2014-03-03T00:32:00\", \"2014-03-03T00:34:00\", \"2014-03-03T00:38:00\", \"2014-03-03T00:46:00\", \"2014-03-03T00:48:00\", \"2014-03-03T01:02:00\", \"2014-03-03T01:12:00\", \"2014-03-03T01:14:00\", \"2014-03-03T01:16:00\", \"2014-03-03T01:22:00\", \"2014-03-03T01:26:00\", \"2014-03-03T01:32:00\", \"2014-03-03T01:36:00\", \"2014-03-03T01:52:00\", \"2014-03-03T01:54:00\", \"2014-03-03T02:02:00\", \"2014-03-03T02:26:00\", \"2014-03-03T02:32:00\", \"2014-03-03T02:42:00\", \"2014-03-03T02:46:00\", \"2014-03-03T02:52:00\", \"2014-03-03T03:02:00\", \"2014-03-03T03:12:00\", \"2014-03-03T03:22:00\", \"2014-03-03T03:32:00\", \"2014-03-03T03:36:00\", \"2014-03-03T03:42:00\", \"2014-03-03T03:46:00\", \"2014-03-03T04:02:00\", \"2014-03-03T04:12:00\", \"2014-03-03T04:14:00\", \"2014-03-03T04:22:00\", \"2014-03-03T04:32:00\", \"2014-03-03T04:38:00\", \"2014-03-03T04:42:00\", \"2014-03-03T04:52:00\", \"2014-03-03T05:02:00\", \"2014-03-03T05:14:00\", \"2014-03-03T05:22:00\", \"2014-03-03T05:24:00\", \"2014-03-03T05:38:00\", \"2014-03-03T05:42:00\", \"2014-03-03T06:02:00\", \"2014-03-03T06:08:00\", \"2014-03-03T06:12:00\", \"2014-03-03T06:22:00\", \"2014-03-03T06:26:00\", \"2014-03-03T06:32:00\", \"2014-03-03T06:32:00\", \"2014-03-03T06:32:00\", \"2014-03-03T06:34:00\", \"2014-03-03T06:38:00\", \"2014-03-03T06:38:00\", \"2014-03-03T06:40:00\", \"2014-03-03T06:40:00\", \"2014-03-03T06:42:00\", \"2014-03-03T06:44:00\", \"2014-03-03T06:52:00\", \"2014-03-03T06:52:00\", \"2014-03-03T06:52:00\", \"2014-03-03T06:58:00\", \"2014-03-03T07:00:00\", \"2014-03-03T07:04:00\", \"2014-03-03T07:06:00\", \"2014-03-03T07:06:00\", \"2014-03-03T07:12:00\", \"2014-03-03T07:12:00\", \"2014-03-03T07:18:00\", \"2014-03-03T07:22:00\", \"2014-03-03T07:32:00\", \"2014-03-03T07:32:00\", \"2014-03-03T07:38:00\", \"2014-03-03T07:38:00\", \"2014-03-03T07:40:00\", \"2014-03-03T07:46:00\", \"2014-03-03T07:58:00\", \"2014-03-03T08:00:00\", \"2014-03-03T08:06:00\", \"2014-03-03T08:06:00\", \"2014-03-03T08:18:00\", \"2014-03-03T08:20:00\", \"2014-03-03T08:20:00\", \"2014-03-03T08:26:00\", \"2014-03-03T08:32:00\", \"2014-03-03T08:38:00\", \"2014-03-03T08:38:00\", \"2014-03-03T08:38:00\", \"2014-03-03T08:40:00\", \"2014-03-03T08:46:00\", \"2014-03-03T08:48:00\", \"2014-03-03T08:52:00\", \"2014-03-03T08:52:00\", \"2014-03-03T08:58:00\", \"2014-03-03T08:58:00\", \"2014-03-03T09:00:00\", \"2014-03-03T09:06:00\", \"2014-03-03T09:20:00\", \"2014-03-03T09:20:00\", \"2014-03-03T09:26:00\", \"2014-03-03T09:32:00\", \"2014-03-03T09:32:00\", \"2014-03-03T09:46:00\", \"2014-03-03T09:46:00\", \"2014-03-03T09:48:00\", \"2014-03-03T09:52:00\", \"2014-03-03T10:12:00\", \"2014-03-03T10:18:00\", \"2014-03-03T10:18:00\", \"2014-03-03T10:22:00\", \"2014-03-03T10:26:00\", \"2014-03-03T10:32:00\", \"2014-03-03T10:32:00\", \"2014-03-03T10:40:00\", \"2014-03-03T10:40:00\", \"2014-03-03T10:48:00\", \"2014-03-03T10:50:00\", \"2014-03-03T10:52:00\", \"2014-03-03T10:56:00\", \"2014-03-03T10:58:00\", \"2014-03-03T11:04:00\", \"2014-03-03T11:06:00\", \"2014-03-03T12:10:00\", \"2014-03-03T12:12:00\", \"2014-03-03T12:12:00\", \"2014-03-03T12:16:00\", \"2014-03-03T12:18:00\", \"2014-03-03T12:24:00\", \"2014-03-03T12:28:00\", \"2014-03-03T12:32:00\", \"2014-03-03T12:36:00\", \"2014-03-03T12:38:00\", \"2014-03-03T12:38:00\", \"2014-03-03T12:38:00\", \"2014-03-03T12:46:00\", \"2014-03-03T12:48:00\", \"2014-03-03T12:56:00\", \"2014-03-03T12:58:00\", \"2014-03-03T12:58:00\", \"2014-03-03T13:00:00\", \"2014-03-03T13:00:00\", \"2014-03-03T13:06:00\", \"2014-03-03T13:08:00\", \"2014-03-03T13:32:00\", \"2014-03-03T13:32:00\", \"2014-03-03T13:36:00\", \"2014-03-03T13:40:00\", \"2014-03-03T13:40:00\", \"2014-03-03T13:44:00\", \"2014-03-03T15:58:00\", \"2014-03-03T15:58:00\", \"2014-03-03T15:58:00\", \"2014-03-03T16:04:00\", \"2014-03-03T16:06:00\", \"2014-03-03T16:08:00\", \"2014-03-03T16:10:00\", \"2014-03-03T16:12:00\", \"2014-03-03T16:16:00\", \"2014-03-03T16:16:00\", \"2014-03-03T16:18:00\", \"2014-03-03T16:20:00\", \"2014-03-03T16:26:00\", \"2014-03-03T16:30:00\", \"2014-03-03T16:32:00\", \"2014-03-03T16:32:00\", \"2014-03-03T16:40:00\", \"2014-03-03T16:42:00\", \"2014-03-03T16:46:00\", \"2014-03-03T16:46:00\", \"2014-03-03T16:50:00\", \"2014-03-03T16:52:00\", \"2014-03-03T16:52:00\", \"2014-03-03T16:56:00\", \"2014-03-03T16:58:00\", \"2014-03-03T16:58:00\", \"2014-03-03T17:00:00\", \"2014-03-03T17:04:00\", \"2014-03-03T17:08:00\", \"2014-03-03T17:18:00\", \"2014-03-03T17:20:00\", \"2014-03-03T17:22:00\", \"2014-03-03T17:22:00\", \"2014-03-03T17:26:00\", \"2014-03-03T17:28:00\", \"2014-03-03T17:28:00\", \"2014-03-03T17:32:00\", \"2014-03-03T17:32:00\", \"2014-03-03T17:38:00\", \"2014-03-03T17:38:00\", \"2014-03-03T17:40:00\", \"2014-03-03T17:42:00\", \"2014-03-03T17:42:00\", \"2014-03-03T17:46:00\", \"2014-03-03T17:46:00\", \"2014-03-03T17:48:00\", \"2014-03-03T17:52:00\", \"2014-03-03T17:52:00\", \"2014-03-03T17:52:00\", \"2014-03-03T17:56:00\", \"2014-03-03T17:58:00\", \"2014-03-03T18:00:00\", \"2014-03-03T18:02:00\", \"2014-03-03T18:02:00\", \"2014-03-03T18:04:00\", \"2014-03-03T18:06:00\", \"2014-03-03T18:06:00\", \"2014-03-03T18:06:00\", \"2014-03-03T18:12:00\", \"2014-03-03T18:12:00\", \"2014-03-03T18:14:00\", \"2014-03-03T18:18:00\", \"2014-03-03T18:20:00\", \"2014-03-03T18:20:00\", \"2014-03-03T18:22:00\", \"2014-03-03T18:28:00\", \"2014-03-03T18:34:00\", \"2014-03-03T18:36:00\", \"2014-03-03T18:40:00\", \"2014-03-03T18:40:00\", \"2014-03-03T18:42:00\", \"2014-03-03T18:44:00\", \"2014-03-03T18:46:00\", \"2014-03-03T18:46:00\", \"2014-03-03T18:46:00\", \"2014-03-03T18:52:00\", \"2014-03-03T18:52:00\", \"2014-03-03T18:52:00\", \"2014-03-03T18:54:00\", \"2014-03-03T18:56:00\", \"2014-03-03T19:00:00\", \"2014-03-03T19:00:00\", \"2014-03-03T19:02:00\", \"2014-03-03T19:08:00\", \"2014-03-03T19:12:00\", \"2014-03-03T19:12:00\", \"2014-03-03T19:12:00\", \"2014-03-03T19:14:00\", \"2014-03-03T19:16:00\", \"2014-03-03T19:18:00\", \"2014-03-03T19:18:00\", \"2014-03-03T19:20:00\", \"2014-03-03T19:20:00\", \"2014-03-03T19:24:00\", \"2014-03-03T19:26:00\", \"2014-03-03T19:26:00\", \"2014-03-03T19:26:00\", \"2014-03-03T19:28:00\", \"2014-03-03T19:34:00\", \"2014-03-03T19:36:00\", \"2014-03-03T19:38:00\", \"2014-03-03T19:38:00\", \"2014-03-03T19:38:00\", \"2014-03-03T19:40:00\", \"2014-03-03T19:42:00\", \"2014-03-03T19:44:00\", \"2014-03-03T19:48:00\", \"2014-03-03T19:54:00\", \"2014-03-03T19:56:00\", \"2014-03-03T19:58:00\", \"2014-03-03T19:58:00\", \"2014-03-03T19:58:00\", \"2014-03-03T20:00:00\", \"2014-03-03T20:02:00\", \"2014-03-03T20:04:00\", \"2014-03-03T20:08:00\", \"2014-03-03T20:12:00\", \"2014-03-03T20:12:00\", \"2014-03-03T20:14:00\", \"2014-03-03T20:16:00\", \"2014-03-03T20:18:00\", \"2014-03-03T20:22:00\", \"2014-03-03T20:24:00\", \"2014-03-03T20:26:00\", \"2014-03-03T20:32:00\", \"2014-03-03T20:32:00\", \"2014-03-03T20:34:00\", \"2014-03-03T20:36:00\", \"2014-03-03T20:38:00\", \"2014-03-03T20:42:00\", \"2014-03-03T20:44:00\", \"2014-03-03T20:46:00\", \"2014-03-03T20:46:00\", \"2014-03-03T20:46:00\", \"2014-03-03T20:48:00\", \"2014-03-03T20:52:00\", \"2014-03-03T20:54:00\", \"2014-03-03T20:56:00\", \"2014-03-03T21:02:00\", \"2014-03-03T21:04:00\", \"2014-03-03T21:06:00\", \"2014-03-03T21:06:00\", \"2014-03-03T21:12:00\", \"2014-03-03T21:12:00\", \"2014-03-03T21:16:00\", \"2014-03-03T21:24:00\", \"2014-03-03T21:32:00\", \"2014-03-03T21:32:00\", \"2014-03-03T21:36:00\", \"2014-03-03T21:38:00\", \"2014-03-03T21:44:00\", \"2014-03-03T21:46:00\", \"2014-03-03T21:52:00\", \"2014-03-03T22:00:00\", \"2014-03-03T22:02:00\", \"2014-03-03T22:06:00\", \"2014-03-03T22:06:00\", \"2014-03-03T22:12:00\", \"2014-03-03T22:16:00\", \"2014-03-03T22:18:00\", \"2014-03-03T22:22:00\", \"2014-03-03T22:26:00\", \"2014-03-03T22:26:00\", \"2014-03-03T22:28:00\", \"2014-03-03T22:32:00\", \"2014-03-03T22:34:00\", \"2014-03-03T22:36:00\", \"2014-03-03T22:40:00\", \"2014-03-03T22:42:00\", \"2014-03-03T22:46:00\", \"2014-03-03T22:52:00\", \"2014-03-03T22:52:00\", \"2014-03-03T22:58:00\", \"2014-03-03T23:02:00\", \"2014-03-03T23:16:00\", \"2014-03-03T23:18:00\", \"2014-03-03T23:22:00\", \"2014-03-03T23:24:00\", \"2014-03-03T23:26:00\", \"2014-03-03T23:34:00\", \"2014-03-03T23:36:00\", \"2014-03-03T23:42:00\", \"2014-03-03T23:46:00\", \"2014-03-03T23:48:00\", \"2014-03-03T23:52:00\", \"2014-03-03T23:54:00\", \"2014-03-04T00:02:00\", \"2014-03-04T00:04:00\", \"2014-03-04T00:08:00\", \"2014-03-04T00:12:00\", \"2014-03-04T00:28:00\", \"2014-03-04T00:32:00\", \"2014-03-04T00:34:00\", \"2014-03-04T00:36:00\", \"2014-03-04T00:42:00\", \"2014-03-04T00:46:00\", \"2014-03-04T00:52:00\", \"2014-03-04T00:58:00\", \"2014-03-04T01:02:00\", \"2014-03-04T01:08:00\", \"2014-03-04T01:12:00\", \"2014-03-04T01:16:00\", \"2014-03-04T01:18:00\", \"2014-03-04T01:32:00\", \"2014-03-04T01:34:00\", \"2014-03-04T01:36:00\", \"2014-03-04T01:38:00\", \"2014-03-04T01:42:00\", \"2014-03-04T01:46:00\", \"2014-03-04T01:52:00\", \"2014-03-04T01:54:00\", \"2014-03-04T02:02:00\", \"2014-03-04T02:06:00\", \"2014-03-04T02:12:00\", \"2014-03-04T02:22:00\", \"2014-03-04T02:24:00\", \"2014-03-04T02:26:00\", \"2014-03-04T02:32:00\", \"2014-03-04T02:34:00\", \"2014-03-04T02:42:00\", \"2014-03-04T02:52:00\", \"2014-03-04T02:54:00\", \"2014-03-04T02:56:00\", \"2014-03-04T02:58:00\", \"2014-03-04T03:02:00\", \"2014-03-04T03:04:00\", \"2014-03-04T03:06:00\", \"2014-03-04T03:12:00\", \"2014-03-04T03:14:00\", \"2014-03-04T03:22:00\", \"2014-03-04T03:24:00\", \"2014-03-04T03:26:00\", \"2014-03-04T03:34:00\", \"2014-03-04T03:42:00\", \"2014-03-04T03:52:00\", \"2014-03-04T03:54:00\", \"2014-03-04T03:56:00\", \"2014-03-04T04:02:00\", \"2014-03-04T04:12:00\", \"2014-03-04T04:14:00\", \"2014-03-04T04:16:00\", \"2014-03-04T04:22:00\", \"2014-03-04T04:32:00\", \"2014-03-04T04:36:00\", \"2014-03-04T04:42:00\", \"2014-03-04T04:46:00\", \"2014-03-04T04:52:00\", \"2014-03-04T04:54:00\", \"2014-03-04T04:56:00\", \"2014-03-04T05:02:00\", \"2014-03-04T05:04:00\", \"2014-03-04T05:12:00\", \"2014-03-04T05:16:00\", \"2014-03-04T05:22:00\", \"2014-03-04T05:32:00\", \"2014-03-04T05:36:00\", \"2014-03-04T05:38:00\", \"2014-03-04T05:42:00\", \"2014-03-04T05:46:00\", \"2014-03-04T05:52:00\", \"2014-03-04T05:54:00\", \"2014-03-04T06:04:00\", \"2014-03-04T06:06:00\", \"2014-03-04T06:18:00\", \"2014-03-04T06:26:00\", \"2014-03-04T06:26:00\", \"2014-03-04T06:28:00\", \"2014-03-04T06:38:00\", \"2014-03-04T06:38:00\", \"2014-03-04T06:38:00\", \"2014-03-04T06:46:00\", \"2014-03-04T06:48:00\", \"2014-03-04T06:52:00\", \"2014-03-04T06:58:00\", \"2014-03-04T07:06:00\", \"2014-03-04T07:06:00\", \"2014-03-04T07:12:00\", \"2014-03-04T07:20:00\", \"2014-03-04T07:20:00\", \"2014-03-04T07:26:00\", \"2014-03-04T07:32:00\", \"2014-03-04T07:32:00\", \"2014-03-04T07:36:00\", \"2014-03-04T07:38:00\", \"2014-03-04T07:38:00\", \"2014-03-04T07:40:00\", \"2014-03-04T07:40:00\", \"2014-03-04T07:46:00\", \"2014-03-04T07:48:00\", \"2014-03-04T07:52:00\", \"2014-03-04T07:52:00\", \"2014-03-04T07:58:00\", \"2014-03-04T07:58:00\", \"2014-03-04T08:00:00\", \"2014-03-04T08:12:00\", \"2014-03-04T08:12:00\", \"2014-03-04T08:18:00\", \"2014-03-04T08:26:00\", \"2014-03-04T08:32:00\", \"2014-03-04T08:32:00\", \"2014-03-04T08:38:00\", \"2014-03-04T08:40:00\", \"2014-03-04T08:48:00\", \"2014-03-04T08:52:00\", \"2014-03-04T08:52:00\", \"2014-03-04T09:00:00\", \"2014-03-04T09:06:00\", \"2014-03-04T09:12:00\", \"2014-03-04T09:12:00\", \"2014-03-04T09:16:00\", \"2014-03-04T09:18:00\", \"2014-03-04T09:20:00\", \"2014-03-04T09:20:00\", \"2014-03-04T09:26:00\", \"2014-03-04T09:28:00\", \"2014-03-04T09:32:00\", \"2014-03-04T09:32:00\", \"2014-03-04T09:40:00\", \"2014-03-04T09:48:00\", \"2014-03-04T09:48:00\", \"2014-03-04T09:54:00\", \"2014-03-04T10:08:00\", \"2014-03-04T10:22:00\", \"2014-03-04T10:26:00\", \"2014-03-04T10:30:00\", \"2014-03-04T10:32:00\", \"2014-03-04T10:36:00\", \"2014-03-04T10:38:00\", \"2014-03-04T10:44:00\", \"2014-03-04T10:48:00\", \"2014-03-04T10:50:00\", \"2014-03-04T10:52:00\", \"2014-03-04T10:52:00\", \"2014-03-04T10:58:00\", \"2014-03-04T11:00:00\", \"2014-03-04T11:02:00\", \"2014-03-04T11:02:00\", \"2014-03-04T11:04:00\", \"2014-03-04T11:08:00\", \"2014-03-04T11:12:00\", \"2014-03-04T11:12:00\", \"2014-03-04T11:16:00\", \"2014-03-04T11:18:00\", \"2014-03-04T11:22:00\", \"2014-03-04T11:26:00\", \"2014-03-04T11:28:00\", \"2014-03-04T11:30:00\", \"2014-03-04T11:34:00\", \"2014-03-04T11:36:00\", \"2014-03-04T11:38:00\", \"2014-03-04T11:38:00\", \"2014-03-04T11:40:00\", \"2014-03-04T11:42:00\", \"2014-03-04T11:46:00\", \"2014-03-04T11:48:00\", \"2014-03-04T11:50:00\", \"2014-03-04T11:52:00\", \"2014-03-04T11:52:00\", \"2014-03-04T12:02:00\", \"2014-03-04T12:06:00\", \"2014-03-04T12:12:00\", \"2014-03-04T12:12:00\", \"2014-03-04T12:18:00\", \"2014-03-04T12:20:00\", \"2014-03-04T12:20:00\", \"2014-03-04T12:26:00\", \"2014-03-04T12:28:00\", \"2014-03-04T12:30:00\", \"2014-03-04T12:30:00\", \"2014-03-04T12:36:00\", \"2014-03-04T12:36:00\", \"2014-03-04T12:38:00\", \"2014-03-04T12:40:00\", \"2014-03-04T12:42:00\", \"2014-03-04T12:46:00\", \"2014-03-04T12:46:00\", \"2014-03-04T12:48:00\", \"2014-03-04T12:50:00\", \"2014-03-04T12:56:00\", \"2014-03-04T12:56:00\", \"2014-03-04T13:00:00\", \"2014-03-04T13:04:00\", \"2014-03-04T13:04:00\", \"2014-03-04T13:06:00\", \"2014-03-04T13:06:00\", \"2014-03-04T13:08:00\", \"2014-03-04T13:10:00\", \"2014-03-04T13:10:00\", \"2014-03-04T13:12:00\", \"2014-03-04T13:12:00\", \"2014-03-04T13:16:00\", \"2014-03-04T13:18:00\", \"2014-03-04T13:18:00\", \"2014-03-04T13:20:00\", \"2014-03-04T13:22:00\", \"2014-03-04T13:28:00\", \"2014-03-04T13:30:00\", \"2014-03-04T13:32:00\", \"2014-03-04T13:38:00\", \"2014-03-04T13:38:00\", \"2014-03-04T13:38:00\", \"2014-03-04T13:46:00\", \"2014-03-04T13:46:00\", \"2014-03-04T13:50:00\", \"2014-03-04T13:52:00\", \"2014-03-04T13:58:00\", \"2014-03-04T13:58:00\", \"2014-03-04T13:58:00\", \"2014-03-04T14:06:00\", \"2014-03-04T14:06:00\", \"2014-03-04T14:08:00\", \"2014-03-04T14:18:00\", \"2014-03-04T14:22:00\", \"2014-03-04T14:24:00\", \"2014-03-04T14:24:00\", \"2014-03-04T14:26:00\", \"2014-03-04T14:26:00\", \"2014-03-04T14:30:00\", \"2014-03-04T14:38:00\", \"2014-03-04T14:42:00\", \"2014-03-04T14:44:00\", \"2014-03-04T14:48:00\", \"2014-03-04T14:52:00\", \"2014-03-04T14:58:00\", \"2014-03-04T15:00:00\", \"2014-03-04T15:02:00\", \"2014-03-04T15:08:00\", \"2014-03-04T15:10:00\", \"2014-03-04T15:10:00\", \"2014-03-04T15:12:00\", \"2014-03-04T15:18:00\", \"2014-03-04T15:32:00\", \"2014-03-04T15:36:00\", \"2014-03-04T15:38:00\", \"2014-03-04T15:40:00\", \"2014-03-04T15:42:00\", \"2014-03-04T15:42:00\", \"2014-03-04T15:48:00\", \"2014-03-04T15:48:00\", \"2014-03-04T15:52:00\", \"2014-03-04T15:58:00\", \"2014-03-04T15:58:00\", \"2014-03-04T16:00:00\", \"2014-03-04T16:02:00\", \"2014-03-04T16:06:00\", \"2014-03-04T16:08:00\", \"2014-03-04T16:08:00\", \"2014-03-04T16:12:00\", \"2014-03-04T16:12:00\", \"2014-03-04T16:18:00\", \"2014-03-04T16:18:00\", \"2014-03-04T16:20:00\", \"2014-03-04T16:24:00\", \"2014-03-04T16:28:00\", \"2014-03-04T16:28:00\", \"2014-03-04T16:32:00\", \"2014-03-04T16:36:00\", \"2014-03-04T16:38:00\", \"2014-03-04T16:40:00\", \"2014-03-04T16:40:00\", \"2014-03-04T16:42:00\", \"2014-03-04T16:46:00\", \"2014-03-04T16:46:00\", \"2014-03-04T16:48:00\", \"2014-03-04T16:52:00\", \"2014-03-04T16:58:00\", \"2014-03-04T16:58:00\", \"2014-03-04T17:00:00\", \"2014-03-04T17:02:00\", \"2014-03-04T17:08:00\", \"2014-03-04T17:12:00\", \"2014-03-04T17:12:00\", \"2014-03-04T17:16:00\", \"2014-03-04T17:20:00\", \"2014-03-04T17:26:00\", \"2014-03-04T17:26:00\", \"2014-03-04T17:28:00\", \"2014-03-04T17:28:00\", \"2014-03-04T17:32:00\", \"2014-03-04T17:38:00\", \"2014-03-04T17:40:00\", \"2014-03-04T17:40:00\", \"2014-03-04T17:42:00\", \"2014-03-04T17:46:00\", \"2014-03-04T17:48:00\", \"2014-03-04T17:52:00\", \"2014-03-04T17:52:00\", \"2014-03-04T17:58:00\", \"2014-03-04T18:00:00\", \"2014-03-04T18:06:00\", \"2014-03-04T18:18:00\", \"2014-03-04T18:24:00\", \"2014-03-04T18:26:00\", \"2014-03-04T18:26:00\", \"2014-03-04T18:28:00\", \"2014-03-04T18:32:00\", \"2014-03-04T18:38:00\", \"2014-03-04T18:38:00\", \"2014-03-04T18:38:00\", \"2014-03-04T18:42:00\", \"2014-03-04T18:46:00\", \"2014-03-04T18:46:00\", \"2014-03-04T18:52:00\", \"2014-03-04T18:52:00\", \"2014-03-04T18:58:00\", \"2014-03-04T18:58:00\", \"2014-03-04T19:00:00\", \"2014-03-04T19:00:00\", \"2014-03-04T19:06:00\", \"2014-03-04T19:08:00\", \"2014-03-04T19:12:00\", \"2014-03-04T19:12:00\", \"2014-03-04T19:18:00\", \"2014-03-04T19:20:00\", \"2014-03-04T19:22:00\", \"2014-03-04T19:24:00\", \"2014-03-04T19:26:00\", \"2014-03-04T19:26:00\", \"2014-03-04T19:28:00\"], \"xaxis\": \"x\", \"y\": [-23, -8, -25, -22, -10, -14, -17, -13, -9, -17, -15, -9, -7, -11, -14, -7, -3, -18, -11, -5, -11, -8, -17, -11, -7, -21, -11, -10, -22, -16, -13, -11, -10, -18, -10, -18, -17, -9, -12, -13, -21, -6, -16, -6, -5, -7, -16, -13, -6, -21, -11, -19, -21, -7, -18, -20, -23, -6, -18, -16, -13, -8, -12, -7, -17, -13, -20, -14, -20, -10, 1, -15, -16, -11, -24, -9, -13, 7, -15, -13, 0, -6, 3, -23, -9, 5, -19, -2, 3, -3, 2, -9, 2, -12, -29, 2, 2, -8, 6, -11, 2, -10, 2, -9, -7, 1, 0, -27, -9, 1, 1, -7, 2, 6, -24, -22, -2, -9, -22, -13, -7, 1, -7, 2, -20, 0, -10, -17, 0, -4, -11, 1, -4, -9, -8, 3, -16, -23, -20, -7, -7, 0, -23, 3, -12, -14, -4, -5, -3, -20, -7, -7, -8, -23, -22, -4, -3, -5, -3, 2, -7, 0, -6, -6, -6, -15, -3, -16, -23, 6, -6, -7, -12, -27, -2, -16, -6, -13, -11, 2, -15, 0, -7, -24, -14, 1, -12, -5, 1, -7, -1, -11, -9, -3, -17, 1, -8, -6, -1, -16, -8, 0, -7, -2, -11, -13, -1, -3, 0, -5, -11, -7, 3, -4, -6, -14, 3, -7, -10, -4, -12, -19, -3, -21, -13, 0, -14, -1, -4, -16, -23, -2, -12, -24, -16, 0, -8, 1, -18, -13, -1, -27, -17, 1, -14, -1, 0, -2, -22, -27, -14, -3, 5, -25, -1, -20, -1, -21, 8, -21, -18, 8, -27, -4, -25, -1, -24, -5, -5, -23, -3, -8, -18, -15, -3, -12, -13, -18, 6, -11, 4, -18, -7, 0, -13, -1, -16, -16, 7, -10, -12, 3, -13, -11, -10, -29, -13, -15, -9, -10, -17, -17, -3, -17, -13, -20, -9, -14, -11, -15, -12, -15, -6, -18, -10, -11, -12, -16, -14, -13, -1, -17, -9, -8, -11, -18, -12, -11, -16, -12, -13, -16, -7, -16, -12, -12, -11, -18, -13, -10, -12, -23, -14, -15, -11, -9, -15, -9, -11, -10, -8, -18, -8, -12, -16, -13, -17, -17, -13, -10, -14, -15, -11, -22, -20, -10, -13, -18, -7, -16, -12, -9, -9, -13, -15, -13, -10, -18, -9, -14, -7, -17, -16, -8, -13, -11, -8, -13, -15, -18, -11, -8, -10, -11, -7, -15, -8, -16, -9, -25, -8, -10, -18, -17, -21, -16, -18, -16, -9, -21, -4, -9, -6, -11, -11, -14, -10, -10, -7, -6, -18, -11, -13, -13, -19, -14, -15, -16, -16, -14, -11, -5, -16, -14, -12, -14, -14, -15, -7, -9, -19, -19, -19, -8, -15, -14, -24, -10, -21, -8, -14, -9, -19, -2, -24, -6, -12, -23, -1, -13, -24, -23, -1, -6, -22, -10, -3, -23, -26, -24, -2, -25, -18, -10, -20, -17, -11, 3, -6, 4, -1, -8, -17, 0, 0, -8, -7, -9, -13, 4, 0, -15, -3, -3, -13, -17, -14, 4, -5, -9, -9, -15, -4, -9, -13, -9, -5, -11, -6, -1, -5, 2, 0, -14, -25, 4, -11, -2, 0, -3, -1, 0, -5, -3, -14, -1, -9, -7, -11, 3, -5, -2, -8, -10, -9, -14, -5, -3, -4, -12, -17, 0, -15, -6, -3, -9, -7, -17, -15, 3, -8, 4, 1, -1, -1, -8, -16, -6, -12, 0, -10, -4, 0, -4, -5, -7, -15, -22, -24, -25, -24, -2, 3, -1, -7, -3, -24, -24, -2, -2, -7, -1, 1, -4, -4, -24, -1, -3, -11, 0, -3, -15, -24, -9, -7, -2, -1, -11, -5, -25, -7, -8, -10, -4, -1, -3, -5, -9, -25, -3, -8, 1, -16, -25, -3, -4, -25, -4, -1, -3, -15, -4, -7, -5, -1, -6, -26, -7, -8, -5, -12, -2, 1, -11, -18, -8, -15, -15, 4, -23, -27, -7, 2, -25, -10, -25, -2, -13, -25, -22, -2, -4, -12, -12, -7, -2, -23, -24, -2, -11, -8, -2, -1, -8, -22, 2, -15, -23, -7, -3, -16, -20, -6, -4, -23, -1, -29, -3, -10, -2, -12, -17, -11, -26, -20, -19, -6, -24, -21, -27, -16, -5, -16, -15, -24, -33, -5, -14, -14, -3, -6, -20, -16, 5, 8, -20, -1, -18, -14, -16, -12, -11, -17, -12, -10, -5, -11, -16, -20, -18, -15, -13, -11, -11, -14, -17, -10, -11, -5, -10, -8, -5, -10, 0, -8, -1, -8, -7, -5, -7, -8, -6, -11, -9, -9, -9, -15, -9, -22, -19, -10, -9, -7, -6, -21, -10, 1, -12, -21, -11, -8, -6, -9, -9, -19, 4, -10, -21, -9, 1, -22, -13, -9, 1, -23, -12, -7, -1, -21, -27, -16, -12, -11, -1, -8, -7, -10, -21, 2, -25, -13, -13, 2, -22, -10, -11, -9, -17, 1, -19, -11, -7, 5, -18, -12, -25, -11, -24, -23, -14, -2, -24, -7, -9, -7, -18, -24, -19, -3, -26, -15, -13, -21, -10, -26, -14, -11, -25, -5, -5, -11, -2, -25, -9, -9, -16, -14, -22, -5, -6, -10, -1, -10, -13, -14, -6, -8, -7, -4, -4, -9, -8, -9, -8, -14, -3, -14, -8, -14, -15, -12, -14, -24, -12, -12, -9, -8, -9, -18, -23, -6, -9, -10, -13, -11, -10, -14, -14, -13, -8, -23, -13, -12, -18, -9, -16, -10, -14, -12, -12, -16, -20, -18, -10, 3, -20, -11, -18, -2, -24, 1, 0, -2, 8, 5, -13, -20, -11, 2, -13, 1, -9, -9, -11, -2, -1, -11, 3, -8, 3, -9, -12, 2, -8, -10, -1, -8, -9, -8, -5, -8, 3, -12, -12, -9, -8, -1, -19, -18, -7, -6, -5, -7, -11, -24, -17, -27, 1, -27, -5, -25, -10, -10, -23, -14, -26, -8, -4, -24, -13, 0, -11, -20, -7, -25, -8, -6, -8, -9, -3, -1, -16, -7, -26, -16, -13, -24, -9, -5, -10, -27, -15, -3, -28, 0, -24, -30, -7, -12, -17, -31, -4, -21, 3, -16, 9, -10, -27, 5, -14, -25, -19, 5, 6, -27, -20, 0, -16, -12, -20, -10, -3, -14, -18, -15, -13, 7, -13, -15, -12, 6, -15, -18, 10, -14, -16, -10, 12, -20, -17, -15, -16, -18, -13, -9, -12, -11, -19, -6, -16, -6, -21, -1, -14, -6, -7, -7, -16, -13, -7, 1, 1, -2, -2, -16, -11, -6, -2, -2, -18, -5, -12, -7, -7, -9, -8, 0, -8, 2, 2, -10, 1, 1, -5, -8, -10, -5, 3, -1, -13, 3, -14, -15, 0, -15, -9, 1, -6, -10, 2, -13, -13, -9, -18, -10, -14, -11, -12, -19, -15, -14, -16, -18, -10, -11, -16, -14, -11, -20, -11, -30, 0, -9, -19, -11, -5, -2, -12, -20, -6, -21, -11, -15, -15, -23, -11, -24, -7, -11, -10, -20, -15, -11, -22, -15, -12, -23, -13, -12, -23, 5, -12, -10, -5, -23, -11, -12, -17, -24, 3, -7, -10, 1, -4, -22, -11, -14, -8, -7, -9, 2, -19, -7, -10, -10, 4, -11, -1, -7, -8, -15, -14, -11, -13, 1, -12, -8, -6, -10, 2, -9, -10, -10, -13, -1, -10, -8, -18, -19, -8, -15, -7, -20, -10, -12, -12, -11, -20, -12, -13, -19, -15, -15, -4, -14, -15, -11, -12, -9, -11, -1, -5, -7, -27, -5, -20, -18, -9, -8, -15, -4, -12, -4, -5, -20, -20, -10, -7, -8, -9, -5, -11, -10, 1, -13, -7, -9, -22, -7, -10, -3, -21, -1, -3, -16, -9, -1, -5, -8, -21, -10, -7, 0, 2, 0, -18, -1, -15, 1, -26, -6, -11, -12, -6, -14, -25, -11, -10, -15, -6, -7, -2, -12, -5, -21, -2, -4, -18, -9, -7, -2, -11, -8, -9, -15, -13, -26, -11, -8, -4, -6, -19, -8, -7, -8, 1, 0, -3, -14, -15, 1, -24, -12, -27, 1, -24, -16, -24, -11, -6, -15, 3, -15, -3, -27, -12, -5, 9, -25, 1, -3, -10, -9, -25, -6, -25, -16, -1, 7, -6, -17, -12, -25, -9, 2, -12, -3, 4, -8, 0, 6, -9, -3, -8, -21, -23, -25, -23, -1, -19, -8, -5, -13, -18, -24, -22, -28, -5, -25, -25, -2, 0, -18, -24, -22, -14, -8, -26, -9, -5, -10, -9, 0, -25, -4, -20, -2, 3, -11, -4, -22, -8, -7, -12, -15, -6, -10, -15, -8, -17, -25, -25, -8, -2, -23, -5, -17, -22, -3, -11, -1, -3, -17, -3, -25, -24, -3, -4, -19, -12, -14, -16, -1, -19, 0, -5, -17, 2, -9, 4, -16, -15, -20, -7, -17, -1, -1, 8, 3, -23, -9, -20, -12, -19, -17, 4, -20, -11, -24, 7, -11, -23, -24, 10, 1, -25, -33, 7, -20, -7, 5, -17, 7, -23, -15, -20, -15, 10, -17, -17, -16, -9, -15, 3, -8, 8, -20, -9, -11, -4, 7, -26, 10, -7, 9, -16, -12, 3, -15, -13, -21, -14, -11, -4, -13, -16, -12, -18, -12, -8, -9, -13, -16, -8, -12, -12], \"yaxis\": \"y\"}],\n",
              "                        {\"legend\": {\"tracegroupgap\": 0}, \"template\": {\"data\": {\"bar\": [{\"error_x\": {\"color\": \"#2a3f5f\"}, \"error_y\": {\"color\": \"#2a3f5f\"}, \"marker\": {\"line\": {\"color\": \"#E5ECF6\", \"width\": 0.5}}, \"type\": \"bar\"}], \"barpolar\": [{\"marker\": {\"line\": {\"color\": \"#E5ECF6\", \"width\": 0.5}}, \"type\": \"barpolar\"}], \"carpet\": [{\"aaxis\": {\"endlinecolor\": \"#2a3f5f\", \"gridcolor\": \"white\", \"linecolor\": \"white\", \"minorgridcolor\": \"white\", \"startlinecolor\": \"#2a3f5f\"}, \"baxis\": {\"endlinecolor\": \"#2a3f5f\", \"gridcolor\": \"white\", \"linecolor\": \"white\", \"minorgridcolor\": \"white\", \"startlinecolor\": \"#2a3f5f\"}, \"type\": \"carpet\"}], \"choropleth\": [{\"colorbar\": {\"outlinewidth\": 0, \"ticks\": \"\"}, \"type\": \"choropleth\"}], \"contour\": [{\"colorbar\": {\"outlinewidth\": 0, \"ticks\": \"\"}, \"colorscale\": [[0.0, \"#0d0887\"], [0.1111111111111111, \"#46039f\"], [0.2222222222222222, \"#7201a8\"], [0.3333333333333333, \"#9c179e\"], [0.4444444444444444, \"#bd3786\"], [0.5555555555555556, \"#d8576b\"], [0.6666666666666666, \"#ed7953\"], [0.7777777777777778, \"#fb9f3a\"], [0.8888888888888888, \"#fdca26\"], [1.0, \"#f0f921\"]], \"type\": \"contour\"}], \"contourcarpet\": [{\"colorbar\": {\"outlinewidth\": 0, \"ticks\": \"\"}, \"type\": \"contourcarpet\"}], \"heatmap\": [{\"colorbar\": {\"outlinewidth\": 0, \"ticks\": \"\"}, \"colorscale\": [[0.0, \"#0d0887\"], [0.1111111111111111, \"#46039f\"], [0.2222222222222222, \"#7201a8\"], [0.3333333333333333, \"#9c179e\"], [0.4444444444444444, \"#bd3786\"], [0.5555555555555556, \"#d8576b\"], [0.6666666666666666, \"#ed7953\"], [0.7777777777777778, \"#fb9f3a\"], [0.8888888888888888, \"#fdca26\"], [1.0, \"#f0f921\"]], \"type\": \"heatmap\"}], \"heatmapgl\": [{\"colorbar\": {\"outlinewidth\": 0, \"ticks\": \"\"}, \"colorscale\": [[0.0, \"#0d0887\"], [0.1111111111111111, \"#46039f\"], [0.2222222222222222, \"#7201a8\"], [0.3333333333333333, \"#9c179e\"], [0.4444444444444444, \"#bd3786\"], [0.5555555555555556, \"#d8576b\"], [0.6666666666666666, \"#ed7953\"], [0.7777777777777778, \"#fb9f3a\"], [0.8888888888888888, \"#fdca26\"], [1.0, \"#f0f921\"]], \"type\": \"heatmapgl\"}], \"histogram\": [{\"marker\": {\"colorbar\": {\"outlinewidth\": 0, \"ticks\": \"\"}}, \"type\": \"histogram\"}], \"histogram2d\": [{\"colorbar\": {\"outlinewidth\": 0, \"ticks\": \"\"}, \"colorscale\": [[0.0, \"#0d0887\"], [0.1111111111111111, \"#46039f\"], [0.2222222222222222, \"#7201a8\"], [0.3333333333333333, \"#9c179e\"], [0.4444444444444444, \"#bd3786\"], [0.5555555555555556, \"#d8576b\"], [0.6666666666666666, \"#ed7953\"], [0.7777777777777778, \"#fb9f3a\"], [0.8888888888888888, \"#fdca26\"], [1.0, \"#f0f921\"]], \"type\": \"histogram2d\"}], \"histogram2dcontour\": [{\"colorbar\": {\"outlinewidth\": 0, \"ticks\": \"\"}, \"colorscale\": [[0.0, \"#0d0887\"], [0.1111111111111111, \"#46039f\"], [0.2222222222222222, \"#7201a8\"], [0.3333333333333333, \"#9c179e\"], [0.4444444444444444, \"#bd3786\"], [0.5555555555555556, \"#d8576b\"], [0.6666666666666666, \"#ed7953\"], [0.7777777777777778, \"#fb9f3a\"], [0.8888888888888888, \"#fdca26\"], [1.0, \"#f0f921\"]], \"type\": \"histogram2dcontour\"}], \"mesh3d\": [{\"colorbar\": {\"outlinewidth\": 0, \"ticks\": \"\"}, \"type\": \"mesh3d\"}], \"parcoords\": [{\"line\": {\"colorbar\": {\"outlinewidth\": 0, \"ticks\": \"\"}}, \"type\": \"parcoords\"}], \"pie\": [{\"automargin\": true, \"type\": \"pie\"}], \"scatter\": [{\"marker\": {\"colorbar\": {\"outlinewidth\": 0, \"ticks\": \"\"}}, \"type\": \"scatter\"}], \"scatter3d\": [{\"line\": {\"colorbar\": {\"outlinewidth\": 0, \"ticks\": \"\"}}, \"marker\": {\"colorbar\": {\"outlinewidth\": 0, \"ticks\": \"\"}}, \"type\": \"scatter3d\"}], \"scattercarpet\": [{\"marker\": {\"colorbar\": {\"outlinewidth\": 0, \"ticks\": \"\"}}, \"type\": \"scattercarpet\"}], \"scattergeo\": [{\"marker\": {\"colorbar\": {\"outlinewidth\": 0, \"ticks\": \"\"}}, \"type\": \"scattergeo\"}], \"scattergl\": [{\"marker\": {\"colorbar\": {\"outlinewidth\": 0, \"ticks\": \"\"}}, \"type\": \"scattergl\"}], \"scattermapbox\": [{\"marker\": {\"colorbar\": {\"outlinewidth\": 0, \"ticks\": \"\"}}, \"type\": \"scattermapbox\"}], \"scatterpolar\": [{\"marker\": {\"colorbar\": {\"outlinewidth\": 0, \"ticks\": \"\"}}, \"type\": \"scatterpolar\"}], \"scatterpolargl\": [{\"marker\": {\"colorbar\": {\"outlinewidth\": 0, \"ticks\": \"\"}}, \"type\": \"scatterpolargl\"}], \"scatterternary\": [{\"marker\": {\"colorbar\": {\"outlinewidth\": 0, \"ticks\": \"\"}}, \"type\": \"scatterternary\"}], \"surface\": [{\"colorbar\": {\"outlinewidth\": 0, \"ticks\": \"\"}, \"colorscale\": [[0.0, \"#0d0887\"], [0.1111111111111111, \"#46039f\"], [0.2222222222222222, \"#7201a8\"], [0.3333333333333333, \"#9c179e\"], [0.4444444444444444, \"#bd3786\"], [0.5555555555555556, \"#d8576b\"], [0.6666666666666666, \"#ed7953\"], [0.7777777777777778, \"#fb9f3a\"], [0.8888888888888888, \"#fdca26\"], [1.0, \"#f0f921\"]], \"type\": \"surface\"}], \"table\": [{\"cells\": {\"fill\": {\"color\": \"#EBF0F8\"}, \"line\": {\"color\": \"white\"}}, \"header\": {\"fill\": {\"color\": \"#C8D4E3\"}, \"line\": {\"color\": \"white\"}}, \"type\": \"table\"}]}, \"layout\": {\"annotationdefaults\": {\"arrowcolor\": \"#2a3f5f\", \"arrowhead\": 0, \"arrowwidth\": 1}, \"coloraxis\": {\"colorbar\": {\"outlinewidth\": 0, \"ticks\": \"\"}}, \"colorscale\": {\"diverging\": [[0, \"#8e0152\"], [0.1, \"#c51b7d\"], [0.2, \"#de77ae\"], [0.3, \"#f1b6da\"], [0.4, \"#fde0ef\"], [0.5, \"#f7f7f7\"], [0.6, \"#e6f5d0\"], [0.7, \"#b8e186\"], [0.8, \"#7fbc41\"], [0.9, \"#4d9221\"], [1, \"#276419\"]], \"sequential\": [[0.0, \"#0d0887\"], [0.1111111111111111, \"#46039f\"], [0.2222222222222222, \"#7201a8\"], [0.3333333333333333, \"#9c179e\"], [0.4444444444444444, \"#bd3786\"], [0.5555555555555556, \"#d8576b\"], [0.6666666666666666, \"#ed7953\"], [0.7777777777777778, \"#fb9f3a\"], [0.8888888888888888, \"#fdca26\"], [1.0, \"#f0f921\"]], \"sequentialminus\": [[0.0, \"#0d0887\"], [0.1111111111111111, \"#46039f\"], [0.2222222222222222, \"#7201a8\"], [0.3333333333333333, \"#9c179e\"], [0.4444444444444444, \"#bd3786\"], [0.5555555555555556, \"#d8576b\"], [0.6666666666666666, \"#ed7953\"], [0.7777777777777778, \"#fb9f3a\"], [0.8888888888888888, \"#fdca26\"], [1.0, \"#f0f921\"]]}, \"colorway\": [\"#636efa\", \"#EF553B\", \"#00cc96\", \"#ab63fa\", \"#FFA15A\", \"#19d3f3\", \"#FF6692\", \"#B6E880\", \"#FF97FF\", \"#FECB52\"], \"font\": {\"color\": \"#2a3f5f\"}, \"geo\": {\"bgcolor\": \"white\", \"lakecolor\": \"white\", \"landcolor\": \"#E5ECF6\", \"showlakes\": true, \"showland\": true, \"subunitcolor\": \"white\"}, \"hoverlabel\": {\"align\": \"left\"}, \"hovermode\": \"closest\", \"mapbox\": {\"style\": \"light\"}, \"paper_bgcolor\": \"white\", \"plot_bgcolor\": \"#E5ECF6\", \"polar\": {\"angularaxis\": {\"gridcolor\": \"white\", \"linecolor\": \"white\", \"ticks\": \"\"}, \"bgcolor\": \"#E5ECF6\", \"radialaxis\": {\"gridcolor\": \"white\", \"linecolor\": \"white\", \"ticks\": \"\"}}, \"scene\": {\"xaxis\": {\"backgroundcolor\": \"#E5ECF6\", \"gridcolor\": \"white\", \"gridwidth\": 2, \"linecolor\": \"white\", \"showbackground\": true, \"ticks\": \"\", \"zerolinecolor\": \"white\"}, \"yaxis\": {\"backgroundcolor\": \"#E5ECF6\", \"gridcolor\": \"white\", \"gridwidth\": 2, \"linecolor\": \"white\", \"showbackground\": true, \"ticks\": \"\", \"zerolinecolor\": \"white\"}, \"zaxis\": {\"backgroundcolor\": \"#E5ECF6\", \"gridcolor\": \"white\", \"gridwidth\": 2, \"linecolor\": \"white\", \"showbackground\": true, \"ticks\": \"\", \"zerolinecolor\": \"white\"}}, \"shapedefaults\": {\"line\": {\"color\": \"#2a3f5f\"}}, \"ternary\": {\"aaxis\": {\"gridcolor\": \"white\", \"linecolor\": \"white\", \"ticks\": \"\"}, \"baxis\": {\"gridcolor\": \"white\", \"linecolor\": \"white\", \"ticks\": \"\"}, \"bgcolor\": \"#E5ECF6\", \"caxis\": {\"gridcolor\": \"white\", \"linecolor\": \"white\", \"ticks\": \"\"}}, \"title\": {\"x\": 0.05}, \"xaxis\": {\"automargin\": true, \"gridcolor\": \"white\", \"linecolor\": \"white\", \"ticks\": \"\", \"title\": {\"standoff\": 15}, \"zerolinecolor\": \"white\", \"zerolinewidth\": 2}, \"yaxis\": {\"automargin\": true, \"gridcolor\": \"white\", \"linecolor\": \"white\", \"ticks\": \"\", \"title\": {\"standoff\": 15}, \"zerolinecolor\": \"white\", \"zerolinewidth\": 2}}}, \"title\": {\"text\": \"SNR between transmit station G8VDQ and receive station OZ7IT\"}, \"xaxis\": {\"anchor\": \"y\", \"domain\": [0.0, 1.0], \"title\": {\"text\": \"Timestamp\"}}, \"yaxis\": {\"anchor\": \"x\", \"domain\": [0.0, 1.0], \"title\": {\"text\": \"SNR\"}}},\n",
              "                        {\"responsive\": true}\n",
              "                    ).then(function(){\n",
              "                            \n",
              "var gd = document.getElementById('2de5b402-eec2-41f2-87ad-1263b0a6656a');\n",
              "var x = new MutationObserver(function (mutations, observer) {{\n",
              "        var display = window.getComputedStyle(gd).display;\n",
              "        if (!display || display === 'none') {{\n",
              "            console.log([gd, 'removed!']);\n",
              "            Plotly.purge(gd);\n",
              "            observer.disconnect();\n",
              "        }}\n",
              "}});\n",
              "\n",
              "// Listen for the removal of the full notebook cells\n",
              "var notebookContainer = gd.closest('#notebook-container');\n",
              "if (notebookContainer) {{\n",
              "    x.observe(notebookContainer, {childList: true});\n",
              "}}\n",
              "\n",
              "// Listen for the clearing of the current output cell\n",
              "var outputEl = gd.closest('.output');\n",
              "if (outputEl) {{\n",
              "    x.observe(outputEl, {childList: true});\n",
              "}}\n",
              "\n",
              "                        })\n",
              "                };\n",
              "                \n",
              "            </script>\n",
              "        </div>\n",
              "</body>\n",
              "</html>"
            ]
          },
          "metadata": {}
        }
      ]
    },
    {
      "cell_type": "code",
      "metadata": {
        "colab": {
          "base_uri": "https://localhost:8080/",
          "height": 542
        },
        "id": "Yf3MmuVFCICE",
        "outputId": "860363e9-7851-4aa5-ccd1-049c73fb3b53"
      },
      "source": [
        "\n",
        "import plotly.express as px\n",
        "\n",
        "fig = px.line(pairs_df, x=\"Timestamp\", y=\"Drift (Hz/s)\", title = f\"Drift(Hz/s) between transmit station {TX_STATION} and receive station {RX_STATION}\")\n",
        "fig.show()\n"
      ],
      "execution_count": 213,
      "outputs": [
        {
          "output_type": "display_data",
          "data": {
            "text/html": [
              "<html>\n",
              "<head><meta charset=\"utf-8\" /></head>\n",
              "<body>\n",
              "    <div>\n",
              "            <script src=\"https://cdnjs.cloudflare.com/ajax/libs/mathjax/2.7.5/MathJax.js?config=TeX-AMS-MML_SVG\"></script><script type=\"text/javascript\">if (window.MathJax) {MathJax.Hub.Config({SVG: {font: \"STIX-Web\"}});}</script>\n",
              "                <script type=\"text/javascript\">window.PlotlyConfig = {MathJaxConfig: 'local'};</script>\n",
              "        <script src=\"https://cdn.plot.ly/plotly-latest.min.js\"></script>    \n",
              "            <div id=\"69d0ada5-90a3-48a5-9bab-782051e4a2d7\" class=\"plotly-graph-div\" style=\"height:525px; width:100%;\"></div>\n",
              "            <script type=\"text/javascript\">\n",
              "                \n",
              "                    window.PLOTLYENV=window.PLOTLYENV || {};\n",
              "                    \n",
              "                if (document.getElementById(\"69d0ada5-90a3-48a5-9bab-782051e4a2d7\")) {\n",
              "                    Plotly.newPlot(\n",
              "                        '69d0ada5-90a3-48a5-9bab-782051e4a2d7',\n",
              "                        [{\"hoverlabel\": {\"namelength\": 0}, \"hovertemplate\": \"Timestamp=%{x}<br>Drift (Hz/s)=%{y}\", \"legendgroup\": \"\", \"line\": {\"color\": \"#636efa\", \"dash\": \"solid\"}, \"mode\": \"lines\", \"name\": \"\", \"showlegend\": false, \"type\": \"scattergl\", \"x\": [\"2014-03-01T00:02:00\", \"2014-03-01T00:04:00\", \"2014-03-01T00:08:00\", \"2014-03-01T00:12:00\", \"2014-03-01T00:22:00\", \"2014-03-01T00:24:00\", \"2014-03-01T00:32:00\", \"2014-03-01T00:34:00\", \"2014-03-01T00:42:00\", \"2014-03-01T00:48:00\", \"2014-03-01T00:54:00\", \"2014-03-01T01:02:00\", \"2014-03-01T01:04:00\", \"2014-03-01T01:12:00\", \"2014-03-01T01:14:00\", \"2014-03-01T01:22:00\", \"2014-03-01T01:24:00\", \"2014-03-01T01:32:00\", \"2014-03-01T01:34:00\", \"2014-03-01T01:54:00\", \"2014-03-01T02:02:00\", \"2014-03-01T02:04:00\", \"2014-03-01T02:12:00\", \"2014-03-01T02:22:00\", \"2014-03-01T02:24:00\", \"2014-03-01T02:32:00\", \"2014-03-01T02:34:00\", \"2014-03-01T02:44:00\", \"2014-03-01T02:48:00\", \"2014-03-01T02:52:00\", \"2014-03-01T03:02:00\", \"2014-03-01T03:04:00\", \"2014-03-01T03:12:00\", \"2014-03-01T03:42:00\", \"2014-03-01T03:52:00\", \"2014-03-01T04:02:00\", \"2014-03-01T04:04:00\", \"2014-03-01T04:12:00\", \"2014-03-01T04:14:00\", \"2014-03-01T04:22:00\", \"2014-03-01T05:02:00\", \"2014-03-01T05:22:00\", \"2014-03-01T05:32:00\", \"2014-03-01T05:42:00\", \"2014-03-01T05:46:00\", \"2014-03-01T06:02:00\", \"2014-03-01T06:12:00\", \"2014-03-01T06:16:00\", \"2014-03-01T06:18:00\", \"2014-03-01T06:20:00\", \"2014-03-01T06:22:00\", \"2014-03-01T06:32:00\", \"2014-03-01T06:32:00\", \"2014-03-01T06:34:00\", \"2014-03-01T06:36:00\", \"2014-03-01T06:40:00\", \"2014-03-01T06:42:00\", \"2014-03-01T06:46:00\", \"2014-03-01T06:46:00\", \"2014-03-01T06:52:00\", \"2014-03-01T06:52:00\", \"2014-03-01T06:56:00\", \"2014-03-01T06:58:00\", \"2014-03-01T06:58:00\", \"2014-03-01T06:58:00\", \"2014-03-01T07:00:00\", \"2014-03-01T07:02:00\", \"2014-03-01T07:04:00\", \"2014-03-01T07:06:00\", \"2014-03-01T07:06:00\", \"2014-03-01T07:08:00\", \"2014-03-01T07:12:00\", \"2014-03-01T07:12:00\", \"2014-03-01T07:16:00\", \"2014-03-01T07:18:00\", \"2014-03-01T07:20:00\", \"2014-03-01T07:26:00\", \"2014-03-01T07:32:00\", \"2014-03-01T07:38:00\", \"2014-03-01T07:38:00\", \"2014-03-01T07:40:00\", \"2014-03-01T07:46:00\", \"2014-03-01T07:46:00\", \"2014-03-01T07:48:00\", \"2014-03-01T07:48:00\", \"2014-03-01T07:52:00\", \"2014-03-01T07:52:00\", \"2014-03-01T07:58:00\", \"2014-03-01T08:00:00\", \"2014-03-01T08:00:00\", \"2014-03-01T08:06:00\", \"2014-03-01T08:06:00\", \"2014-03-01T08:12:00\", \"2014-03-01T08:12:00\", \"2014-03-01T08:16:00\", \"2014-03-01T08:18:00\", \"2014-03-01T08:26:00\", \"2014-03-01T08:26:00\", \"2014-03-01T08:32:00\", \"2014-03-01T08:38:00\", \"2014-03-01T08:38:00\", \"2014-03-01T08:40:00\", \"2014-03-01T08:40:00\", \"2014-03-01T08:46:00\", \"2014-03-01T08:52:00\", \"2014-03-01T08:52:00\", \"2014-03-01T09:00:00\", \"2014-03-01T09:04:00\", \"2014-03-01T09:06:00\", \"2014-03-01T09:06:00\", \"2014-03-01T09:08:00\", \"2014-03-01T09:12:00\", \"2014-03-01T09:12:00\", \"2014-03-01T09:18:00\", \"2014-03-01T10:10:00\", \"2014-03-01T10:24:00\", \"2014-03-01T10:26:00\", \"2014-03-01T10:26:00\", \"2014-03-01T10:30:00\", \"2014-03-01T10:32:00\", \"2014-03-01T10:38:00\", \"2014-03-01T10:38:00\", \"2014-03-01T10:40:00\", \"2014-03-01T10:40:00\", \"2014-03-01T10:44:00\", \"2014-03-01T10:46:00\", \"2014-03-01T10:46:00\", \"2014-03-01T10:48:00\", \"2014-03-01T10:48:00\", \"2014-03-01T10:52:00\", \"2014-03-01T10:52:00\", \"2014-03-01T10:58:00\", \"2014-03-01T10:58:00\", \"2014-03-01T10:58:00\", \"2014-03-01T11:00:00\", \"2014-03-01T11:00:00\", \"2014-03-01T11:02:00\", \"2014-03-01T11:04:00\", \"2014-03-01T11:04:00\", \"2014-03-01T11:06:00\", \"2014-03-01T11:12:00\", \"2014-03-01T11:12:00\", \"2014-03-01T11:16:00\", \"2014-03-01T11:20:00\", \"2014-03-01T11:20:00\", \"2014-03-01T11:26:00\", \"2014-03-01T11:28:00\", \"2014-03-01T11:32:00\", \"2014-03-01T11:32:00\", \"2014-03-01T11:36:00\", \"2014-03-01T11:38:00\", \"2014-03-01T11:46:00\", \"2014-03-01T11:48:00\", \"2014-03-01T11:50:00\", \"2014-03-01T11:56:00\", \"2014-03-01T11:58:00\", \"2014-03-01T12:00:00\", \"2014-03-01T12:00:00\", \"2014-03-01T12:06:00\", \"2014-03-01T12:08:00\", \"2014-03-01T12:12:00\", \"2014-03-01T12:12:00\", \"2014-03-01T12:18:00\", \"2014-03-01T12:20:00\", \"2014-03-01T12:20:00\", \"2014-03-01T12:28:00\", \"2014-03-01T12:28:00\", \"2014-03-01T12:34:00\", \"2014-03-01T12:36:00\", \"2014-03-01T12:38:00\", \"2014-03-01T12:38:00\", \"2014-03-01T12:40:00\", \"2014-03-01T12:40:00\", \"2014-03-01T12:44:00\", \"2014-03-01T12:46:00\", \"2014-03-01T12:46:00\", \"2014-03-01T12:52:00\", \"2014-03-01T12:52:00\", \"2014-03-01T12:58:00\", \"2014-03-01T12:58:00\", \"2014-03-01T13:02:00\", \"2014-03-01T13:06:00\", \"2014-03-01T13:06:00\", \"2014-03-01T13:10:00\", \"2014-03-01T13:12:00\", \"2014-03-01T13:12:00\", \"2014-03-01T13:20:00\", \"2014-03-01T13:32:00\", \"2014-03-01T13:32:00\", \"2014-03-01T13:38:00\", \"2014-03-01T13:38:00\", \"2014-03-01T13:38:00\", \"2014-03-01T13:40:00\", \"2014-03-01T13:40:00\", \"2014-03-01T13:42:00\", \"2014-03-01T13:52:00\", \"2014-03-01T13:52:00\", \"2014-03-01T13:58:00\", \"2014-03-01T13:58:00\", \"2014-03-01T14:02:00\", \"2014-03-01T14:06:00\", \"2014-03-01T14:06:00\", \"2014-03-01T14:12:00\", \"2014-03-01T14:20:00\", \"2014-03-01T14:20:00\", \"2014-03-01T14:22:00\", \"2014-03-01T14:26:00\", \"2014-03-01T14:26:00\", \"2014-03-01T14:28:00\", \"2014-03-01T14:32:00\", \"2014-03-01T14:38:00\", \"2014-03-01T14:40:00\", \"2014-03-01T14:40:00\", \"2014-03-01T14:46:00\", \"2014-03-01T14:46:00\", \"2014-03-01T14:48:00\", \"2014-03-01T14:52:00\", \"2014-03-01T14:58:00\", \"2014-03-01T14:58:00\", \"2014-03-01T15:00:00\", \"2014-03-01T15:00:00\", \"2014-03-01T15:02:00\", \"2014-03-01T15:06:00\", \"2014-03-01T15:06:00\", \"2014-03-01T15:08:00\", \"2014-03-01T15:12:00\", \"2014-03-01T15:12:00\", \"2014-03-01T15:18:00\", \"2014-03-01T15:20:00\", \"2014-03-01T15:22:00\", \"2014-03-01T15:24:00\", \"2014-03-01T15:28:00\", \"2014-03-01T15:32:00\", \"2014-03-01T15:36:00\", \"2014-03-01T15:38:00\", \"2014-03-01T15:38:00\", \"2014-03-01T15:40:00\", \"2014-03-01T15:46:00\", \"2014-03-01T15:46:00\", \"2014-03-01T15:52:00\", \"2014-03-01T15:52:00\", \"2014-03-01T15:56:00\", \"2014-03-01T15:58:00\", \"2014-03-01T15:58:00\", \"2014-03-01T15:58:00\", \"2014-03-01T16:00:00\", \"2014-03-01T16:06:00\", \"2014-03-01T16:12:00\", \"2014-03-01T16:16:00\", \"2014-03-01T16:16:00\", \"2014-03-01T16:20:00\", \"2014-03-01T16:20:00\", \"2014-03-01T16:26:00\", \"2014-03-01T16:36:00\", \"2014-03-01T16:38:00\", \"2014-03-01T16:38:00\", \"2014-03-01T16:40:00\", \"2014-03-01T16:40:00\", \"2014-03-01T16:46:00\", \"2014-03-01T16:46:00\", \"2014-03-01T16:52:00\", \"2014-03-01T16:52:00\", \"2014-03-01T16:52:00\", \"2014-03-01T16:58:00\", \"2014-03-01T16:58:00\", \"2014-03-01T17:00:00\", \"2014-03-01T17:02:00\", \"2014-03-01T17:06:00\", \"2014-03-01T17:08:00\", \"2014-03-01T17:12:00\", \"2014-03-01T17:12:00\", \"2014-03-01T17:14:00\", \"2014-03-01T17:18:00\", \"2014-03-01T17:22:00\", \"2014-03-01T17:26:00\", \"2014-03-01T17:26:00\", \"2014-03-01T17:32:00\", \"2014-03-01T17:32:00\", \"2014-03-01T17:32:00\", \"2014-03-01T17:34:00\", \"2014-03-01T17:38:00\", \"2014-03-01T17:38:00\", \"2014-03-01T17:40:00\", \"2014-03-01T17:40:00\", \"2014-03-01T17:42:00\", \"2014-03-01T17:46:00\", \"2014-03-01T17:46:00\", \"2014-03-01T17:52:00\", \"2014-03-01T17:52:00\", \"2014-03-01T17:52:00\", \"2014-03-01T17:54:00\", \"2014-03-01T18:00:00\", \"2014-03-01T18:00:00\", \"2014-03-01T18:02:00\", \"2014-03-01T18:04:00\", \"2014-03-01T18:20:00\", \"2014-03-01T18:20:00\", \"2014-03-01T18:22:00\", \"2014-03-01T18:24:00\", \"2014-03-01T18:26:00\", \"2014-03-01T18:26:00\", \"2014-03-01T18:28:00\", \"2014-03-01T18:28:00\", \"2014-03-01T18:32:00\", \"2014-03-01T18:32:00\", \"2014-03-01T18:32:00\", \"2014-03-01T18:34:00\", \"2014-03-01T18:40:00\", \"2014-03-01T18:40:00\", \"2014-03-01T18:42:00\", \"2014-03-01T18:44:00\", \"2014-03-01T18:52:00\", \"2014-03-01T18:52:00\", \"2014-03-01T18:52:00\", \"2014-03-01T18:56:00\", \"2014-03-01T18:58:00\", \"2014-03-01T18:58:00\", \"2014-03-01T18:58:00\", \"2014-03-01T19:02:00\", \"2014-03-01T19:04:00\", \"2014-03-01T19:06:00\", \"2014-03-01T19:06:00\", \"2014-03-01T19:06:00\", \"2014-03-01T19:14:00\", \"2014-03-01T19:16:00\", \"2014-03-01T19:18:00\", \"2014-03-01T19:18:00\", \"2014-03-01T19:20:00\", \"2014-03-01T19:20:00\", \"2014-03-01T19:24:00\", \"2014-03-01T19:32:00\", \"2014-03-01T19:34:00\", \"2014-03-01T19:36:00\", \"2014-03-01T19:40:00\", \"2014-03-01T19:42:00\", \"2014-03-01T19:44:00\", \"2014-03-01T19:46:00\", \"2014-03-01T19:46:00\", \"2014-03-01T19:48:00\", \"2014-03-01T19:54:00\", \"2014-03-01T19:56:00\", \"2014-03-01T19:58:00\", \"2014-03-01T20:04:00\", \"2014-03-01T20:06:00\", \"2014-03-01T20:06:00\", \"2014-03-01T20:08:00\", \"2014-03-01T20:14:00\", \"2014-03-01T20:16:00\", \"2014-03-01T20:18:00\", \"2014-03-01T20:26:00\", \"2014-03-01T20:26:00\", \"2014-03-01T20:32:00\", \"2014-03-01T20:38:00\", \"2014-03-01T20:40:00\", \"2014-03-01T20:42:00\", \"2014-03-01T20:46:00\", \"2014-03-01T20:52:00\", \"2014-03-01T20:52:00\", \"2014-03-01T20:54:00\", \"2014-03-01T20:56:00\", \"2014-03-01T20:58:00\", \"2014-03-01T21:04:00\", \"2014-03-01T21:06:00\", \"2014-03-01T21:12:00\", \"2014-03-01T21:12:00\", \"2014-03-01T21:14:00\", \"2014-03-01T21:16:00\", \"2014-03-01T21:18:00\", \"2014-03-01T21:18:00\", \"2014-03-01T21:22:00\", \"2014-03-01T21:24:00\", \"2014-03-01T21:26:00\", \"2014-03-01T21:32:00\", \"2014-03-01T21:36:00\", \"2014-03-01T21:42:00\", \"2014-03-01T21:44:00\", \"2014-03-01T21:46:00\", \"2014-03-01T21:48:00\", \"2014-03-01T21:52:00\", \"2014-03-01T21:54:00\", \"2014-03-01T21:56:00\", \"2014-03-01T21:58:00\", \"2014-03-01T22:04:00\", \"2014-03-01T22:06:00\", \"2014-03-01T22:08:00\", \"2014-03-01T22:14:00\", \"2014-03-01T22:16:00\", \"2014-03-01T22:18:00\", \"2014-03-01T22:24:00\", \"2014-03-01T22:28:00\", \"2014-03-01T22:34:00\", \"2014-03-01T22:36:00\", \"2014-03-01T22:42:00\", \"2014-03-01T22:44:00\", \"2014-03-01T22:46:00\", \"2014-03-01T22:54:00\", \"2014-03-01T23:02:00\", \"2014-03-01T23:04:00\", \"2014-03-01T23:12:00\", \"2014-03-01T23:14:00\", \"2014-03-01T23:22:00\", \"2014-03-01T23:24:00\", \"2014-03-01T23:34:00\", \"2014-03-01T23:42:00\", \"2014-03-01T23:44:00\", \"2014-03-01T23:52:00\", \"2014-03-02T00:04:00\", \"2014-03-02T00:12:00\", \"2014-03-02T00:22:00\", \"2014-03-02T00:32:00\", \"2014-03-02T00:42:00\", \"2014-03-02T01:02:00\", \"2014-03-02T01:04:00\", \"2014-03-02T01:12:00\", \"2014-03-02T01:24:00\", \"2014-03-02T01:32:00\", \"2014-03-02T01:46:00\", \"2014-03-02T01:52:00\", \"2014-03-02T02:02:00\", \"2014-03-02T02:12:00\", \"2014-03-02T02:32:00\", \"2014-03-02T02:32:00\", \"2014-03-02T02:38:00\", \"2014-03-02T02:40:00\", \"2014-03-02T02:42:00\", \"2014-03-02T02:46:00\", \"2014-03-02T02:52:00\", \"2014-03-02T02:58:00\", \"2014-03-02T02:58:00\", \"2014-03-02T03:00:00\", \"2014-03-02T03:02:00\", \"2014-03-02T03:12:00\", \"2014-03-02T03:12:00\", \"2014-03-02T03:20:00\", \"2014-03-02T03:22:00\", \"2014-03-02T03:28:00\", \"2014-03-02T03:32:00\", \"2014-03-02T03:32:00\", \"2014-03-02T03:44:00\", \"2014-03-02T03:52:00\", \"2014-03-02T03:52:00\", \"2014-03-02T03:54:00\", \"2014-03-02T03:58:00\", \"2014-03-02T04:02:00\", \"2014-03-02T04:12:00\", \"2014-03-02T04:14:00\", \"2014-03-02T04:18:00\", \"2014-03-02T04:22:00\", \"2014-03-02T04:28:00\", \"2014-03-02T04:32:00\", \"2014-03-02T05:14:00\", \"2014-03-02T05:32:00\", \"2014-03-02T05:42:00\", \"2014-03-02T05:44:00\", \"2014-03-02T05:52:00\", \"2014-03-02T06:04:00\", \"2014-03-02T06:08:00\", \"2014-03-02T06:24:00\", \"2014-03-02T06:28:00\", \"2014-03-02T06:38:00\", \"2014-03-02T06:44:00\", \"2014-03-02T06:52:00\", \"2014-03-02T06:52:00\", \"2014-03-02T07:00:00\", \"2014-03-02T07:00:00\", \"2014-03-02T07:12:00\", \"2014-03-02T07:18:00\", \"2014-03-02T07:18:00\", \"2014-03-02T07:24:00\", \"2014-03-02T07:28:00\", \"2014-03-02T07:28:00\", \"2014-03-02T07:32:00\", \"2014-03-02T07:38:00\", \"2014-03-02T07:40:00\", \"2014-03-02T07:42:00\", \"2014-03-02T07:46:00\", \"2014-03-02T07:52:00\", \"2014-03-02T07:52:00\", \"2014-03-02T07:58:00\", \"2014-03-02T07:58:00\", \"2014-03-02T07:58:00\", \"2014-03-02T08:00:00\", \"2014-03-02T08:06:00\", \"2014-03-02T08:06:00\", \"2014-03-02T08:08:00\", \"2014-03-02T08:12:00\", \"2014-03-02T08:12:00\", \"2014-03-02T08:20:00\", \"2014-03-02T08:26:00\", \"2014-03-02T08:26:00\", \"2014-03-02T08:32:00\", \"2014-03-02T08:38:00\", \"2014-03-02T08:40:00\", \"2014-03-02T08:40:00\", \"2014-03-02T08:46:00\", \"2014-03-02T08:48:00\", \"2014-03-02T08:52:00\", \"2014-03-02T08:52:00\", \"2014-03-02T08:58:00\", \"2014-03-02T08:58:00\", \"2014-03-02T09:00:00\", \"2014-03-02T09:06:00\", \"2014-03-02T09:12:00\", \"2014-03-02T09:12:00\", \"2014-03-02T09:18:00\", \"2014-03-02T09:18:00\", \"2014-03-02T09:20:00\", \"2014-03-02T09:26:00\", \"2014-03-02T09:32:00\", \"2014-03-02T09:32:00\", \"2014-03-02T09:38:00\", \"2014-03-02T09:40:00\", \"2014-03-02T09:40:00\", \"2014-03-02T09:42:00\", \"2014-03-02T09:44:00\", \"2014-03-02T09:48:00\", \"2014-03-02T09:52:00\", \"2014-03-02T09:52:00\", \"2014-03-02T09:58:00\", \"2014-03-02T10:00:00\", \"2014-03-02T10:06:00\", \"2014-03-02T10:12:00\", \"2014-03-02T10:20:00\", \"2014-03-02T10:20:00\", \"2014-03-02T10:22:00\", \"2014-03-02T10:26:00\", \"2014-03-02T10:26:00\", \"2014-03-02T10:28:00\", \"2014-03-02T10:32:00\", \"2014-03-02T10:32:00\", \"2014-03-02T10:40:00\", \"2014-03-02T10:40:00\", \"2014-03-02T10:48:00\", \"2014-03-02T10:52:00\", \"2014-03-02T10:52:00\", \"2014-03-02T10:58:00\", \"2014-03-02T10:58:00\", \"2014-03-02T11:00:00\", \"2014-03-02T11:06:00\", \"2014-03-02T11:06:00\", \"2014-03-02T11:08:00\", \"2014-03-02T11:08:00\", \"2014-03-02T11:12:00\", \"2014-03-02T11:12:00\", \"2014-03-02T11:14:00\", \"2014-03-02T11:20:00\", \"2014-03-02T11:20:00\", \"2014-03-02T11:22:00\", \"2014-03-02T11:26:00\", \"2014-03-02T11:26:00\", \"2014-03-02T11:32:00\", \"2014-03-02T11:32:00\", \"2014-03-02T11:34:00\", \"2014-03-02T11:38:00\", \"2014-03-02T11:38:00\", \"2014-03-02T11:38:00\", \"2014-03-02T11:42:00\", \"2014-03-02T11:42:00\", \"2014-03-02T11:48:00\", \"2014-03-02T11:48:00\", \"2014-03-02T11:52:00\", \"2014-03-02T11:52:00\", \"2014-03-02T11:58:00\", \"2014-03-02T12:00:00\", \"2014-03-02T12:00:00\", \"2014-03-02T12:06:00\", \"2014-03-02T12:08:00\", \"2014-03-02T12:10:00\", \"2014-03-02T12:10:00\", \"2014-03-02T12:16:00\", \"2014-03-02T12:16:00\", \"2014-03-02T12:18:00\", \"2014-03-02T12:18:00\", \"2014-03-02T12:20:00\", \"2014-03-02T12:26:00\", \"2014-03-02T12:28:00\", \"2014-03-02T12:30:00\", \"2014-03-02T12:36:00\", \"2014-03-02T12:38:00\", \"2014-03-02T12:38:00\", \"2014-03-02T12:38:00\", \"2014-03-02T12:40:00\", \"2014-03-02T12:40:00\", \"2014-03-02T12:46:00\", \"2014-03-02T12:48:00\", \"2014-03-02T12:50:00\", \"2014-03-02T12:58:00\", \"2014-03-02T12:58:00\", \"2014-03-02T13:06:00\", \"2014-03-02T13:06:00\", \"2014-03-02T13:08:00\", \"2014-03-02T13:08:00\", \"2014-03-02T13:10:00\", \"2014-03-02T13:12:00\", \"2014-03-02T13:12:00\", \"2014-03-02T13:18:00\", \"2014-03-02T13:18:00\", \"2014-03-02T13:20:00\", \"2014-03-02T13:20:00\", \"2014-03-02T13:24:00\", \"2014-03-02T13:26:00\", \"2014-03-02T13:26:00\", \"2014-03-02T13:32:00\", \"2014-03-02T13:32:00\", \"2014-03-02T13:38:00\", \"2014-03-02T13:38:00\", \"2014-03-02T13:40:00\", \"2014-03-02T13:40:00\", \"2014-03-02T13:44:00\", \"2014-03-02T13:46:00\", \"2014-03-02T13:46:00\", \"2014-03-02T13:48:00\", \"2014-03-02T13:48:00\", \"2014-03-02T13:50:00\", \"2014-03-02T13:52:00\", \"2014-03-02T13:52:00\", \"2014-03-02T13:56:00\", \"2014-03-02T13:58:00\", \"2014-03-02T13:58:00\", \"2014-03-02T14:06:00\", \"2014-03-02T14:08:00\", \"2014-03-02T14:08:00\", \"2014-03-02T14:12:00\", \"2014-03-02T14:12:00\", \"2014-03-02T14:20:00\", \"2014-03-02T14:20:00\", \"2014-03-02T14:24:00\", \"2014-03-02T14:26:00\", \"2014-03-02T14:32:00\", \"2014-03-02T14:32:00\", \"2014-03-02T14:38:00\", \"2014-03-02T14:38:00\", \"2014-03-02T14:40:00\", \"2014-03-02T14:40:00\", \"2014-03-02T14:42:00\", \"2014-03-02T14:46:00\", \"2014-03-02T14:48:00\", \"2014-03-02T14:52:00\", \"2014-03-02T14:52:00\", \"2014-03-02T14:56:00\", \"2014-03-02T14:56:00\", \"2014-03-02T15:00:00\", \"2014-03-02T15:00:00\", \"2014-03-02T15:04:00\", \"2014-03-02T15:06:00\", \"2014-03-02T15:10:00\", \"2014-03-02T15:12:00\", \"2014-03-02T15:12:00\", \"2014-03-02T15:16:00\", \"2014-03-02T15:16:00\", \"2014-03-02T15:18:00\", \"2014-03-02T15:20:00\", \"2014-03-02T15:20:00\", \"2014-03-02T15:26:00\", \"2014-03-02T15:32:00\", \"2014-03-02T15:32:00\", \"2014-03-02T15:36:00\", \"2014-03-02T15:36:00\", \"2014-03-02T15:38:00\", \"2014-03-02T15:38:00\", \"2014-03-02T15:40:00\", \"2014-03-02T15:40:00\", \"2014-03-02T15:46:00\", \"2014-03-02T15:46:00\", \"2014-03-02T15:50:00\", \"2014-03-02T15:52:00\", \"2014-03-02T15:52:00\", \"2014-03-02T15:56:00\", \"2014-03-02T15:58:00\", \"2014-03-02T15:58:00\", \"2014-03-02T15:58:00\", \"2014-03-02T16:00:00\", \"2014-03-02T16:00:00\", \"2014-03-02T16:08:00\", \"2014-03-02T16:10:00\", \"2014-03-02T16:12:00\", \"2014-03-02T16:14:00\", \"2014-03-02T16:20:00\", \"2014-03-02T16:20:00\", \"2014-03-02T16:26:00\", \"2014-03-02T16:28:00\", \"2014-03-02T16:32:00\", \"2014-03-02T16:32:00\", \"2014-03-02T16:32:00\", \"2014-03-02T16:34:00\", \"2014-03-02T16:40:00\", \"2014-03-02T16:40:00\", \"2014-03-02T16:42:00\", \"2014-03-02T16:44:00\", \"2014-03-02T16:44:00\", \"2014-03-02T16:46:00\", \"2014-03-02T16:52:00\", \"2014-03-02T16:52:00\", \"2014-03-02T16:52:00\", \"2014-03-02T16:54:00\", \"2014-03-02T16:56:00\", \"2014-03-02T17:06:00\", \"2014-03-02T17:06:00\", \"2014-03-02T17:12:00\", \"2014-03-02T17:18:00\", \"2014-03-02T17:20:00\", \"2014-03-02T17:20:00\", \"2014-03-02T17:26:00\", \"2014-03-02T17:26:00\", \"2014-03-02T17:32:00\", \"2014-03-02T17:32:00\", \"2014-03-02T17:38:00\", \"2014-03-02T17:40:00\", \"2014-03-02T17:58:00\", \"2014-03-02T17:58:00\", \"2014-03-02T18:12:00\", \"2014-03-02T18:18:00\", \"2014-03-02T18:20:00\", \"2014-03-02T18:20:00\", \"2014-03-02T18:26:00\", \"2014-03-02T18:26:00\", \"2014-03-02T18:32:00\", \"2014-03-02T18:38:00\", \"2014-03-02T18:40:00\", \"2014-03-02T18:40:00\", \"2014-03-02T18:52:00\", \"2014-03-02T18:58:00\", \"2014-03-02T18:58:00\", \"2014-03-02T19:00:00\", \"2014-03-02T19:00:00\", \"2014-03-02T19:06:00\", \"2014-03-02T19:18:00\", \"2014-03-02T19:20:00\", \"2014-03-02T19:20:00\", \"2014-03-02T19:26:00\", \"2014-03-02T19:26:00\", \"2014-03-02T19:38:00\", \"2014-03-02T19:38:00\", \"2014-03-02T19:40:00\", \"2014-03-02T19:40:00\", \"2014-03-02T19:46:00\", \"2014-03-02T20:00:00\", \"2014-03-02T20:06:00\", \"2014-03-02T20:06:00\", \"2014-03-02T20:12:00\", \"2014-03-02T20:18:00\", \"2014-03-02T20:26:00\", \"2014-03-02T20:32:00\", \"2014-03-02T20:38:00\", \"2014-03-02T20:42:00\", \"2014-03-02T20:46:00\", \"2014-03-02T20:46:00\", \"2014-03-02T20:56:00\", \"2014-03-02T20:58:00\", \"2014-03-02T21:06:00\", \"2014-03-02T21:06:00\", \"2014-03-02T21:14:00\", \"2014-03-02T21:16:00\", \"2014-03-02T21:22:00\", \"2014-03-02T21:26:00\", \"2014-03-02T21:26:00\", \"2014-03-02T21:28:00\", \"2014-03-02T21:32:00\", \"2014-03-02T21:32:00\", \"2014-03-02T21:34:00\", \"2014-03-02T21:36:00\", \"2014-03-02T21:42:00\", \"2014-03-02T21:44:00\", \"2014-03-02T21:46:00\", \"2014-03-02T21:46:00\", \"2014-03-02T21:48:00\", \"2014-03-02T21:52:00\", \"2014-03-02T21:52:00\", \"2014-03-02T21:56:00\", \"2014-03-02T21:58:00\", \"2014-03-02T21:58:00\", \"2014-03-02T22:04:00\", \"2014-03-02T22:06:00\", \"2014-03-02T22:08:00\", \"2014-03-02T22:12:00\", \"2014-03-02T22:12:00\", \"2014-03-02T22:14:00\", \"2014-03-02T22:18:00\", \"2014-03-02T22:18:00\", \"2014-03-02T22:20:00\", \"2014-03-02T22:22:00\", \"2014-03-02T22:24:00\", \"2014-03-02T22:26:00\", \"2014-03-02T22:28:00\", \"2014-03-02T22:32:00\", \"2014-03-02T22:34:00\", \"2014-03-02T22:36:00\", \"2014-03-02T22:38:00\", \"2014-03-02T22:38:00\", \"2014-03-02T22:40:00\", \"2014-03-02T22:42:00\", \"2014-03-02T22:44:00\", \"2014-03-02T22:48:00\", \"2014-03-02T22:52:00\", \"2014-03-02T22:52:00\", \"2014-03-02T22:54:00\", \"2014-03-02T22:56:00\", \"2014-03-02T22:58:00\", \"2014-03-02T22:58:00\", \"2014-03-02T23:00:00\", \"2014-03-02T23:02:00\", \"2014-03-02T23:06:00\", \"2014-03-02T23:08:00\", \"2014-03-02T23:12:00\", \"2014-03-02T23:22:00\", \"2014-03-02T23:26:00\", \"2014-03-02T23:32:00\", \"2014-03-02T23:32:00\", \"2014-03-02T23:38:00\", \"2014-03-02T23:42:00\", \"2014-03-02T23:46:00\", \"2014-03-02T23:46:00\", \"2014-03-02T23:48:00\", \"2014-03-02T23:52:00\", \"2014-03-02T23:54:00\", \"2014-03-02T23:56:00\", \"2014-03-02T23:58:00\", \"2014-03-03T00:02:00\", \"2014-03-03T00:06:00\", \"2014-03-03T00:06:00\", \"2014-03-03T00:12:00\", \"2014-03-03T00:14:00\", \"2014-03-03T00:16:00\", \"2014-03-03T00:18:00\", \"2014-03-03T00:18:00\", \"2014-03-03T00:22:00\", \"2014-03-03T00:24:00\", \"2014-03-03T00:26:00\", \"2014-03-03T00:26:00\", \"2014-03-03T00:32:00\", \"2014-03-03T00:34:00\", \"2014-03-03T00:38:00\", \"2014-03-03T00:46:00\", \"2014-03-03T00:48:00\", \"2014-03-03T01:02:00\", \"2014-03-03T01:12:00\", \"2014-03-03T01:14:00\", \"2014-03-03T01:16:00\", \"2014-03-03T01:22:00\", \"2014-03-03T01:26:00\", \"2014-03-03T01:32:00\", \"2014-03-03T01:36:00\", \"2014-03-03T01:52:00\", \"2014-03-03T01:54:00\", \"2014-03-03T02:02:00\", \"2014-03-03T02:26:00\", \"2014-03-03T02:32:00\", \"2014-03-03T02:42:00\", \"2014-03-03T02:46:00\", \"2014-03-03T02:52:00\", \"2014-03-03T03:02:00\", \"2014-03-03T03:12:00\", \"2014-03-03T03:22:00\", \"2014-03-03T03:32:00\", \"2014-03-03T03:36:00\", \"2014-03-03T03:42:00\", \"2014-03-03T03:46:00\", \"2014-03-03T04:02:00\", \"2014-03-03T04:12:00\", \"2014-03-03T04:14:00\", \"2014-03-03T04:22:00\", \"2014-03-03T04:32:00\", \"2014-03-03T04:38:00\", \"2014-03-03T04:42:00\", \"2014-03-03T04:52:00\", \"2014-03-03T05:02:00\", \"2014-03-03T05:14:00\", \"2014-03-03T05:22:00\", \"2014-03-03T05:24:00\", \"2014-03-03T05:38:00\", \"2014-03-03T05:42:00\", \"2014-03-03T06:02:00\", \"2014-03-03T06:08:00\", \"2014-03-03T06:12:00\", \"2014-03-03T06:22:00\", \"2014-03-03T06:26:00\", \"2014-03-03T06:32:00\", \"2014-03-03T06:32:00\", \"2014-03-03T06:32:00\", \"2014-03-03T06:34:00\", \"2014-03-03T06:38:00\", \"2014-03-03T06:38:00\", \"2014-03-03T06:40:00\", \"2014-03-03T06:40:00\", \"2014-03-03T06:42:00\", \"2014-03-03T06:44:00\", \"2014-03-03T06:52:00\", \"2014-03-03T06:52:00\", \"2014-03-03T06:52:00\", \"2014-03-03T06:58:00\", \"2014-03-03T07:00:00\", \"2014-03-03T07:04:00\", \"2014-03-03T07:06:00\", \"2014-03-03T07:06:00\", \"2014-03-03T07:12:00\", \"2014-03-03T07:12:00\", \"2014-03-03T07:18:00\", \"2014-03-03T07:22:00\", \"2014-03-03T07:32:00\", \"2014-03-03T07:32:00\", \"2014-03-03T07:38:00\", \"2014-03-03T07:38:00\", \"2014-03-03T07:40:00\", \"2014-03-03T07:46:00\", \"2014-03-03T07:58:00\", \"2014-03-03T08:00:00\", \"2014-03-03T08:06:00\", \"2014-03-03T08:06:00\", \"2014-03-03T08:18:00\", \"2014-03-03T08:20:00\", \"2014-03-03T08:20:00\", \"2014-03-03T08:26:00\", \"2014-03-03T08:32:00\", \"2014-03-03T08:38:00\", \"2014-03-03T08:38:00\", \"2014-03-03T08:38:00\", \"2014-03-03T08:40:00\", \"2014-03-03T08:46:00\", \"2014-03-03T08:48:00\", \"2014-03-03T08:52:00\", \"2014-03-03T08:52:00\", \"2014-03-03T08:58:00\", \"2014-03-03T08:58:00\", \"2014-03-03T09:00:00\", \"2014-03-03T09:06:00\", \"2014-03-03T09:20:00\", \"2014-03-03T09:20:00\", \"2014-03-03T09:26:00\", \"2014-03-03T09:32:00\", \"2014-03-03T09:32:00\", \"2014-03-03T09:46:00\", \"2014-03-03T09:46:00\", \"2014-03-03T09:48:00\", \"2014-03-03T09:52:00\", \"2014-03-03T10:12:00\", \"2014-03-03T10:18:00\", \"2014-03-03T10:18:00\", \"2014-03-03T10:22:00\", \"2014-03-03T10:26:00\", \"2014-03-03T10:32:00\", \"2014-03-03T10:32:00\", \"2014-03-03T10:40:00\", \"2014-03-03T10:40:00\", \"2014-03-03T10:48:00\", \"2014-03-03T10:50:00\", \"2014-03-03T10:52:00\", \"2014-03-03T10:56:00\", \"2014-03-03T10:58:00\", \"2014-03-03T11:04:00\", \"2014-03-03T11:06:00\", \"2014-03-03T12:10:00\", \"2014-03-03T12:12:00\", \"2014-03-03T12:12:00\", \"2014-03-03T12:16:00\", \"2014-03-03T12:18:00\", \"2014-03-03T12:24:00\", \"2014-03-03T12:28:00\", \"2014-03-03T12:32:00\", \"2014-03-03T12:36:00\", \"2014-03-03T12:38:00\", \"2014-03-03T12:38:00\", \"2014-03-03T12:38:00\", \"2014-03-03T12:46:00\", \"2014-03-03T12:48:00\", \"2014-03-03T12:56:00\", \"2014-03-03T12:58:00\", \"2014-03-03T12:58:00\", \"2014-03-03T13:00:00\", \"2014-03-03T13:00:00\", \"2014-03-03T13:06:00\", \"2014-03-03T13:08:00\", \"2014-03-03T13:32:00\", \"2014-03-03T13:32:00\", \"2014-03-03T13:36:00\", \"2014-03-03T13:40:00\", \"2014-03-03T13:40:00\", \"2014-03-03T13:44:00\", \"2014-03-03T15:58:00\", \"2014-03-03T15:58:00\", \"2014-03-03T15:58:00\", \"2014-03-03T16:04:00\", \"2014-03-03T16:06:00\", \"2014-03-03T16:08:00\", \"2014-03-03T16:10:00\", \"2014-03-03T16:12:00\", \"2014-03-03T16:16:00\", \"2014-03-03T16:16:00\", \"2014-03-03T16:18:00\", \"2014-03-03T16:20:00\", \"2014-03-03T16:26:00\", \"2014-03-03T16:30:00\", \"2014-03-03T16:32:00\", \"2014-03-03T16:32:00\", \"2014-03-03T16:40:00\", \"2014-03-03T16:42:00\", \"2014-03-03T16:46:00\", \"2014-03-03T16:46:00\", \"2014-03-03T16:50:00\", \"2014-03-03T16:52:00\", \"2014-03-03T16:52:00\", \"2014-03-03T16:56:00\", \"2014-03-03T16:58:00\", \"2014-03-03T16:58:00\", \"2014-03-03T17:00:00\", \"2014-03-03T17:04:00\", \"2014-03-03T17:08:00\", \"2014-03-03T17:18:00\", \"2014-03-03T17:20:00\", \"2014-03-03T17:22:00\", \"2014-03-03T17:22:00\", \"2014-03-03T17:26:00\", \"2014-03-03T17:28:00\", \"2014-03-03T17:28:00\", \"2014-03-03T17:32:00\", \"2014-03-03T17:32:00\", \"2014-03-03T17:38:00\", \"2014-03-03T17:38:00\", \"2014-03-03T17:40:00\", \"2014-03-03T17:42:00\", \"2014-03-03T17:42:00\", \"2014-03-03T17:46:00\", \"2014-03-03T17:46:00\", \"2014-03-03T17:48:00\", \"2014-03-03T17:52:00\", \"2014-03-03T17:52:00\", \"2014-03-03T17:52:00\", \"2014-03-03T17:56:00\", \"2014-03-03T17:58:00\", \"2014-03-03T18:00:00\", \"2014-03-03T18:02:00\", \"2014-03-03T18:02:00\", \"2014-03-03T18:04:00\", \"2014-03-03T18:06:00\", \"2014-03-03T18:06:00\", \"2014-03-03T18:06:00\", \"2014-03-03T18:12:00\", \"2014-03-03T18:12:00\", \"2014-03-03T18:14:00\", \"2014-03-03T18:18:00\", \"2014-03-03T18:20:00\", \"2014-03-03T18:20:00\", \"2014-03-03T18:22:00\", \"2014-03-03T18:28:00\", \"2014-03-03T18:34:00\", \"2014-03-03T18:36:00\", \"2014-03-03T18:40:00\", \"2014-03-03T18:40:00\", \"2014-03-03T18:42:00\", \"2014-03-03T18:44:00\", \"2014-03-03T18:46:00\", \"2014-03-03T18:46:00\", \"2014-03-03T18:46:00\", \"2014-03-03T18:52:00\", \"2014-03-03T18:52:00\", \"2014-03-03T18:52:00\", \"2014-03-03T18:54:00\", \"2014-03-03T18:56:00\", \"2014-03-03T19:00:00\", \"2014-03-03T19:00:00\", \"2014-03-03T19:02:00\", \"2014-03-03T19:08:00\", \"2014-03-03T19:12:00\", \"2014-03-03T19:12:00\", \"2014-03-03T19:12:00\", \"2014-03-03T19:14:00\", \"2014-03-03T19:16:00\", \"2014-03-03T19:18:00\", \"2014-03-03T19:18:00\", \"2014-03-03T19:20:00\", \"2014-03-03T19:20:00\", \"2014-03-03T19:24:00\", \"2014-03-03T19:26:00\", \"2014-03-03T19:26:00\", \"2014-03-03T19:26:00\", \"2014-03-03T19:28:00\", \"2014-03-03T19:34:00\", \"2014-03-03T19:36:00\", \"2014-03-03T19:38:00\", \"2014-03-03T19:38:00\", \"2014-03-03T19:38:00\", \"2014-03-03T19:40:00\", \"2014-03-03T19:42:00\", \"2014-03-03T19:44:00\", \"2014-03-03T19:48:00\", \"2014-03-03T19:54:00\", \"2014-03-03T19:56:00\", \"2014-03-03T19:58:00\", \"2014-03-03T19:58:00\", \"2014-03-03T19:58:00\", \"2014-03-03T20:00:00\", \"2014-03-03T20:02:00\", \"2014-03-03T20:04:00\", \"2014-03-03T20:08:00\", \"2014-03-03T20:12:00\", \"2014-03-03T20:12:00\", \"2014-03-03T20:14:00\", \"2014-03-03T20:16:00\", \"2014-03-03T20:18:00\", \"2014-03-03T20:22:00\", \"2014-03-03T20:24:00\", \"2014-03-03T20:26:00\", \"2014-03-03T20:32:00\", \"2014-03-03T20:32:00\", \"2014-03-03T20:34:00\", \"2014-03-03T20:36:00\", \"2014-03-03T20:38:00\", \"2014-03-03T20:42:00\", \"2014-03-03T20:44:00\", \"2014-03-03T20:46:00\", \"2014-03-03T20:46:00\", \"2014-03-03T20:46:00\", \"2014-03-03T20:48:00\", \"2014-03-03T20:52:00\", \"2014-03-03T20:54:00\", \"2014-03-03T20:56:00\", \"2014-03-03T21:02:00\", \"2014-03-03T21:04:00\", \"2014-03-03T21:06:00\", \"2014-03-03T21:06:00\", \"2014-03-03T21:12:00\", \"2014-03-03T21:12:00\", \"2014-03-03T21:16:00\", \"2014-03-03T21:24:00\", \"2014-03-03T21:32:00\", \"2014-03-03T21:32:00\", \"2014-03-03T21:36:00\", \"2014-03-03T21:38:00\", \"2014-03-03T21:44:00\", \"2014-03-03T21:46:00\", \"2014-03-03T21:52:00\", \"2014-03-03T22:00:00\", \"2014-03-03T22:02:00\", \"2014-03-03T22:06:00\", \"2014-03-03T22:06:00\", \"2014-03-03T22:12:00\", \"2014-03-03T22:16:00\", \"2014-03-03T22:18:00\", \"2014-03-03T22:22:00\", \"2014-03-03T22:26:00\", \"2014-03-03T22:26:00\", \"2014-03-03T22:28:00\", \"2014-03-03T22:32:00\", \"2014-03-03T22:34:00\", \"2014-03-03T22:36:00\", \"2014-03-03T22:40:00\", \"2014-03-03T22:42:00\", \"2014-03-03T22:46:00\", \"2014-03-03T22:52:00\", \"2014-03-03T22:52:00\", \"2014-03-03T22:58:00\", \"2014-03-03T23:02:00\", \"2014-03-03T23:16:00\", \"2014-03-03T23:18:00\", \"2014-03-03T23:22:00\", \"2014-03-03T23:24:00\", \"2014-03-03T23:26:00\", \"2014-03-03T23:34:00\", \"2014-03-03T23:36:00\", \"2014-03-03T23:42:00\", \"2014-03-03T23:46:00\", \"2014-03-03T23:48:00\", \"2014-03-03T23:52:00\", \"2014-03-03T23:54:00\", \"2014-03-04T00:02:00\", \"2014-03-04T00:04:00\", \"2014-03-04T00:08:00\", \"2014-03-04T00:12:00\", \"2014-03-04T00:28:00\", \"2014-03-04T00:32:00\", \"2014-03-04T00:34:00\", \"2014-03-04T00:36:00\", \"2014-03-04T00:42:00\", \"2014-03-04T00:46:00\", \"2014-03-04T00:52:00\", \"2014-03-04T00:58:00\", \"2014-03-04T01:02:00\", \"2014-03-04T01:08:00\", \"2014-03-04T01:12:00\", \"2014-03-04T01:16:00\", \"2014-03-04T01:18:00\", \"2014-03-04T01:32:00\", \"2014-03-04T01:34:00\", \"2014-03-04T01:36:00\", \"2014-03-04T01:38:00\", \"2014-03-04T01:42:00\", \"2014-03-04T01:46:00\", \"2014-03-04T01:52:00\", \"2014-03-04T01:54:00\", \"2014-03-04T02:02:00\", \"2014-03-04T02:06:00\", \"2014-03-04T02:12:00\", \"2014-03-04T02:22:00\", \"2014-03-04T02:24:00\", \"2014-03-04T02:26:00\", \"2014-03-04T02:32:00\", \"2014-03-04T02:34:00\", \"2014-03-04T02:42:00\", \"2014-03-04T02:52:00\", \"2014-03-04T02:54:00\", \"2014-03-04T02:56:00\", \"2014-03-04T02:58:00\", \"2014-03-04T03:02:00\", \"2014-03-04T03:04:00\", \"2014-03-04T03:06:00\", \"2014-03-04T03:12:00\", \"2014-03-04T03:14:00\", \"2014-03-04T03:22:00\", \"2014-03-04T03:24:00\", \"2014-03-04T03:26:00\", \"2014-03-04T03:34:00\", \"2014-03-04T03:42:00\", \"2014-03-04T03:52:00\", \"2014-03-04T03:54:00\", \"2014-03-04T03:56:00\", \"2014-03-04T04:02:00\", \"2014-03-04T04:12:00\", \"2014-03-04T04:14:00\", \"2014-03-04T04:16:00\", \"2014-03-04T04:22:00\", \"2014-03-04T04:32:00\", \"2014-03-04T04:36:00\", \"2014-03-04T04:42:00\", \"2014-03-04T04:46:00\", \"2014-03-04T04:52:00\", \"2014-03-04T04:54:00\", \"2014-03-04T04:56:00\", \"2014-03-04T05:02:00\", \"2014-03-04T05:04:00\", \"2014-03-04T05:12:00\", \"2014-03-04T05:16:00\", \"2014-03-04T05:22:00\", \"2014-03-04T05:32:00\", \"2014-03-04T05:36:00\", \"2014-03-04T05:38:00\", \"2014-03-04T05:42:00\", \"2014-03-04T05:46:00\", \"2014-03-04T05:52:00\", \"2014-03-04T05:54:00\", \"2014-03-04T06:04:00\", \"2014-03-04T06:06:00\", \"2014-03-04T06:18:00\", \"2014-03-04T06:26:00\", \"2014-03-04T06:26:00\", \"2014-03-04T06:28:00\", \"2014-03-04T06:38:00\", \"2014-03-04T06:38:00\", \"2014-03-04T06:38:00\", \"2014-03-04T06:46:00\", \"2014-03-04T06:48:00\", \"2014-03-04T06:52:00\", \"2014-03-04T06:58:00\", \"2014-03-04T07:06:00\", \"2014-03-04T07:06:00\", \"2014-03-04T07:12:00\", \"2014-03-04T07:20:00\", \"2014-03-04T07:20:00\", \"2014-03-04T07:26:00\", \"2014-03-04T07:32:00\", \"2014-03-04T07:32:00\", \"2014-03-04T07:36:00\", \"2014-03-04T07:38:00\", \"2014-03-04T07:38:00\", \"2014-03-04T07:40:00\", \"2014-03-04T07:40:00\", \"2014-03-04T07:46:00\", \"2014-03-04T07:48:00\", \"2014-03-04T07:52:00\", \"2014-03-04T07:52:00\", \"2014-03-04T07:58:00\", \"2014-03-04T07:58:00\", \"2014-03-04T08:00:00\", \"2014-03-04T08:12:00\", \"2014-03-04T08:12:00\", \"2014-03-04T08:18:00\", \"2014-03-04T08:26:00\", \"2014-03-04T08:32:00\", \"2014-03-04T08:32:00\", \"2014-03-04T08:38:00\", \"2014-03-04T08:40:00\", \"2014-03-04T08:48:00\", \"2014-03-04T08:52:00\", \"2014-03-04T08:52:00\", \"2014-03-04T09:00:00\", \"2014-03-04T09:06:00\", \"2014-03-04T09:12:00\", \"2014-03-04T09:12:00\", \"2014-03-04T09:16:00\", \"2014-03-04T09:18:00\", \"2014-03-04T09:20:00\", \"2014-03-04T09:20:00\", \"2014-03-04T09:26:00\", \"2014-03-04T09:28:00\", \"2014-03-04T09:32:00\", \"2014-03-04T09:32:00\", \"2014-03-04T09:40:00\", \"2014-03-04T09:48:00\", \"2014-03-04T09:48:00\", \"2014-03-04T09:54:00\", \"2014-03-04T10:08:00\", \"2014-03-04T10:22:00\", \"2014-03-04T10:26:00\", \"2014-03-04T10:30:00\", \"2014-03-04T10:32:00\", \"2014-03-04T10:36:00\", \"2014-03-04T10:38:00\", \"2014-03-04T10:44:00\", \"2014-03-04T10:48:00\", \"2014-03-04T10:50:00\", \"2014-03-04T10:52:00\", \"2014-03-04T10:52:00\", \"2014-03-04T10:58:00\", \"2014-03-04T11:00:00\", \"2014-03-04T11:02:00\", \"2014-03-04T11:02:00\", \"2014-03-04T11:04:00\", \"2014-03-04T11:08:00\", \"2014-03-04T11:12:00\", \"2014-03-04T11:12:00\", \"2014-03-04T11:16:00\", \"2014-03-04T11:18:00\", \"2014-03-04T11:22:00\", \"2014-03-04T11:26:00\", \"2014-03-04T11:28:00\", \"2014-03-04T11:30:00\", \"2014-03-04T11:34:00\", \"2014-03-04T11:36:00\", \"2014-03-04T11:38:00\", \"2014-03-04T11:38:00\", \"2014-03-04T11:40:00\", \"2014-03-04T11:42:00\", \"2014-03-04T11:46:00\", \"2014-03-04T11:48:00\", \"2014-03-04T11:50:00\", \"2014-03-04T11:52:00\", \"2014-03-04T11:52:00\", \"2014-03-04T12:02:00\", \"2014-03-04T12:06:00\", \"2014-03-04T12:12:00\", \"2014-03-04T12:12:00\", \"2014-03-04T12:18:00\", \"2014-03-04T12:20:00\", \"2014-03-04T12:20:00\", \"2014-03-04T12:26:00\", \"2014-03-04T12:28:00\", \"2014-03-04T12:30:00\", \"2014-03-04T12:30:00\", \"2014-03-04T12:36:00\", \"2014-03-04T12:36:00\", \"2014-03-04T12:38:00\", \"2014-03-04T12:40:00\", \"2014-03-04T12:42:00\", \"2014-03-04T12:46:00\", \"2014-03-04T12:46:00\", \"2014-03-04T12:48:00\", \"2014-03-04T12:50:00\", \"2014-03-04T12:56:00\", \"2014-03-04T12:56:00\", \"2014-03-04T13:00:00\", \"2014-03-04T13:04:00\", \"2014-03-04T13:04:00\", \"2014-03-04T13:06:00\", \"2014-03-04T13:06:00\", \"2014-03-04T13:08:00\", \"2014-03-04T13:10:00\", \"2014-03-04T13:10:00\", \"2014-03-04T13:12:00\", \"2014-03-04T13:12:00\", \"2014-03-04T13:16:00\", \"2014-03-04T13:18:00\", \"2014-03-04T13:18:00\", \"2014-03-04T13:20:00\", \"2014-03-04T13:22:00\", \"2014-03-04T13:28:00\", \"2014-03-04T13:30:00\", \"2014-03-04T13:32:00\", \"2014-03-04T13:38:00\", \"2014-03-04T13:38:00\", \"2014-03-04T13:38:00\", \"2014-03-04T13:46:00\", \"2014-03-04T13:46:00\", \"2014-03-04T13:50:00\", \"2014-03-04T13:52:00\", \"2014-03-04T13:58:00\", \"2014-03-04T13:58:00\", \"2014-03-04T13:58:00\", \"2014-03-04T14:06:00\", \"2014-03-04T14:06:00\", \"2014-03-04T14:08:00\", \"2014-03-04T14:18:00\", \"2014-03-04T14:22:00\", \"2014-03-04T14:24:00\", \"2014-03-04T14:24:00\", \"2014-03-04T14:26:00\", \"2014-03-04T14:26:00\", \"2014-03-04T14:30:00\", \"2014-03-04T14:38:00\", \"2014-03-04T14:42:00\", \"2014-03-04T14:44:00\", \"2014-03-04T14:48:00\", \"2014-03-04T14:52:00\", \"2014-03-04T14:58:00\", \"2014-03-04T15:00:00\", \"2014-03-04T15:02:00\", \"2014-03-04T15:08:00\", \"2014-03-04T15:10:00\", \"2014-03-04T15:10:00\", \"2014-03-04T15:12:00\", \"2014-03-04T15:18:00\", \"2014-03-04T15:32:00\", \"2014-03-04T15:36:00\", \"2014-03-04T15:38:00\", \"2014-03-04T15:40:00\", \"2014-03-04T15:42:00\", \"2014-03-04T15:42:00\", \"2014-03-04T15:48:00\", \"2014-03-04T15:48:00\", \"2014-03-04T15:52:00\", \"2014-03-04T15:58:00\", \"2014-03-04T15:58:00\", \"2014-03-04T16:00:00\", \"2014-03-04T16:02:00\", \"2014-03-04T16:06:00\", \"2014-03-04T16:08:00\", \"2014-03-04T16:08:00\", \"2014-03-04T16:12:00\", \"2014-03-04T16:12:00\", \"2014-03-04T16:18:00\", \"2014-03-04T16:18:00\", \"2014-03-04T16:20:00\", \"2014-03-04T16:24:00\", \"2014-03-04T16:28:00\", \"2014-03-04T16:28:00\", \"2014-03-04T16:32:00\", \"2014-03-04T16:36:00\", \"2014-03-04T16:38:00\", \"2014-03-04T16:40:00\", \"2014-03-04T16:40:00\", \"2014-03-04T16:42:00\", \"2014-03-04T16:46:00\", \"2014-03-04T16:46:00\", \"2014-03-04T16:48:00\", \"2014-03-04T16:52:00\", \"2014-03-04T16:58:00\", \"2014-03-04T16:58:00\", \"2014-03-04T17:00:00\", \"2014-03-04T17:02:00\", \"2014-03-04T17:08:00\", \"2014-03-04T17:12:00\", \"2014-03-04T17:12:00\", \"2014-03-04T17:16:00\", \"2014-03-04T17:20:00\", \"2014-03-04T17:26:00\", \"2014-03-04T17:26:00\", \"2014-03-04T17:28:00\", \"2014-03-04T17:28:00\", \"2014-03-04T17:32:00\", \"2014-03-04T17:38:00\", \"2014-03-04T17:40:00\", \"2014-03-04T17:40:00\", \"2014-03-04T17:42:00\", \"2014-03-04T17:46:00\", \"2014-03-04T17:48:00\", \"2014-03-04T17:52:00\", \"2014-03-04T17:52:00\", \"2014-03-04T17:58:00\", \"2014-03-04T18:00:00\", \"2014-03-04T18:06:00\", \"2014-03-04T18:18:00\", \"2014-03-04T18:24:00\", \"2014-03-04T18:26:00\", \"2014-03-04T18:26:00\", \"2014-03-04T18:28:00\", \"2014-03-04T18:32:00\", \"2014-03-04T18:38:00\", \"2014-03-04T18:38:00\", \"2014-03-04T18:38:00\", \"2014-03-04T18:42:00\", \"2014-03-04T18:46:00\", \"2014-03-04T18:46:00\", \"2014-03-04T18:52:00\", \"2014-03-04T18:52:00\", \"2014-03-04T18:58:00\", \"2014-03-04T18:58:00\", \"2014-03-04T19:00:00\", \"2014-03-04T19:00:00\", \"2014-03-04T19:06:00\", \"2014-03-04T19:08:00\", \"2014-03-04T19:12:00\", \"2014-03-04T19:12:00\", \"2014-03-04T19:18:00\", \"2014-03-04T19:20:00\", \"2014-03-04T19:22:00\", \"2014-03-04T19:24:00\", \"2014-03-04T19:26:00\", \"2014-03-04T19:26:00\", \"2014-03-04T19:28:00\"], \"xaxis\": \"x\", \"y\": [0, 0, 0, 0, 0, 0, 0, 0, 0, 0, 0, 0, 0, 0, 0, 0, 0, 0, 0, 0, 0, 0, 0, 0, 0, 0, 0, 0, 0, 0, 0, 0, 0, 0, 0, 0, 0, 0, 0, 0, 0, 0, 0, 0, 0, 0, 0, -1, 0, 0, 0, 0, 0, 0, -1, 0, 0, 0, 0, 0, 0, 0, 0, 0, 0, 0, 0, 0, 0, 0, 0, 0, 0, 0, 0, 0, 0, 0, 0, 0, 0, 0, 0, 0, 0, 0, 0, 0, 0, 0, 0, 0, 0, 0, 0, 0, 0, 0, 0, 0, 0, 0, 0, 0, 0, 0, 0, 1, 0, 0, 0, 0, 0, 0, 0, 0, 0, 0, -2, 0, 0, 0, 0, 0, 0, 0, 0, 0, 0, 0, 0, 0, 0, 0, 0, 0, 0, 0, 0, 0, 0, 0, 0, 0, 0, 0, 0, 0, 0, 0, 0, 0, 0, 0, 0, 0, 0, 0, 0, 0, 0, 0, 0, 0, 0, 0, 0, 0, 0, 0, 0, 0, 0, 0, 0, 0, 0, 0, 0, 0, 0, 0, 0, 0, 0, 0, 0, 0, 0, 0, 0, 0, 0, 0, 0, 0, 0, 0, 0, 0, 0, 0, 0, 0, 0, -1, 0, 0, 0, 0, 0, 0, 0, 0, 0, 0, 0, 0, 0, 0, 0, 1, 0, 0, 0, 0, 0, 0, 0, 0, 0, 0, 0, 0, 0, 0, 0, 0, 0, 0, 0, -2, 0, 0, 0, 0, 0, 0, 0, 1, 0, 0, 0, 0, 0, 0, 0, 0, 0, 0, 0, 0, 0, 0, 0, 0, 0, 0, 0, 0, 0, 0, 0, 0, 0, 0, 0, 0, 0, 0, 0, 0, 0, 0, 0, 0, 0, 0, 0, 0, 0, 0, 0, 0, 0, -2, -4, 0, 0, 0, 0, 0, 0, 0, 0, 0, 0, 0, 0, 0, 0, 0, 0, 0, 0, 0, 0, 0, 0, 0, 0, 0, 0, 0, 0, 0, 0, 0, 0, 0, 0, 0, 0, -1, 0, 0, 0, 0, 0, 0, 0, 0, 0, 0, 0, 0, 0, 0, 0, 0, 0, -2, 0, -1, 0, 0, -1, 0, 0, 0, 0, 0, 0, 0, 0, 0, 0, -1, 0, 0, 0, 0, 0, 0, 0, 0, 0, 0, 0, 0, 0, 0, 0, 0, 0, 0, 0, 0, 0, 0, 0, 0, 0, 0, 0, 0, 0, 0, 0, 0, 0, 0, 0, 0, 0, 0, 0, 0, 0, 0, 0, 0, 0, 0, 0, 0, 0, 0, 0, 0, 0, 0, 0, 0, 0, 0, 0, 0, 0, 0, 0, 0, 0, 0, 0, 0, 0, 0, 0, 0, 0, 0, 0, 0, 0, 0, 0, 0, 0, 0, 0, 0, 0, 0, 0, 0, 0, 0, 0, 0, 0, 0, 0, 0, 0, 0, 0, 0, 0, 0, 0, 0, 0, 0, 0, 0, 0, 0, 0, 0, 0, 0, 0, 0, 0, 0, 0, 0, 0, 0, 0, 0, 0, 0, 0, 0, 0, 0, 0, 0, 0, 0, 0, 0, 0, 0, 0, 0, 0, 0, 0, 0, 0, 0, 0, 0, 0, 0, 0, 0, 0, 0, 0, 0, 0, 0, 0, 0, 0, 0, 0, 0, 1, 0, 0, 0, 0, 0, 0, 0, -1, 0, 0, 0, 0, 0, 0, 0, 0, 0, 0, 0, 0, 0, 0, 0, -1, 0, -1, 0, 0, 0, 0, 0, 0, 0, 0, 0, 0, 0, 0, 0, 0, 0, 0, 0, 0, 0, 0, 0, 0, 0, 0, 0, 0, 0, 0, 0, 0, 0, 0, 0, 0, 0, 0, 0, 0, 0, 0, 0, 0, 0, 0, 0, 0, 0, 0, 0, -1, 0, 0, 0, 0, 0, 0, 0, 0, 0, 0, 0, 0, 0, 0, 0, 0, 0, 0, 0, 0, 0, 0, 0, 0, 0, 0, 0, 0, 0, 0, 0, 0, 0, 0, 0, 0, 0, 0, 0, -1, 0, 0, 0, 0, 0, 0, 0, 0, 0, 0, 0, 0, 0, 0, 0, 0, 0, 0, 0, 0, 0, 0, 0, 0, 0, 0, 0, 0, 0, 0, 0, 0, 0, 0, 0, 0, 0, 0, 0, 0, 0, 0, 0, 0, 0, 0, 0, 0, 0, 0, 0, 0, 0, 0, 0, 0, 0, 0, -1, 0, 0, 0, 0, 0, 0, 0, 0, 0, 0, 0, 0, 0, 0, 0, 0, 0, 0, 0, 0, 0, 0, 0, 0, 0, 0, 0, 0, 0, 0, -1, 0, 0, 0, 0, 0, 0, 0, 0, 0, 0, 0, 0, 0, 0, 0, 0, 0, 0, 0, 0, 0, 0, 0, 0, 0, 0, 0, 0, 0, 0, 0, 0, 0, 0, 0, 0, 0, 0, 0, 0, 0, 0, 0, 0, 0, 0, 0, 0, 0, 0, 0, 0, 0, 0, 0, 0, 0, 0, 0, 0, 0, 0, 0, 0, 0, 0, 0, 0, 0, 0, 0, 0, 0, 0, 0, 0, 0, 0, 0, 0, 0, 0, 0, 0, 0, 0, 0, 0, 0, 0, 0, 0, 0, 0, 0, 0, 0, 0, 0, 0, 0, 0, 0, 0, 0, 0, 0, 0, 0, 0, 0, 0, 0, 0, 0, 0, 0, 0, 0, 0, 0, 0, 0, 0, 0, 0, 0, 0, 0, 1, 0, 0, 0, 0, 0, 0, 0, 0, 0, 0, 0, 0, 1, 0, 0, 0, 0, 0, 0, 0, 0, 0, 0, 0, 0, 0, 0, 0, 0, 0, 0, 0, 0, 0, 0, 0, 0, 0, 0, 0, 0, 0, 0, 0, 0, 0, 0, 0, 0, 0, 0, 0, 0, 0, 0, 0, 0, 0, 0, 0, 0, 0, 0, 0, 0, 0, 0, 0, 0, 0, 0, 0, 0, 0, 0, 0, 0, 1, 0, 1, 0, -2, 0, -1, 0, 0, 0, 1, 0, 0, 0, 0, 1, 0, 0, 0, 0, 0, 0, 0, 0, 0, 0, 0, 0, 0, 0, 0, -1, -1, -1, 0, 0, 0, 0, 0, 0, 1, 0, 0, 0, 0, 0, 0, 0, 0, 0, 0, 0, 0, 0, 0, 0, 0, 0, 0, 1, 0, 0, 0, 0, 0, 0, 1, 0, 0, 0, 0, 0, 0, 0, 0, 0, -1, 0, 0, 0, 0, 0, 0, 0, 0, 0, 0, 0, 0, 0, -1, 0, 0, 0, 0, 0, 0, 0, 0, 0, 0, 0, 0, 0, 0, 0, 0, 0, 0, 0, 0, 0, 0, 0, 0, 0, 0, 0, 0, 0, 0, 0, 0, 0, 0, 0, 0, 0, 1, 0, 0, 0, 0, 0, 0, 0, 0, 0, 0, 0, 0, 0, 0, 0, 0, 0, 0, 0, 0, 0, 0, 0, 0, 0, 0, 0, 0, 0, 0, 0, 0, 0, 0, 0, 0, 0, 0, 0, 0, 0, 0, 0, 0, 0, 0, 0, 0, 0, 0, 0, 0, 0, 0, 0, 0, 0, 0, 0, 0, 0, 0, 0, 0, 0, 0, 0, 0, 0, -1, 0, 0, 0, 0, 0, 0, 0, 0, 0, 0, 0, 0, 0, 0, 0, 0, 0, 0, 0, 0, 0, 0, 0, 0, 0, 0, 0, 0, 0, 0, 0, 0, 0, 0, 0, 0, 0, 0, 0, 0, 0, 0, 0, 0, 0, 0, 0, 0, 0, 0, 0, 0, 0, 0, 0, 0, 0, 0, 0, 0, 0, 0, 0, 0, 0, 0, 0, 0, 0, 0, 0, 0, 0, 0, 0, 0, 0, 0, 0, 0, 0, 0, 0, 0, 0, 0, 0, 0, 0, 0, 0, 0, 0, 0, 1, 0, 0, 0, 0, 0, 0, 1, 0, 0, 0, 0, 0, 0, 0, 0, 0, 0, 0, 0, 0, 0, 0, 0, 0, 0, 0, 0, 0, 0, 0, 0, 0, 0, 0, 0, 0, 0, 0, 0, 0, 0, 0, 0, 0, 0, 0, 0, 0, 0, 0, 0, 0, 0, 0, 0, 0, 0, 0, 0, 0, 0, 1, 0, 0, 0, 0, 0, 0, 0, 0, 0, 0, 0, 0, 0, 0, 0, 0, 0, 0, 0, 0, 0, 0, -1, -1, 0, 0, 0, 0, 0, 0, 0, 0, 0, 0, 0, 0, 0, 0, 0, 0, 0, 0, 0, 0, 0, 0, 0, 0, 0, 0, 0, 0, 0, 0, 0, 0, 0, 0, 0, 0, 0, 0, 0, 0, 0, 0, -1, 0, 0, 0, 0, 0, 0, 0, 0, 0, 0, 0, 0, 0, 0, 0, 0, 0, 0, 0, 0, 0, 0, 0, 0, 0, 0, 0, 0, 0, 0, 0, 0, 0, 0, 0, 0, 0, 0, 0, 0, 0, 0, 0, 0, 0, 0, 0, 0, 0, 0, 0, 0, 0, 0, 0, 0, 0, 0, 0, 0, 0, 0, 0, 0, 0, 0, 0, 0, 0, 0, 0, 0, 0, 0, -1, 0, 0, 0, 0, 0, 0, -1, 0, 0, 0, 1, 0, 0, -1, 0, 0, 0, 0, 0, 0, 0, -1, 0, 0, 0, 0, 0, 0, -1, 0, 0, 0, 0, -1, 0, 0, 0, 0, 0, 0, 0, 0, 0, 0, 0, 0, -1, 0, 0, -1, 0, 0], \"yaxis\": \"y\"}],\n",
              "                        {\"legend\": {\"tracegroupgap\": 0}, \"template\": {\"data\": {\"bar\": [{\"error_x\": {\"color\": \"#2a3f5f\"}, \"error_y\": {\"color\": \"#2a3f5f\"}, \"marker\": {\"line\": {\"color\": \"#E5ECF6\", \"width\": 0.5}}, \"type\": \"bar\"}], \"barpolar\": [{\"marker\": {\"line\": {\"color\": \"#E5ECF6\", \"width\": 0.5}}, \"type\": \"barpolar\"}], \"carpet\": [{\"aaxis\": {\"endlinecolor\": \"#2a3f5f\", \"gridcolor\": \"white\", \"linecolor\": \"white\", \"minorgridcolor\": \"white\", \"startlinecolor\": \"#2a3f5f\"}, \"baxis\": {\"endlinecolor\": \"#2a3f5f\", \"gridcolor\": \"white\", \"linecolor\": \"white\", \"minorgridcolor\": \"white\", \"startlinecolor\": \"#2a3f5f\"}, \"type\": \"carpet\"}], \"choropleth\": [{\"colorbar\": {\"outlinewidth\": 0, \"ticks\": \"\"}, \"type\": \"choropleth\"}], \"contour\": [{\"colorbar\": {\"outlinewidth\": 0, \"ticks\": \"\"}, \"colorscale\": [[0.0, \"#0d0887\"], [0.1111111111111111, \"#46039f\"], [0.2222222222222222, \"#7201a8\"], [0.3333333333333333, \"#9c179e\"], [0.4444444444444444, \"#bd3786\"], [0.5555555555555556, \"#d8576b\"], [0.6666666666666666, \"#ed7953\"], [0.7777777777777778, \"#fb9f3a\"], [0.8888888888888888, \"#fdca26\"], [1.0, \"#f0f921\"]], \"type\": \"contour\"}], \"contourcarpet\": [{\"colorbar\": {\"outlinewidth\": 0, \"ticks\": \"\"}, \"type\": \"contourcarpet\"}], \"heatmap\": [{\"colorbar\": {\"outlinewidth\": 0, \"ticks\": \"\"}, \"colorscale\": [[0.0, \"#0d0887\"], [0.1111111111111111, \"#46039f\"], [0.2222222222222222, \"#7201a8\"], [0.3333333333333333, \"#9c179e\"], [0.4444444444444444, \"#bd3786\"], [0.5555555555555556, \"#d8576b\"], [0.6666666666666666, \"#ed7953\"], [0.7777777777777778, \"#fb9f3a\"], [0.8888888888888888, \"#fdca26\"], [1.0, \"#f0f921\"]], \"type\": \"heatmap\"}], \"heatmapgl\": [{\"colorbar\": {\"outlinewidth\": 0, \"ticks\": \"\"}, \"colorscale\": [[0.0, \"#0d0887\"], [0.1111111111111111, \"#46039f\"], [0.2222222222222222, \"#7201a8\"], [0.3333333333333333, \"#9c179e\"], [0.4444444444444444, \"#bd3786\"], [0.5555555555555556, \"#d8576b\"], [0.6666666666666666, \"#ed7953\"], [0.7777777777777778, \"#fb9f3a\"], [0.8888888888888888, \"#fdca26\"], [1.0, \"#f0f921\"]], \"type\": \"heatmapgl\"}], \"histogram\": [{\"marker\": {\"colorbar\": {\"outlinewidth\": 0, \"ticks\": \"\"}}, \"type\": \"histogram\"}], \"histogram2d\": [{\"colorbar\": {\"outlinewidth\": 0, \"ticks\": \"\"}, \"colorscale\": [[0.0, \"#0d0887\"], [0.1111111111111111, \"#46039f\"], [0.2222222222222222, \"#7201a8\"], [0.3333333333333333, \"#9c179e\"], [0.4444444444444444, \"#bd3786\"], [0.5555555555555556, \"#d8576b\"], [0.6666666666666666, \"#ed7953\"], [0.7777777777777778, \"#fb9f3a\"], [0.8888888888888888, \"#fdca26\"], [1.0, \"#f0f921\"]], \"type\": \"histogram2d\"}], \"histogram2dcontour\": [{\"colorbar\": {\"outlinewidth\": 0, \"ticks\": \"\"}, \"colorscale\": [[0.0, \"#0d0887\"], [0.1111111111111111, \"#46039f\"], [0.2222222222222222, \"#7201a8\"], [0.3333333333333333, \"#9c179e\"], [0.4444444444444444, \"#bd3786\"], [0.5555555555555556, \"#d8576b\"], [0.6666666666666666, \"#ed7953\"], [0.7777777777777778, \"#fb9f3a\"], [0.8888888888888888, \"#fdca26\"], [1.0, \"#f0f921\"]], \"type\": \"histogram2dcontour\"}], \"mesh3d\": [{\"colorbar\": {\"outlinewidth\": 0, \"ticks\": \"\"}, \"type\": \"mesh3d\"}], \"parcoords\": [{\"line\": {\"colorbar\": {\"outlinewidth\": 0, \"ticks\": \"\"}}, \"type\": \"parcoords\"}], \"pie\": [{\"automargin\": true, \"type\": \"pie\"}], \"scatter\": [{\"marker\": {\"colorbar\": {\"outlinewidth\": 0, \"ticks\": \"\"}}, \"type\": \"scatter\"}], \"scatter3d\": [{\"line\": {\"colorbar\": {\"outlinewidth\": 0, \"ticks\": \"\"}}, \"marker\": {\"colorbar\": {\"outlinewidth\": 0, \"ticks\": \"\"}}, \"type\": \"scatter3d\"}], \"scattercarpet\": [{\"marker\": {\"colorbar\": {\"outlinewidth\": 0, \"ticks\": \"\"}}, \"type\": \"scattercarpet\"}], \"scattergeo\": [{\"marker\": {\"colorbar\": {\"outlinewidth\": 0, \"ticks\": \"\"}}, \"type\": \"scattergeo\"}], \"scattergl\": [{\"marker\": {\"colorbar\": {\"outlinewidth\": 0, \"ticks\": \"\"}}, \"type\": \"scattergl\"}], \"scattermapbox\": [{\"marker\": {\"colorbar\": {\"outlinewidth\": 0, \"ticks\": \"\"}}, \"type\": \"scattermapbox\"}], \"scatterpolar\": [{\"marker\": {\"colorbar\": {\"outlinewidth\": 0, \"ticks\": \"\"}}, \"type\": \"scatterpolar\"}], \"scatterpolargl\": [{\"marker\": {\"colorbar\": {\"outlinewidth\": 0, \"ticks\": \"\"}}, \"type\": \"scatterpolargl\"}], \"scatterternary\": [{\"marker\": {\"colorbar\": {\"outlinewidth\": 0, \"ticks\": \"\"}}, \"type\": \"scatterternary\"}], \"surface\": [{\"colorbar\": {\"outlinewidth\": 0, \"ticks\": \"\"}, \"colorscale\": [[0.0, \"#0d0887\"], [0.1111111111111111, \"#46039f\"], [0.2222222222222222, \"#7201a8\"], [0.3333333333333333, \"#9c179e\"], [0.4444444444444444, \"#bd3786\"], [0.5555555555555556, \"#d8576b\"], [0.6666666666666666, \"#ed7953\"], [0.7777777777777778, \"#fb9f3a\"], [0.8888888888888888, \"#fdca26\"], [1.0, \"#f0f921\"]], \"type\": \"surface\"}], \"table\": [{\"cells\": {\"fill\": {\"color\": \"#EBF0F8\"}, \"line\": {\"color\": \"white\"}}, \"header\": {\"fill\": {\"color\": \"#C8D4E3\"}, \"line\": {\"color\": \"white\"}}, \"type\": \"table\"}]}, \"layout\": {\"annotationdefaults\": {\"arrowcolor\": \"#2a3f5f\", \"arrowhead\": 0, \"arrowwidth\": 1}, \"coloraxis\": {\"colorbar\": {\"outlinewidth\": 0, \"ticks\": \"\"}}, \"colorscale\": {\"diverging\": [[0, \"#8e0152\"], [0.1, \"#c51b7d\"], [0.2, \"#de77ae\"], [0.3, \"#f1b6da\"], [0.4, \"#fde0ef\"], [0.5, \"#f7f7f7\"], [0.6, \"#e6f5d0\"], [0.7, \"#b8e186\"], [0.8, \"#7fbc41\"], [0.9, \"#4d9221\"], [1, \"#276419\"]], \"sequential\": [[0.0, \"#0d0887\"], [0.1111111111111111, \"#46039f\"], [0.2222222222222222, \"#7201a8\"], [0.3333333333333333, \"#9c179e\"], [0.4444444444444444, \"#bd3786\"], [0.5555555555555556, \"#d8576b\"], [0.6666666666666666, \"#ed7953\"], [0.7777777777777778, \"#fb9f3a\"], [0.8888888888888888, \"#fdca26\"], [1.0, \"#f0f921\"]], \"sequentialminus\": [[0.0, \"#0d0887\"], [0.1111111111111111, \"#46039f\"], [0.2222222222222222, \"#7201a8\"], [0.3333333333333333, \"#9c179e\"], [0.4444444444444444, \"#bd3786\"], [0.5555555555555556, \"#d8576b\"], [0.6666666666666666, \"#ed7953\"], [0.7777777777777778, \"#fb9f3a\"], [0.8888888888888888, \"#fdca26\"], [1.0, \"#f0f921\"]]}, \"colorway\": [\"#636efa\", \"#EF553B\", \"#00cc96\", \"#ab63fa\", \"#FFA15A\", \"#19d3f3\", \"#FF6692\", \"#B6E880\", \"#FF97FF\", \"#FECB52\"], \"font\": {\"color\": \"#2a3f5f\"}, \"geo\": {\"bgcolor\": \"white\", \"lakecolor\": \"white\", \"landcolor\": \"#E5ECF6\", \"showlakes\": true, \"showland\": true, \"subunitcolor\": \"white\"}, \"hoverlabel\": {\"align\": \"left\"}, \"hovermode\": \"closest\", \"mapbox\": {\"style\": \"light\"}, \"paper_bgcolor\": \"white\", \"plot_bgcolor\": \"#E5ECF6\", \"polar\": {\"angularaxis\": {\"gridcolor\": \"white\", \"linecolor\": \"white\", \"ticks\": \"\"}, \"bgcolor\": \"#E5ECF6\", \"radialaxis\": {\"gridcolor\": \"white\", \"linecolor\": \"white\", \"ticks\": \"\"}}, \"scene\": {\"xaxis\": {\"backgroundcolor\": \"#E5ECF6\", \"gridcolor\": \"white\", \"gridwidth\": 2, \"linecolor\": \"white\", \"showbackground\": true, \"ticks\": \"\", \"zerolinecolor\": \"white\"}, \"yaxis\": {\"backgroundcolor\": \"#E5ECF6\", \"gridcolor\": \"white\", \"gridwidth\": 2, \"linecolor\": \"white\", \"showbackground\": true, \"ticks\": \"\", \"zerolinecolor\": \"white\"}, \"zaxis\": {\"backgroundcolor\": \"#E5ECF6\", \"gridcolor\": \"white\", \"gridwidth\": 2, \"linecolor\": \"white\", \"showbackground\": true, \"ticks\": \"\", \"zerolinecolor\": \"white\"}}, \"shapedefaults\": {\"line\": {\"color\": \"#2a3f5f\"}}, \"ternary\": {\"aaxis\": {\"gridcolor\": \"white\", \"linecolor\": \"white\", \"ticks\": \"\"}, \"baxis\": {\"gridcolor\": \"white\", \"linecolor\": \"white\", \"ticks\": \"\"}, \"bgcolor\": \"#E5ECF6\", \"caxis\": {\"gridcolor\": \"white\", \"linecolor\": \"white\", \"ticks\": \"\"}}, \"title\": {\"x\": 0.05}, \"xaxis\": {\"automargin\": true, \"gridcolor\": \"white\", \"linecolor\": \"white\", \"ticks\": \"\", \"title\": {\"standoff\": 15}, \"zerolinecolor\": \"white\", \"zerolinewidth\": 2}, \"yaxis\": {\"automargin\": true, \"gridcolor\": \"white\", \"linecolor\": \"white\", \"ticks\": \"\", \"title\": {\"standoff\": 15}, \"zerolinecolor\": \"white\", \"zerolinewidth\": 2}}}, \"title\": {\"text\": \"Drift(Hz/s) between transmit station G8VDQ and receive station OZ7IT\"}, \"xaxis\": {\"anchor\": \"y\", \"domain\": [0.0, 1.0], \"title\": {\"text\": \"Timestamp\"}}, \"yaxis\": {\"anchor\": \"x\", \"domain\": [0.0, 1.0], \"title\": {\"text\": \"Drift (Hz/s)\"}}},\n",
              "                        {\"responsive\": true}\n",
              "                    ).then(function(){\n",
              "                            \n",
              "var gd = document.getElementById('69d0ada5-90a3-48a5-9bab-782051e4a2d7');\n",
              "var x = new MutationObserver(function (mutations, observer) {{\n",
              "        var display = window.getComputedStyle(gd).display;\n",
              "        if (!display || display === 'none') {{\n",
              "            console.log([gd, 'removed!']);\n",
              "            Plotly.purge(gd);\n",
              "            observer.disconnect();\n",
              "        }}\n",
              "}});\n",
              "\n",
              "// Listen for the removal of the full notebook cells\n",
              "var notebookContainer = gd.closest('#notebook-container');\n",
              "if (notebookContainer) {{\n",
              "    x.observe(notebookContainer, {childList: true});\n",
              "}}\n",
              "\n",
              "// Listen for the clearing of the current output cell\n",
              "var outputEl = gd.closest('.output');\n",
              "if (outputEl) {{\n",
              "    x.observe(outputEl, {childList: true});\n",
              "}}\n",
              "\n",
              "                        })\n",
              "                };\n",
              "                \n",
              "            </script>\n",
              "        </div>\n",
              "</body>\n",
              "</html>"
            ]
          },
          "metadata": {}
        }
      ]
    },
    {
      "cell_type": "code",
      "metadata": {
        "id": "vHz4rbA5CNj9"
      },
      "source": [
        ""
      ],
      "execution_count": 213,
      "outputs": []
    },
    {
      "cell_type": "markdown",
      "metadata": {
        "id": "O9OWfjTFFdrD"
      },
      "source": [
        "## Now plot the locations of the transmitters and receivers"
      ]
    },
    {
      "cell_type": "code",
      "metadata": {
        "colab": {
          "base_uri": "https://localhost:8080/",
          "height": 542
        },
        "id": "76g4adLqFkG1",
        "outputId": "51d2b29d-2b1b-468e-d4fd-7a14b462afb2"
      },
      "source": [
        "fig = px.line_geo(\n",
        "    lon = [pairs_df['Transmitter_Longitude'].iloc[0], pairs_df['Receiver_Longitude'].iloc[0]],\n",
        "    lat = [pairs_df['Transmitter_Latitude'].iloc[0], pairs_df['Receiver_Latitude'].iloc[0]],\n",
        "    projection=\"orthographic\"\n",
        ")\n",
        "\n",
        "fig.show()"
      ],
      "execution_count": 214,
      "outputs": [
        {
          "output_type": "display_data",
          "data": {
            "text/html": [
              "<html>\n",
              "<head><meta charset=\"utf-8\" /></head>\n",
              "<body>\n",
              "    <div>\n",
              "            <script src=\"https://cdnjs.cloudflare.com/ajax/libs/mathjax/2.7.5/MathJax.js?config=TeX-AMS-MML_SVG\"></script><script type=\"text/javascript\">if (window.MathJax) {MathJax.Hub.Config({SVG: {font: \"STIX-Web\"}});}</script>\n",
              "                <script type=\"text/javascript\">window.PlotlyConfig = {MathJaxConfig: 'local'};</script>\n",
              "        <script src=\"https://cdn.plot.ly/plotly-latest.min.js\"></script>    \n",
              "            <div id=\"bae3bc79-88eb-4df3-bafd-a02da6651cde\" class=\"plotly-graph-div\" style=\"height:525px; width:100%;\"></div>\n",
              "            <script type=\"text/javascript\">\n",
              "                \n",
              "                    window.PLOTLYENV=window.PLOTLYENV || {};\n",
              "                    \n",
              "                if (document.getElementById(\"bae3bc79-88eb-4df3-bafd-a02da6651cde\")) {\n",
              "                    Plotly.newPlot(\n",
              "                        'bae3bc79-88eb-4df3-bafd-a02da6651cde',\n",
              "                        [{\"geo\": \"geo\", \"hoverlabel\": {\"namelength\": 0}, \"hovertemplate\": \"lat=%{lat}<br>lon=%{lon}\", \"lat\": [51.520833333333336, 55.22916666666667], \"legendgroup\": \"\", \"line\": {\"color\": \"#636efa\", \"dash\": \"solid\"}, \"lon\": [-0.2916666666666666, 12.291666666666666], \"mode\": \"lines\", \"name\": \"\", \"showlegend\": false, \"type\": \"scattergeo\"}],\n",
              "                        {\"geo\": {\"center\": {}, \"domain\": {\"x\": [0.0, 1.0], \"y\": [0.0, 1.0]}, \"projection\": {\"type\": \"orthographic\"}}, \"legend\": {\"tracegroupgap\": 0}, \"margin\": {\"t\": 60}, \"template\": {\"data\": {\"bar\": [{\"error_x\": {\"color\": \"#2a3f5f\"}, \"error_y\": {\"color\": \"#2a3f5f\"}, \"marker\": {\"line\": {\"color\": \"#E5ECF6\", \"width\": 0.5}}, \"type\": \"bar\"}], \"barpolar\": [{\"marker\": {\"line\": {\"color\": \"#E5ECF6\", \"width\": 0.5}}, \"type\": \"barpolar\"}], \"carpet\": [{\"aaxis\": {\"endlinecolor\": \"#2a3f5f\", \"gridcolor\": \"white\", \"linecolor\": \"white\", \"minorgridcolor\": \"white\", \"startlinecolor\": \"#2a3f5f\"}, \"baxis\": {\"endlinecolor\": \"#2a3f5f\", \"gridcolor\": \"white\", \"linecolor\": \"white\", \"minorgridcolor\": \"white\", \"startlinecolor\": \"#2a3f5f\"}, \"type\": \"carpet\"}], \"choropleth\": [{\"colorbar\": {\"outlinewidth\": 0, \"ticks\": \"\"}, \"type\": \"choropleth\"}], \"contour\": [{\"colorbar\": {\"outlinewidth\": 0, \"ticks\": \"\"}, \"colorscale\": [[0.0, \"#0d0887\"], [0.1111111111111111, \"#46039f\"], [0.2222222222222222, \"#7201a8\"], [0.3333333333333333, \"#9c179e\"], [0.4444444444444444, \"#bd3786\"], [0.5555555555555556, \"#d8576b\"], [0.6666666666666666, \"#ed7953\"], [0.7777777777777778, \"#fb9f3a\"], [0.8888888888888888, \"#fdca26\"], [1.0, \"#f0f921\"]], \"type\": \"contour\"}], \"contourcarpet\": [{\"colorbar\": {\"outlinewidth\": 0, \"ticks\": \"\"}, \"type\": \"contourcarpet\"}], \"heatmap\": [{\"colorbar\": {\"outlinewidth\": 0, \"ticks\": \"\"}, \"colorscale\": [[0.0, \"#0d0887\"], [0.1111111111111111, \"#46039f\"], [0.2222222222222222, \"#7201a8\"], [0.3333333333333333, \"#9c179e\"], [0.4444444444444444, \"#bd3786\"], [0.5555555555555556, \"#d8576b\"], [0.6666666666666666, \"#ed7953\"], [0.7777777777777778, \"#fb9f3a\"], [0.8888888888888888, \"#fdca26\"], [1.0, \"#f0f921\"]], \"type\": \"heatmap\"}], \"heatmapgl\": [{\"colorbar\": {\"outlinewidth\": 0, \"ticks\": \"\"}, \"colorscale\": [[0.0, \"#0d0887\"], [0.1111111111111111, \"#46039f\"], [0.2222222222222222, \"#7201a8\"], [0.3333333333333333, \"#9c179e\"], [0.4444444444444444, \"#bd3786\"], [0.5555555555555556, \"#d8576b\"], [0.6666666666666666, \"#ed7953\"], [0.7777777777777778, \"#fb9f3a\"], [0.8888888888888888, \"#fdca26\"], [1.0, \"#f0f921\"]], \"type\": \"heatmapgl\"}], \"histogram\": [{\"marker\": {\"colorbar\": {\"outlinewidth\": 0, \"ticks\": \"\"}}, \"type\": \"histogram\"}], \"histogram2d\": [{\"colorbar\": {\"outlinewidth\": 0, \"ticks\": \"\"}, \"colorscale\": [[0.0, \"#0d0887\"], [0.1111111111111111, \"#46039f\"], [0.2222222222222222, \"#7201a8\"], [0.3333333333333333, \"#9c179e\"], [0.4444444444444444, \"#bd3786\"], [0.5555555555555556, \"#d8576b\"], [0.6666666666666666, \"#ed7953\"], [0.7777777777777778, \"#fb9f3a\"], [0.8888888888888888, \"#fdca26\"], [1.0, \"#f0f921\"]], \"type\": \"histogram2d\"}], \"histogram2dcontour\": [{\"colorbar\": {\"outlinewidth\": 0, \"ticks\": \"\"}, \"colorscale\": [[0.0, \"#0d0887\"], [0.1111111111111111, \"#46039f\"], [0.2222222222222222, \"#7201a8\"], [0.3333333333333333, \"#9c179e\"], [0.4444444444444444, \"#bd3786\"], [0.5555555555555556, \"#d8576b\"], [0.6666666666666666, \"#ed7953\"], [0.7777777777777778, \"#fb9f3a\"], [0.8888888888888888, \"#fdca26\"], [1.0, \"#f0f921\"]], \"type\": \"histogram2dcontour\"}], \"mesh3d\": [{\"colorbar\": {\"outlinewidth\": 0, \"ticks\": \"\"}, \"type\": \"mesh3d\"}], \"parcoords\": [{\"line\": {\"colorbar\": {\"outlinewidth\": 0, \"ticks\": \"\"}}, \"type\": \"parcoords\"}], \"pie\": [{\"automargin\": true, \"type\": \"pie\"}], \"scatter\": [{\"marker\": {\"colorbar\": {\"outlinewidth\": 0, \"ticks\": \"\"}}, \"type\": \"scatter\"}], \"scatter3d\": [{\"line\": {\"colorbar\": {\"outlinewidth\": 0, \"ticks\": \"\"}}, \"marker\": {\"colorbar\": {\"outlinewidth\": 0, \"ticks\": \"\"}}, \"type\": \"scatter3d\"}], \"scattercarpet\": [{\"marker\": {\"colorbar\": {\"outlinewidth\": 0, \"ticks\": \"\"}}, \"type\": \"scattercarpet\"}], \"scattergeo\": [{\"marker\": {\"colorbar\": {\"outlinewidth\": 0, \"ticks\": \"\"}}, \"type\": \"scattergeo\"}], \"scattergl\": [{\"marker\": {\"colorbar\": {\"outlinewidth\": 0, \"ticks\": \"\"}}, \"type\": \"scattergl\"}], \"scattermapbox\": [{\"marker\": {\"colorbar\": {\"outlinewidth\": 0, \"ticks\": \"\"}}, \"type\": \"scattermapbox\"}], \"scatterpolar\": [{\"marker\": {\"colorbar\": {\"outlinewidth\": 0, \"ticks\": \"\"}}, \"type\": \"scatterpolar\"}], \"scatterpolargl\": [{\"marker\": {\"colorbar\": {\"outlinewidth\": 0, \"ticks\": \"\"}}, \"type\": \"scatterpolargl\"}], \"scatterternary\": [{\"marker\": {\"colorbar\": {\"outlinewidth\": 0, \"ticks\": \"\"}}, \"type\": \"scatterternary\"}], \"surface\": [{\"colorbar\": {\"outlinewidth\": 0, \"ticks\": \"\"}, \"colorscale\": [[0.0, \"#0d0887\"], [0.1111111111111111, \"#46039f\"], [0.2222222222222222, \"#7201a8\"], [0.3333333333333333, \"#9c179e\"], [0.4444444444444444, \"#bd3786\"], [0.5555555555555556, \"#d8576b\"], [0.6666666666666666, \"#ed7953\"], [0.7777777777777778, \"#fb9f3a\"], [0.8888888888888888, \"#fdca26\"], [1.0, \"#f0f921\"]], \"type\": \"surface\"}], \"table\": [{\"cells\": {\"fill\": {\"color\": \"#EBF0F8\"}, \"line\": {\"color\": \"white\"}}, \"header\": {\"fill\": {\"color\": \"#C8D4E3\"}, \"line\": {\"color\": \"white\"}}, \"type\": \"table\"}]}, \"layout\": {\"annotationdefaults\": {\"arrowcolor\": \"#2a3f5f\", \"arrowhead\": 0, \"arrowwidth\": 1}, \"coloraxis\": {\"colorbar\": {\"outlinewidth\": 0, \"ticks\": \"\"}}, \"colorscale\": {\"diverging\": [[0, \"#8e0152\"], [0.1, \"#c51b7d\"], [0.2, \"#de77ae\"], [0.3, \"#f1b6da\"], [0.4, \"#fde0ef\"], [0.5, \"#f7f7f7\"], [0.6, \"#e6f5d0\"], [0.7, \"#b8e186\"], [0.8, \"#7fbc41\"], [0.9, \"#4d9221\"], [1, \"#276419\"]], \"sequential\": [[0.0, \"#0d0887\"], [0.1111111111111111, \"#46039f\"], [0.2222222222222222, \"#7201a8\"], [0.3333333333333333, \"#9c179e\"], [0.4444444444444444, \"#bd3786\"], [0.5555555555555556, \"#d8576b\"], [0.6666666666666666, \"#ed7953\"], [0.7777777777777778, \"#fb9f3a\"], [0.8888888888888888, \"#fdca26\"], [1.0, \"#f0f921\"]], \"sequentialminus\": [[0.0, \"#0d0887\"], [0.1111111111111111, \"#46039f\"], [0.2222222222222222, \"#7201a8\"], [0.3333333333333333, \"#9c179e\"], [0.4444444444444444, \"#bd3786\"], [0.5555555555555556, \"#d8576b\"], [0.6666666666666666, \"#ed7953\"], [0.7777777777777778, \"#fb9f3a\"], [0.8888888888888888, \"#fdca26\"], [1.0, \"#f0f921\"]]}, \"colorway\": [\"#636efa\", \"#EF553B\", \"#00cc96\", \"#ab63fa\", \"#FFA15A\", \"#19d3f3\", \"#FF6692\", \"#B6E880\", \"#FF97FF\", \"#FECB52\"], \"font\": {\"color\": \"#2a3f5f\"}, \"geo\": {\"bgcolor\": \"white\", \"lakecolor\": \"white\", \"landcolor\": \"#E5ECF6\", \"showlakes\": true, \"showland\": true, \"subunitcolor\": \"white\"}, \"hoverlabel\": {\"align\": \"left\"}, \"hovermode\": \"closest\", \"mapbox\": {\"style\": \"light\"}, \"paper_bgcolor\": \"white\", \"plot_bgcolor\": \"#E5ECF6\", \"polar\": {\"angularaxis\": {\"gridcolor\": \"white\", \"linecolor\": \"white\", \"ticks\": \"\"}, \"bgcolor\": \"#E5ECF6\", \"radialaxis\": {\"gridcolor\": \"white\", \"linecolor\": \"white\", \"ticks\": \"\"}}, \"scene\": {\"xaxis\": {\"backgroundcolor\": \"#E5ECF6\", \"gridcolor\": \"white\", \"gridwidth\": 2, \"linecolor\": \"white\", \"showbackground\": true, \"ticks\": \"\", \"zerolinecolor\": \"white\"}, \"yaxis\": {\"backgroundcolor\": \"#E5ECF6\", \"gridcolor\": \"white\", \"gridwidth\": 2, \"linecolor\": \"white\", \"showbackground\": true, \"ticks\": \"\", \"zerolinecolor\": \"white\"}, \"zaxis\": {\"backgroundcolor\": \"#E5ECF6\", \"gridcolor\": \"white\", \"gridwidth\": 2, \"linecolor\": \"white\", \"showbackground\": true, \"ticks\": \"\", \"zerolinecolor\": \"white\"}}, \"shapedefaults\": {\"line\": {\"color\": \"#2a3f5f\"}}, \"ternary\": {\"aaxis\": {\"gridcolor\": \"white\", \"linecolor\": \"white\", \"ticks\": \"\"}, \"baxis\": {\"gridcolor\": \"white\", \"linecolor\": \"white\", \"ticks\": \"\"}, \"bgcolor\": \"#E5ECF6\", \"caxis\": {\"gridcolor\": \"white\", \"linecolor\": \"white\", \"ticks\": \"\"}}, \"title\": {\"x\": 0.05}, \"xaxis\": {\"automargin\": true, \"gridcolor\": \"white\", \"linecolor\": \"white\", \"ticks\": \"\", \"title\": {\"standoff\": 15}, \"zerolinecolor\": \"white\", \"zerolinewidth\": 2}, \"yaxis\": {\"automargin\": true, \"gridcolor\": \"white\", \"linecolor\": \"white\", \"ticks\": \"\", \"title\": {\"standoff\": 15}, \"zerolinecolor\": \"white\", \"zerolinewidth\": 2}}}},\n",
              "                        {\"responsive\": true}\n",
              "                    ).then(function(){\n",
              "                            \n",
              "var gd = document.getElementById('bae3bc79-88eb-4df3-bafd-a02da6651cde');\n",
              "var x = new MutationObserver(function (mutations, observer) {{\n",
              "        var display = window.getComputedStyle(gd).display;\n",
              "        if (!display || display === 'none') {{\n",
              "            console.log([gd, 'removed!']);\n",
              "            Plotly.purge(gd);\n",
              "            observer.disconnect();\n",
              "        }}\n",
              "}});\n",
              "\n",
              "// Listen for the removal of the full notebook cells\n",
              "var notebookContainer = gd.closest('#notebook-container');\n",
              "if (notebookContainer) {{\n",
              "    x.observe(notebookContainer, {childList: true});\n",
              "}}\n",
              "\n",
              "// Listen for the clearing of the current output cell\n",
              "var outputEl = gd.closest('.output');\n",
              "if (outputEl) {{\n",
              "    x.observe(outputEl, {childList: true});\n",
              "}}\n",
              "\n",
              "                        })\n",
              "                };\n",
              "                \n",
              "            </script>\n",
              "        </div>\n",
              "</body>\n",
              "</html>"
            ]
          },
          "metadata": {}
        }
      ]
    }
  ]
}